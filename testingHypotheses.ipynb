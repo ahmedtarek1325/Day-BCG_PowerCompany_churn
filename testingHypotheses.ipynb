{
 "cells": [
  {
   "cell_type": "code",
   "execution_count": 1,
   "id": "0e2b91e9",
   "metadata": {},
   "outputs": [],
   "source": [
    "from pipeline import * \n",
    "import pandas as pd \n",
    "from utilities.models import *\n",
    "from utilities.scores import *\n",
    "\n",
    "\n",
    "\n",
    "\n"
   ]
  },
  {
   "cell_type": "code",
   "execution_count": 2,
   "id": "39a88ff4",
   "metadata": {},
   "outputs": [],
   "source": [
    "from sklearn.linear_model import LogisticRegression\n",
    "from sklearn.ensemble import RandomForestClassifier\n",
    "\n",
    "\n"
   ]
  },
  {
   "cell_type": "code",
   "execution_count": 3,
   "id": "1c0dd4df",
   "metadata": {},
   "outputs": [
    {
     "name": "stdout",
     "output_type": "stream",
     "text": [
      "upsampled data \n",
      " 0    11230\n",
      "1     8422\n",
      "Name: churn, dtype: int64\n",
      "up and sampled data \n",
      " 0    8422\n",
      "1    8422\n",
      "Name: churn, dtype: int64\n"
     ]
    }
   ],
   "source": [
    "data= pd.read_csv(\"client_data.csv\",index_col=False)\n",
    "data_list= []\n",
    "for i in range(1,3):\n",
    "    X_train, X_test, y_train, y_test= simple_pipeline(data.copy(),i)\n",
    "    data_list.append((X_train, X_test, y_train, y_test))\n",
    "print(\"upsampled data \\n\",data_list[0][2].value_counts())\n",
    "print(\"up and sampled data \\n\",data_list[1][2].value_counts())\n"
   ]
  },
  {
   "cell_type": "code",
   "execution_count": 4,
   "id": "1fa8ed51",
   "metadata": {},
   "outputs": [],
   "source": [
    "data_loc= [\"FE.csv\",\"higher_order_data.csv\"]\n",
    "for file in data_loc:\n",
    "    data=pd.read_csv(file,index_col=False)\n",
    "    if \"id\" in data.columns: \n",
    "        data.drop(columns=[\"id\"],inplace=True)\n",
    "    if \"Unnamed: 0\" in data.columns: \n",
    "        data.drop(columns=[\"Unnamed: 0\"],inplace=True)\n",
    "    \n",
    "    for i in range(1,3):\n",
    "        X_train, X_test, y_train, y_test= simple_pipeline_cleaned_data(data,i)\n",
    "        data_list.append((X_train, X_test, y_train, y_test))\n",
    "    "
   ]
  },
  {
   "cell_type": "code",
   "execution_count": 5,
   "id": "256cae83",
   "metadata": {},
   "outputs": [
    {
     "data": {
      "text/plain": [
       "6"
      ]
     },
     "execution_count": 5,
     "metadata": {},
     "output_type": "execute_result"
    }
   ],
   "source": [
    "len(data_list)"
   ]
  },
  {
   "cell_type": "code",
   "execution_count": 6,
   "id": "f2940fa8",
   "metadata": {},
   "outputs": [],
   "source": [
    "score_dataframe= pd.DataFrame()"
   ]
  },
  {
   "cell_type": "markdown",
   "id": "e4ee7b5c",
   "metadata": {},
   "source": [
    "<B>The modelling logic</B>\n",
    "\n",
    "Before modelling complex models such as Random Forest orXGboost, I will try applying the diffferent data preperation on logistic regression and will pursue using the best fitted feature engineered data in testing the complex models. \n",
    "\n",
    "Afterwards, I will move to see the feature importance."
   ]
  },
  {
   "cell_type": "markdown",
   "id": "729f91f1",
   "metadata": {},
   "source": [
    "## Logistic Regression "
   ]
  },
  {
   "cell_type": "code",
   "execution_count": 7,
   "id": "72fe5490",
   "metadata": {
    "scrolled": true
   },
   "outputs": [
    {
     "name": "stdout",
     "output_type": "stream",
     "text": [
      "{'C': 2.5, 'penalty': 'l2'}\n",
      "Best Acc =  63.98774155652131\n",
      "Accuracy Score: 73.71 || precision_weighted accuracy: 82.30  || recall_weighted accuracy 73.71 || f1_weighted 77.37 || Area under curve 54.43\n",
      "Confusion matrix \n",
      "[[1545  412]\n",
      " [ 164   70]]\n"
     ]
    },
    {
     "name": "stderr",
     "output_type": "stream",
     "text": [
      "/tmp/ipykernel_8852/2922259470.py:8: FutureWarning: The frame.append method is deprecated and will be removed from pandas in a future version. Use pandas.concat instead.\n",
      "  score_dataframe= score_dataframe.append(pd.Series([*report_scores(y_test,y_predict)]),ignore_index=True)\n"
     ]
    },
    {
     "name": "stdout",
     "output_type": "stream",
     "text": [
      "----------------------\n",
      "{'C': 0.5, 'penalty': 'l1'}\n",
      "Best Acc =  70.30076287004057\n",
      "Accuracy Score: 66.04 || precision_weighted accuracy: 82.50  || recall_weighted accuracy 66.04 || f1_weighted 72.23 || Area under curve 55.03\n",
      "Confusion matrix \n",
      "[[1351  606]\n",
      " [ 138   96]]\n",
      "----------------------\n"
     ]
    },
    {
     "name": "stderr",
     "output_type": "stream",
     "text": [
      "/tmp/ipykernel_8852/2922259470.py:8: FutureWarning: The frame.append method is deprecated and will be removed from pandas in a future version. Use pandas.concat instead.\n",
      "  score_dataframe= score_dataframe.append(pd.Series([*report_scores(y_test,y_predict)]),ignore_index=True)\n"
     ]
    },
    {
     "name": "stdout",
     "output_type": "stream",
     "text": [
      "{'C': 4.0, 'penalty': 'l2'}\n",
      "Best Acc =  62.00335932127319\n",
      "Accuracy Score: 75.61 || precision_weighted accuracy: 85.03  || recall_weighted accuracy 75.61 || f1_weighted 79.51 || Area under curve 58.44\n",
      "Confusion matrix \n",
      "[[1560  398]\n",
      " [ 130   77]]\n",
      "----------------------\n"
     ]
    },
    {
     "name": "stderr",
     "output_type": "stream",
     "text": [
      "/tmp/ipykernel_8852/2922259470.py:8: FutureWarning: The frame.append method is deprecated and will be removed from pandas in a future version. Use pandas.concat instead.\n",
      "  score_dataframe= score_dataframe.append(pd.Series([*report_scores(y_test,y_predict)]),ignore_index=True)\n"
     ]
    },
    {
     "name": "stdout",
     "output_type": "stream",
     "text": [
      "{'C': 0.5, 'penalty': 'l1'}\n",
      "Best Acc =  69.0206131334165\n",
      "Accuracy Score: 66.74 || precision_weighted accuracy: 85.18  || recall_weighted accuracy 66.74 || f1_weighted 73.43 || Area under curve 58.72\n",
      "Confusion matrix \n",
      "[[1344  614]\n",
      " [ 106  101]]\n",
      "----------------------\n"
     ]
    },
    {
     "name": "stderr",
     "output_type": "stream",
     "text": [
      "/tmp/ipykernel_8852/2922259470.py:8: FutureWarning: The frame.append method is deprecated and will be removed from pandas in a future version. Use pandas.concat instead.\n",
      "  score_dataframe= score_dataframe.append(pd.Series([*report_scores(y_test,y_predict)]),ignore_index=True)\n"
     ]
    },
    {
     "name": "stdout",
     "output_type": "stream",
     "text": [
      "{'C': 1.0, 'penalty': 'l2'}\n",
      "Best Acc =  63.26800525176791\n",
      "Accuracy Score: 76.81 || precision_weighted accuracy: 85.29  || recall_weighted accuracy 76.81 || f1_weighted 80.34 || Area under curve 59.32\n",
      "Confusion matrix \n",
      "[[1585  373]\n",
      " [ 129   78]]\n",
      "----------------------\n"
     ]
    },
    {
     "name": "stderr",
     "output_type": "stream",
     "text": [
      "/tmp/ipykernel_8852/2922259470.py:8: FutureWarning: The frame.append method is deprecated and will be removed from pandas in a future version. Use pandas.concat instead.\n",
      "  score_dataframe= score_dataframe.append(pd.Series([*report_scores(y_test,y_predict)]),ignore_index=True)\n"
     ]
    },
    {
     "name": "stdout",
     "output_type": "stream",
     "text": [
      "{'C': 0.5, 'penalty': 'l1'}\n",
      "Best Acc =  69.84311752826659\n",
      "Accuracy Score: 67.94 || precision_weighted accuracy: 85.41  || recall_weighted accuracy 67.94 || f1_weighted 74.32 || Area under curve 59.60\n",
      "Confusion matrix \n",
      "[[1369  589]\n",
      " [ 105  102]]\n",
      "----------------------\n"
     ]
    },
    {
     "name": "stderr",
     "output_type": "stream",
     "text": [
      "/tmp/ipykernel_8852/2922259470.py:8: FutureWarning: The frame.append method is deprecated and will be removed from pandas in a future version. Use pandas.concat instead.\n",
      "  score_dataframe= score_dataframe.append(pd.Series([*report_scores(y_test,y_predict)]),ignore_index=True)\n"
     ]
    }
   ],
   "source": [
    "\n",
    "lr_list=[]\n",
    "for i,data in enumerate(data_list):\n",
    "    X_train,X_test, y_train, y_test= data\n",
    "    \n",
    "    lr,gr = logistic_regression(X_train, y_train)\n",
    "    y_predict= lr.predict(X_test)\n",
    "    \n",
    "    score_dataframe= score_dataframe.append(pd.Series([*report_scores(y_test,y_predict)]),ignore_index=True)\n",
    "    lr_list.append(lr)\n",
    "    print(\"----------------------\")"
   ]
  },
  {
   "cell_type": "code",
   "execution_count": 64,
   "id": "225743bb",
   "metadata": {},
   "outputs": [],
   "source": [
    "titles= [\"upsampled data\", \"up and down sampled data\",\n",
    "         \"US_merged_noOutliers_data\",\"UDS_merged_noOutliers\",\"US_clean_merged_Higher_order_variable\",\n",
    "         \"UDS_clean_merged_Higher_order_variable\"] \n",
    "columns= [\"accracy\",\"precision_weighted\",\"recall_weighted\",\"f1_weigthed\",\"auc\"] "
   ]
  },
  {
   "cell_type": "code",
   "execution_count": 20,
   "id": "5519c289",
   "metadata": {},
   "outputs": [],
   "source": [
    "score_dataframe.columns = columns\n",
    "score_dataframe.index= titles"
   ]
  },
  {
   "cell_type": "code",
   "execution_count": 21,
   "id": "4731a0b9",
   "metadata": {},
   "outputs": [
    {
     "data": {
      "text/html": [
       "<div>\n",
       "<style scoped>\n",
       "    .dataframe tbody tr th:only-of-type {\n",
       "        vertical-align: middle;\n",
       "    }\n",
       "\n",
       "    .dataframe tbody tr th {\n",
       "        vertical-align: top;\n",
       "    }\n",
       "\n",
       "    .dataframe thead th {\n",
       "        text-align: right;\n",
       "    }\n",
       "</style>\n",
       "<table border=\"1\" class=\"dataframe\">\n",
       "  <thead>\n",
       "    <tr style=\"text-align: right;\">\n",
       "      <th></th>\n",
       "      <th>accracy</th>\n",
       "      <th>precision_weighted</th>\n",
       "      <th>recall_weighted</th>\n",
       "      <th>f1_weigthed</th>\n",
       "      <th>auc</th>\n",
       "    </tr>\n",
       "  </thead>\n",
       "  <tbody>\n",
       "    <tr>\n",
       "      <th>upsampled data</th>\n",
       "      <td>73.710634</td>\n",
       "      <td>82.299621</td>\n",
       "      <td>73.710634</td>\n",
       "      <td>77.374321</td>\n",
       "      <td>54.430949</td>\n",
       "    </tr>\n",
       "    <tr>\n",
       "      <th>up and down sampled data</th>\n",
       "      <td>66.042903</td>\n",
       "      <td>82.502324</td>\n",
       "      <td>66.042903</td>\n",
       "      <td>72.226327</td>\n",
       "      <td>55.029939</td>\n",
       "    </tr>\n",
       "    <tr>\n",
       "      <th>US_merged_noOutliers_data</th>\n",
       "      <td>75.612009</td>\n",
       "      <td>85.031889</td>\n",
       "      <td>75.612009</td>\n",
       "      <td>79.507954</td>\n",
       "      <td>58.435602</td>\n",
       "    </tr>\n",
       "    <tr>\n",
       "      <th>UDS_merged_noOutliers</th>\n",
       "      <td>66.743649</td>\n",
       "      <td>85.178014</td>\n",
       "      <td>66.743649</td>\n",
       "      <td>73.426764</td>\n",
       "      <td>58.716871</td>\n",
       "    </tr>\n",
       "    <tr>\n",
       "      <th>US_clean_merged_Higher_order_variable</th>\n",
       "      <td>76.812933</td>\n",
       "      <td>85.285745</td>\n",
       "      <td>76.812933</td>\n",
       "      <td>80.341678</td>\n",
       "      <td>59.315554</td>\n",
       "    </tr>\n",
       "    <tr>\n",
       "      <th>UDS_clean_merged_Higher_order_variable</th>\n",
       "      <td>67.944573</td>\n",
       "      <td>85.407765</td>\n",
       "      <td>67.944573</td>\n",
       "      <td>74.322799</td>\n",
       "      <td>59.596823</td>\n",
       "    </tr>\n",
       "  </tbody>\n",
       "</table>\n",
       "</div>"
      ],
      "text/plain": [
       "                                          accracy  precision_weighted  \\\n",
       "upsampled data                          73.710634           82.299621   \n",
       "up and down sampled data                66.042903           82.502324   \n",
       "US_merged_noOutliers_data               75.612009           85.031889   \n",
       "UDS_merged_noOutliers                   66.743649           85.178014   \n",
       "US_clean_merged_Higher_order_variable   76.812933           85.285745   \n",
       "UDS_clean_merged_Higher_order_variable  67.944573           85.407765   \n",
       "\n",
       "                                        recall_weighted  f1_weigthed  \\\n",
       "upsampled data                                73.710634    77.374321   \n",
       "up and down sampled data                      66.042903    72.226327   \n",
       "US_merged_noOutliers_data                     75.612009    79.507954   \n",
       "UDS_merged_noOutliers                         66.743649    73.426764   \n",
       "US_clean_merged_Higher_order_variable         76.812933    80.341678   \n",
       "UDS_clean_merged_Higher_order_variable        67.944573    74.322799   \n",
       "\n",
       "                                              auc  \n",
       "upsampled data                          54.430949  \n",
       "up and down sampled data                55.029939  \n",
       "US_merged_noOutliers_data               58.435602  \n",
       "UDS_merged_noOutliers                   58.716871  \n",
       "US_clean_merged_Higher_order_variable   59.315554  \n",
       "UDS_clean_merged_Higher_order_variable  59.596823  "
      ]
     },
     "execution_count": 21,
     "metadata": {},
     "output_type": "execute_result"
    }
   ],
   "source": [
    "score_dataframe"
   ]
  },
  {
   "cell_type": "code",
   "execution_count": 11,
   "id": "819c3ae8",
   "metadata": {},
   "outputs": [],
   "source": [
    "X_train,X_test, y_train, y_test= data_list[4]\n",
    "model_scores= pd.DataFrame()\n",
    "rows= [] "
   ]
  },
  {
   "cell_type": "markdown",
   "id": "7c60a716",
   "metadata": {},
   "source": [
    "## Random Forest "
   ]
  },
  {
   "cell_type": "code",
   "execution_count": 12,
   "id": "b4d00fb8",
   "metadata": {},
   "outputs": [
    {
     "name": "stdout",
     "output_type": "stream",
     "text": [
      "{'min_samples_split': 15, 'min_samples_leaf': 10, 'max_depth': 70, 'criterion': 'gini'}\n",
      "Best Acc =  87.87783152716653\n"
     ]
    }
   ],
   "source": [
    "rf_random_search = random_forest_random_search(X_train,y_train)"
   ]
  },
  {
   "cell_type": "code",
   "execution_count": 13,
   "id": "896fa2a1",
   "metadata": {},
   "outputs": [
    {
     "name": "stdout",
     "output_type": "stream",
     "text": [
      "{'criterion': 'gini', 'max_depth': 15, 'min_samples_leaf': 12, 'min_samples_split': 24}\n",
      "Best Acc =  86.23639606974403\n"
     ]
    }
   ],
   "source": [
    "'''\n",
    "hp= {\"criterion\":['gini'],\n",
    "     'max_depth':[15],\n",
    "     'min_samples_split':np.arange(23,27,1),\n",
    "     'min_samples_leaf':np.arange(12,17,1)}\n",
    "rf_model,grid= random_forest(X_train,y_train,hp)\n",
    "'''"
   ]
  },
  {
   "cell_type": "code",
   "execution_count": 15,
   "id": "2f02afaa",
   "metadata": {},
   "outputs": [
    {
     "name": "stdout",
     "output_type": "stream",
     "text": [
      "{'criterion': 'gini', 'max_depth': 15, 'min_samples_leaf': 12, 'min_samples_split': 24}\n",
      "Best Acc =  86.06515596933922\n"
     ]
    }
   ],
   "source": [
    "rf_model,_= random_forest(X_train,y_train,{'criterion': ['gini'], 'max_depth': [15], 'min_samples_leaf': [12], 'min_samples_split': [24]})"
   ]
  },
  {
   "cell_type": "code",
   "execution_count": 16,
   "id": "57fdaedb",
   "metadata": {},
   "outputs": [
    {
     "name": "stdout",
     "output_type": "stream",
     "text": [
      "Accuracy Score: 88.22 || precision_weighted accuracy: 85.53  || recall_weighted accuracy 88.22 || f1_weighted 86.65 || Area under curve 55.90\n",
      "Confusion matrix \n",
      "[[1877   81]\n",
      " [ 174   33]]\n"
     ]
    },
    {
     "name": "stderr",
     "output_type": "stream",
     "text": [
      "/tmp/ipykernel_8852/2854253395.py:2: FutureWarning: The frame.append method is deprecated and will be removed from pandas in a future version. Use pandas.concat instead.\n",
      "  model_scores= model_scores.append(pd.Series([*report_scores(y_test,y_predict)]),ignore_index=True)\n"
     ]
    }
   ],
   "source": [
    "y_predict= rf_model.predict(X_test)\n",
    "model_scores= model_scores.append(pd.Series([*report_scores(y_test,y_predict)]),ignore_index=True)\n",
    "rows+=[\"Random Forest\"]"
   ]
  },
  {
   "cell_type": "markdown",
   "id": "6ff940ce",
   "metadata": {},
   "source": [
    "## SVC "
   ]
  },
  {
   "cell_type": "code",
   "execution_count": null,
   "id": "eefd44a8",
   "metadata": {},
   "outputs": [],
   "source": [
    "svc_random_search= SVC_random_search(X_train,y_train)"
   ]
  },
  {
   "cell_type": "code",
   "execution_count": null,
   "id": "a6605869",
   "metadata": {},
   "outputs": [],
   "source": [
    "hp= {\"kernel\":['rbf'],\n",
    "     'gamma':[15],\n",
    "     'C':np.arange(23,27,1)}\n",
    "svc_model,grid= SVC_grid(X_train,y_train,hp)"
   ]
  },
  {
   "cell_type": "code",
   "execution_count": null,
   "id": "3a77ae46",
   "metadata": {},
   "outputs": [],
   "source": [
    "y_predict= svc_model.predict(X_test)\n",
    "model_scores= model_scores.append(pd.Series([*report_scores(y_test,y_predict)]),ignore_index=True)\n",
    "rows+=[\"SVC\"]"
   ]
  },
  {
   "cell_type": "markdown",
   "id": "0d1ab3fe",
   "metadata": {},
   "source": [
    "## XGBoost"
   ]
  },
  {
   "cell_type": "code",
   "execution_count": 17,
   "id": "a445b9d6",
   "metadata": {},
   "outputs": [
    {
     "data": {
      "text/plain": [
       "XGBClassifier(base_score=0.5, booster='gbtree', callbacks=None,\n",
       "              colsample_bylevel=1, colsample_bynode=1, colsample_bytree=1,\n",
       "              early_stopping_rounds=None, enable_categorical=False,\n",
       "              eval_metric=None, gamma=0.0, gpu_id=-1, grow_policy='depthwise',\n",
       "              importance_type=None, interaction_constraints='',\n",
       "              learning_rate=0.2, max_bin=256, max_cat_to_onehot=4,\n",
       "              max_delta_step=0, max_depth=8, max_leaves=0, min_child_weight=1,\n",
       "              missing=nan, monotone_constraints='()', n_estimators=100,\n",
       "              n_jobs=0, num_parallel_tree=1, predictor='auto', random_state=0,\n",
       "              reg_alpha=0, reg_lambda=1, ...)"
      ]
     },
     "execution_count": 17,
     "metadata": {},
     "output_type": "execute_result"
    }
   ],
   "source": [
    "#xgb, rand_Search = XGB_random_Search(X_train,y_train)\n",
    "xgb = XGB.XGBClassifier(**{'max_depth': 8, 'learning_rate': 0.2, 'gamma': 0.0})\n",
    "xgb.fit(X_train,y_train)"
   ]
  },
  {
   "cell_type": "code",
   "execution_count": 18,
   "id": "861ba7a8",
   "metadata": {},
   "outputs": [
    {
     "name": "stdout",
     "output_type": "stream",
     "text": [
      "Accuracy Score: 90.35 || precision_weighted accuracy: 87.57  || recall_weighted accuracy 90.35 || f1_weighted 88.07 || Area under curve 57.08\n",
      "Confusion matrix \n",
      "[[1923   35]\n",
      " [ 174   33]]\n"
     ]
    },
    {
     "name": "stderr",
     "output_type": "stream",
     "text": [
      "/tmp/ipykernel_8852/3891498325.py:2: FutureWarning: The frame.append method is deprecated and will be removed from pandas in a future version. Use pandas.concat instead.\n",
      "  model_scores= model_scores.append(pd.Series([*report_scores(y_test,y_predict)]),ignore_index=True)\n"
     ]
    }
   ],
   "source": [
    "y_predict= xgb.predict(X_test)\n",
    "model_scores= model_scores.append(pd.Series([*report_scores(y_test,y_predict)]),ignore_index=True)\n",
    "rows+=[\"XGBoost\"]"
   ]
  },
  {
   "cell_type": "markdown",
   "id": "5eb2e0f9",
   "metadata": {},
   "source": [
    "## Score Summary "
   ]
  },
  {
   "cell_type": "code",
   "execution_count": 66,
   "id": "1c367cc1",
   "metadata": {},
   "outputs": [
    {
     "data": {
      "text/html": [
       "<div>\n",
       "<style scoped>\n",
       "    .dataframe tbody tr th:only-of-type {\n",
       "        vertical-align: middle;\n",
       "    }\n",
       "\n",
       "    .dataframe tbody tr th {\n",
       "        vertical-align: top;\n",
       "    }\n",
       "\n",
       "    .dataframe thead th {\n",
       "        text-align: right;\n",
       "    }\n",
       "</style>\n",
       "<table border=\"1\" class=\"dataframe\">\n",
       "  <thead>\n",
       "    <tr style=\"text-align: right;\">\n",
       "      <th></th>\n",
       "      <th>accracy</th>\n",
       "      <th>precision_weighted</th>\n",
       "      <th>recall_weighted</th>\n",
       "      <th>f1_weigthed</th>\n",
       "      <th>auc</th>\n",
       "    </tr>\n",
       "  </thead>\n",
       "  <tbody>\n",
       "    <tr>\n",
       "      <th>Random Forest</th>\n",
       "      <td>88.221709</td>\n",
       "      <td>85.533989</td>\n",
       "      <td>88.221709</td>\n",
       "      <td>86.652123</td>\n",
       "      <td>55.902577</td>\n",
       "    </tr>\n",
       "    <tr>\n",
       "      <th>XGBoost</th>\n",
       "      <td>90.346420</td>\n",
       "      <td>87.574573</td>\n",
       "      <td>90.346420</td>\n",
       "      <td>88.072153</td>\n",
       "      <td>57.077245</td>\n",
       "    </tr>\n",
       "  </tbody>\n",
       "</table>\n",
       "</div>"
      ],
      "text/plain": [
       "                 accracy  precision_weighted  recall_weighted  f1_weigthed  \\\n",
       "Random Forest  88.221709           85.533989        88.221709    86.652123   \n",
       "XGBoost        90.346420           87.574573        90.346420    88.072153   \n",
       "\n",
       "                     auc  \n",
       "Random Forest  55.902577  \n",
       "XGBoost        57.077245  "
      ]
     },
     "execution_count": 66,
     "metadata": {},
     "output_type": "execute_result"
    }
   ],
   "source": [
    "model_scores.columns=columns\n",
    "model_scores.index=rows\n",
    "model_scores"
   ]
  },
  {
   "cell_type": "markdown",
   "id": "6a68b3db",
   "metadata": {},
   "source": [
    "## Feature Importance "
   ]
  },
  {
   "cell_type": "markdown",
   "id": "a79e4ca6",
   "metadata": {},
   "source": [
    "### Showing the results of the random forest overfitting"
   ]
  },
  {
   "cell_type": "code",
   "execution_count": 24,
   "id": "d32f61f6",
   "metadata": {},
   "outputs": [
    {
     "data": {
      "image/png": "[encoded data removed]",
      "text/plain": [
       "<Figure size 504x504 with 1 Axes>"
      ]
     },
     "metadata": {
      "needs_background": "light"
     },
     "output_type": "display_data"
    }
   ],
   "source": [
    "plt.figure(figsize=(7,7))\n",
    "feat_importances = pd.Series(rf_model.feature_importances_, index = X_train.columns).sort_values(ascending = True)\n",
    "feat_importances.plot(kind = 'barh');\n"
   ]
  },
  {
   "cell_type": "code",
   "execution_count": 22,
   "id": "63cb0de8",
   "metadata": {},
   "outputs": [
    {
     "data": {
      "image/png": "[encoded data removed]",
      "text/plain": [
       "<Figure size 1080x360 with 2 Axes>"
      ]
     },
     "metadata": {
      "needs_background": "light"
     },
     "output_type": "display_data"
    }
   ],
   "source": [
    "from sklearn.inspection import permutation_importance\n",
    "#calculate permutation importance for test data \n",
    "result_test = permutation_importance(\n",
    "    rf_model, X_test, y_test, n_repeats=20, random_state=42, n_jobs=2\n",
    ")\n",
    "\n",
    "sorted_importances_idx_test = result_test.importances_mean.argsort()\n",
    "importances_test = pd.DataFrame(\n",
    "    result_test.importances[sorted_importances_idx_test].T,\n",
    "    columns=X_train.columns[sorted_importances_idx_test],\n",
    ")\n",
    "\n",
    "#calculate permutation importance for training data \n",
    "result_train = permutation_importance(\n",
    "    rf_model, X_train, y_train, n_repeats=20, random_state=42, n_jobs=2\n",
    ")\n",
    "\n",
    "sorted_importances_idx_train = result_train.importances_mean.argsort()\n",
    "importances_train = pd.DataFrame(\n",
    "    result_train.importances[sorted_importances_idx_train].T,\n",
    "    columns=X_train.columns[sorted_importances_idx_train],\n",
    ")\n",
    "\n",
    "f, axs = plt.subplots(1,2,figsize=(15,5))\n",
    "\n",
    "importances_test.plot.box(vert=False, whis=10, ax = axs[0])\n",
    "axs[0].set_title(\"Permutation Importances (test set)\")\n",
    "axs[0].axvline(x=0, color=\"k\", linestyle=\"--\")\n",
    "axs[0].set_xlabel(\"Decrease in accuracy score\")\n",
    "axs[0].figure.tight_layout()\n",
    "\n",
    "importances_train.plot.box(vert=False, whis=10, ax = axs[1])\n",
    "axs[1].set_title(\"Permutation Importances (train set)\")\n",
    "axs[1].axvline(x=0, color=\"k\", linestyle=\"--\")\n",
    "axs[1].set_xlabel(\"Decrease in accuracy score\")\n",
    "axs[1].figure.tight_layout()"
   ]
  },
  {
   "cell_type": "markdown",
   "id": "586f60e4",
   "metadata": {},
   "source": [
    "### Studying The feature Importance for Logistic reression"
   ]
  },
  {
   "cell_type": "code",
   "execution_count": 23,
   "id": "50045afc",
   "metadata": {
    "scrolled": false
   },
   "outputs": [
    {
     "data": {
      "text/plain": [
       "array([[-0.70054815, -0.2220118 ,  0.19160407, -0.38666572, -0.0571048 ,\n",
       "         1.33912059,  0.41042363, -0.32644727, -0.39498669, -0.91139473,\n",
       "        -0.45570797, -2.0482689 , -0.99389598, -1.71107004, -1.56750217,\n",
       "        -3.81187503, -3.66197827, -2.87347985, -0.12530618, -0.03982674,\n",
       "        -0.27070649,  0.52738151,  1.3784929 , -1.57746806, -0.10209182,\n",
       "         1.12727318,  0.16254859]])"
      ]
     },
     "execution_count": 23,
     "metadata": {},
     "output_type": "execute_result"
    }
   ],
   "source": [
    "lr_list[4].coef_\n"
   ]
  },
  {
   "cell_type": "code",
   "execution_count": 46,
   "id": "181d8b28",
   "metadata": {},
   "outputs": [
    {
     "data": {
      "text/html": [
       "<div>\n",
       "<style scoped>\n",
       "    .dataframe tbody tr th:only-of-type {\n",
       "        vertical-align: middle;\n",
       "    }\n",
       "\n",
       "    .dataframe tbody tr th {\n",
       "        vertical-align: top;\n",
       "    }\n",
       "\n",
       "    .dataframe thead th {\n",
       "        text-align: right;\n",
       "    }\n",
       "</style>\n",
       "<table border=\"1\" class=\"dataframe\">\n",
       "  <thead>\n",
       "    <tr style=\"text-align: right;\">\n",
       "      <th></th>\n",
       "      <th>features</th>\n",
       "      <th>coef</th>\n",
       "      <th>exp_Beta</th>\n",
       "      <th>effect_in_percentage</th>\n",
       "    </tr>\n",
       "  </thead>\n",
       "  <tbody>\n",
       "    <tr>\n",
       "      <th>0</th>\n",
       "      <td>cons_12m</td>\n",
       "      <td>[-0.7005481505206428]</td>\n",
       "      <td>[0.4963131748892063]</td>\n",
       "      <td>[50.36868251107938]</td>\n",
       "    </tr>\n",
       "    <tr>\n",
       "      <th>1</th>\n",
       "      <td>cons_gas_12m</td>\n",
       "      <td>[-0.2220117987799681]</td>\n",
       "      <td>[0.8009059145662503]</td>\n",
       "      <td>[19.909408543374973]</td>\n",
       "    </tr>\n",
       "    <tr>\n",
       "      <th>2</th>\n",
       "      <td>forecast_meter_rent_12m</td>\n",
       "      <td>[0.19160406534696692]</td>\n",
       "      <td>[1.211190869579952]</td>\n",
       "      <td>[21.119086957995204]</td>\n",
       "    </tr>\n",
       "    <tr>\n",
       "      <th>3</th>\n",
       "      <td>forecast_price_energy_off_peak</td>\n",
       "      <td>[-0.3866657239205641]</td>\n",
       "      <td>[0.679318136780645]</td>\n",
       "      <td>[32.0681863219355]</td>\n",
       "    </tr>\n",
       "    <tr>\n",
       "      <th>4</th>\n",
       "      <td>imp_cons</td>\n",
       "      <td>[-0.057104796834701065]</td>\n",
       "      <td>[0.944495084084739]</td>\n",
       "      <td>[5.550491591526097]</td>\n",
       "    </tr>\n",
       "    <tr>\n",
       "      <th>5</th>\n",
       "      <td>margin_gross_pow_ele</td>\n",
       "      <td>[1.3391205901940164]</td>\n",
       "      <td>[3.8156864773762553]</td>\n",
       "      <td>[281.56864773762555]</td>\n",
       "    </tr>\n",
       "    <tr>\n",
       "      <th>6</th>\n",
       "      <td>net_margin</td>\n",
       "      <td>[0.4104236349421441]</td>\n",
       "      <td>[1.5074562610088724]</td>\n",
       "      <td>[50.74562610088724]</td>\n",
       "    </tr>\n",
       "    <tr>\n",
       "      <th>7</th>\n",
       "      <td>num_years_antig</td>\n",
       "      <td>[-0.32644726992476364]</td>\n",
       "      <td>[0.7214824178677793]</td>\n",
       "      <td>[27.851758213222066]</td>\n",
       "    </tr>\n",
       "    <tr>\n",
       "      <th>8</th>\n",
       "      <td>pow_max</td>\n",
       "      <td>[-0.39498668730372205]</td>\n",
       "      <td>[0.6736890078063164]</td>\n",
       "      <td>[32.631099219368366]</td>\n",
       "    </tr>\n",
       "    <tr>\n",
       "      <th>9</th>\n",
       "      <td>date_end_offpeak</td>\n",
       "      <td>[-0.9113947299449984]</td>\n",
       "      <td>[0.4019632027723104]</td>\n",
       "      <td>[59.80367972276896]</td>\n",
       "    </tr>\n",
       "    <tr>\n",
       "      <th>10</th>\n",
       "      <td>date_end_peak</td>\n",
       "      <td>[-0.45570797494332754]</td>\n",
       "      <td>[0.6339989536482674]</td>\n",
       "      <td>[36.60010463517326]</td>\n",
       "    </tr>\n",
       "    <tr>\n",
       "      <th>11</th>\n",
       "      <td>channel_sales_ewpakwlliwisiwduibdlfmalxowmwpci</td>\n",
       "      <td>[-2.0482688980494426]</td>\n",
       "      <td>[0.12895794983270423]</td>\n",
       "      <td>[87.10420501672958]</td>\n",
       "    </tr>\n",
       "    <tr>\n",
       "      <th>12</th>\n",
       "      <td>channel_sales_foosdfpfkusacimwkcsosbicdxkicaua</td>\n",
       "      <td>[-0.9938959813234358]</td>\n",
       "      <td>[0.3701318515349896]</td>\n",
       "      <td>[62.98681484650104]</td>\n",
       "    </tr>\n",
       "    <tr>\n",
       "      <th>13</th>\n",
       "      <td>channel_sales_lmkebamcaaclubfxadlmueccxoimlema</td>\n",
       "      <td>[-1.711070042212141]</td>\n",
       "      <td>[0.18067236209215917]</td>\n",
       "      <td>[81.93276379078408]</td>\n",
       "    </tr>\n",
       "    <tr>\n",
       "      <th>14</th>\n",
       "      <td>channel_sales_usilxuppasemubllopkaafesmlibmsdf</td>\n",
       "      <td>[-1.5675021675853675]</td>\n",
       "      <td>[0.20856549391222826]</td>\n",
       "      <td>[79.14345060877717]</td>\n",
       "    </tr>\n",
       "    <tr>\n",
       "      <th>15</th>\n",
       "      <td>origin_up_kamkkxfxxuwbdslkwifmmcsiusiuosws</td>\n",
       "      <td>[-3.8118750287703227]</td>\n",
       "      <td>[0.022106689393500783]</td>\n",
       "      <td>[97.78933106064991]</td>\n",
       "    </tr>\n",
       "    <tr>\n",
       "      <th>16</th>\n",
       "      <td>origin_up_ldkssxwpmemidmecebumciepifcamkci</td>\n",
       "      <td>[-3.661978272849377]</td>\n",
       "      <td>[0.02568165711481048]</td>\n",
       "      <td>[97.43183428851894]</td>\n",
       "    </tr>\n",
       "    <tr>\n",
       "      <th>17</th>\n",
       "      <td>origin_up_lxidpiddsbxsbosboudacockeimpuepw</td>\n",
       "      <td>[-2.8734798460686863]</td>\n",
       "      <td>[0.05650196593820161]</td>\n",
       "      <td>[94.34980340617984]</td>\n",
       "    </tr>\n",
       "    <tr>\n",
       "      <th>18</th>\n",
       "      <td>months_to_end</td>\n",
       "      <td>[-0.12530617788578746]</td>\n",
       "      <td>[0.8822267429093177]</td>\n",
       "      <td>[11.777325709068231]</td>\n",
       "    </tr>\n",
       "    <tr>\n",
       "      <th>19</th>\n",
       "      <td>months_modif_prod</td>\n",
       "      <td>[-0.03982673747796285]</td>\n",
       "      <td>[0.9609559223759325]</td>\n",
       "      <td>[3.9044077624067475]</td>\n",
       "    </tr>\n",
       "    <tr>\n",
       "      <th>20</th>\n",
       "      <td>months_renewal</td>\n",
       "      <td>[-0.2707064900335455]</td>\n",
       "      <td>[0.7628403647995382]</td>\n",
       "      <td>[23.71596352004618]</td>\n",
       "    </tr>\n",
       "    <tr>\n",
       "      <th>21</th>\n",
       "      <td>mean_year_price_p1</td>\n",
       "      <td>[0.5273815089746867]</td>\n",
       "      <td>[1.6944894888961175]</td>\n",
       "      <td>[69.44894888961176]</td>\n",
       "    </tr>\n",
       "    <tr>\n",
       "      <th>22</th>\n",
       "      <td>mean_year_price_p2</td>\n",
       "      <td>[1.3784929034666558]</td>\n",
       "      <td>[3.9689155789411075]</td>\n",
       "      <td>[296.89155789411075]</td>\n",
       "    </tr>\n",
       "    <tr>\n",
       "      <th>23</th>\n",
       "      <td>mean_year_price_p3</td>\n",
       "      <td>[-1.5774680623995792]</td>\n",
       "      <td>[0.20649727508145246]</td>\n",
       "      <td>[79.35027249185475]</td>\n",
       "    </tr>\n",
       "    <tr>\n",
       "      <th>24</th>\n",
       "      <td>cons_per_price</td>\n",
       "      <td>[-0.10209182039757347]</td>\n",
       "      <td>[0.90294663894302]</td>\n",
       "      <td>[9.705336105698004]</td>\n",
       "    </tr>\n",
       "    <tr>\n",
       "      <th>25</th>\n",
       "      <td>cons_ele_per_margin</td>\n",
       "      <td>[1.127273181660626]</td>\n",
       "      <td>[3.0872267056901377]</td>\n",
       "      <td>[208.72267056901376]</td>\n",
       "    </tr>\n",
       "    <tr>\n",
       "      <th>26</th>\n",
       "      <td>cons_per_margin</td>\n",
       "      <td>[0.1625485899657314]</td>\n",
       "      <td>[1.1765054834209794]</td>\n",
       "      <td>[17.650548342097938]</td>\n",
       "    </tr>\n",
       "  </tbody>\n",
       "</table>\n",
       "</div>"
      ],
      "text/plain": [
       "                                          features                     coef  \\\n",
       "0                                         cons_12m    [-0.7005481505206428]   \n",
       "1                                     cons_gas_12m    [-0.2220117987799681]   \n",
       "2                          forecast_meter_rent_12m    [0.19160406534696692]   \n",
       "3                   forecast_price_energy_off_peak    [-0.3866657239205641]   \n",
       "4                                         imp_cons  [-0.057104796834701065]   \n",
       "5                             margin_gross_pow_ele     [1.3391205901940164]   \n",
       "6                                       net_margin     [0.4104236349421441]   \n",
       "7                                  num_years_antig   [-0.32644726992476364]   \n",
       "8                                          pow_max   [-0.39498668730372205]   \n",
       "9                                 date_end_offpeak    [-0.9113947299449984]   \n",
       "10                                   date_end_peak   [-0.45570797494332754]   \n",
       "11  channel_sales_ewpakwlliwisiwduibdlfmalxowmwpci    [-2.0482688980494426]   \n",
       "12  channel_sales_foosdfpfkusacimwkcsosbicdxkicaua    [-0.9938959813234358]   \n",
       "13  channel_sales_lmkebamcaaclubfxadlmueccxoimlema     [-1.711070042212141]   \n",
       "14  channel_sales_usilxuppasemubllopkaafesmlibmsdf    [-1.5675021675853675]   \n",
       "15      origin_up_kamkkxfxxuwbdslkwifmmcsiusiuosws    [-3.8118750287703227]   \n",
       "16      origin_up_ldkssxwpmemidmecebumciepifcamkci     [-3.661978272849377]   \n",
       "17      origin_up_lxidpiddsbxsbosboudacockeimpuepw    [-2.8734798460686863]   \n",
       "18                                   months_to_end   [-0.12530617788578746]   \n",
       "19                               months_modif_prod   [-0.03982673747796285]   \n",
       "20                                  months_renewal    [-0.2707064900335455]   \n",
       "21                              mean_year_price_p1     [0.5273815089746867]   \n",
       "22                              mean_year_price_p2     [1.3784929034666558]   \n",
       "23                              mean_year_price_p3    [-1.5774680623995792]   \n",
       "24                                  cons_per_price   [-0.10209182039757347]   \n",
       "25                             cons_ele_per_margin      [1.127273181660626]   \n",
       "26                                 cons_per_margin     [0.1625485899657314]   \n",
       "\n",
       "                  exp_Beta  effect_in_percentage  \n",
       "0     [0.4963131748892063]   [50.36868251107938]  \n",
       "1     [0.8009059145662503]  [19.909408543374973]  \n",
       "2      [1.211190869579952]  [21.119086957995204]  \n",
       "3      [0.679318136780645]    [32.0681863219355]  \n",
       "4      [0.944495084084739]   [5.550491591526097]  \n",
       "5     [3.8156864773762553]  [281.56864773762555]  \n",
       "6     [1.5074562610088724]   [50.74562610088724]  \n",
       "7     [0.7214824178677793]  [27.851758213222066]  \n",
       "8     [0.6736890078063164]  [32.631099219368366]  \n",
       "9     [0.4019632027723104]   [59.80367972276896]  \n",
       "10    [0.6339989536482674]   [36.60010463517326]  \n",
       "11   [0.12895794983270423]   [87.10420501672958]  \n",
       "12    [0.3701318515349896]   [62.98681484650104]  \n",
       "13   [0.18067236209215917]   [81.93276379078408]  \n",
       "14   [0.20856549391222826]   [79.14345060877717]  \n",
       "15  [0.022106689393500783]   [97.78933106064991]  \n",
       "16   [0.02568165711481048]   [97.43183428851894]  \n",
       "17   [0.05650196593820161]   [94.34980340617984]  \n",
       "18    [0.8822267429093177]  [11.777325709068231]  \n",
       "19    [0.9609559223759325]  [3.9044077624067475]  \n",
       "20    [0.7628403647995382]   [23.71596352004618]  \n",
       "21    [1.6944894888961175]   [69.44894888961176]  \n",
       "22    [3.9689155789411075]  [296.89155789411075]  \n",
       "23   [0.20649727508145246]   [79.35027249185475]  \n",
       "24      [0.90294663894302]   [9.705336105698004]  \n",
       "25    [3.0872267056901377]  [208.72267056901376]  \n",
       "26    [1.1765054834209794]  [17.650548342097938]  "
      ]
     },
     "execution_count": 46,
     "metadata": {},
     "output_type": "execute_result"
    }
   ],
   "source": [
    "coeff= np.transpose(lr_list[4].coef_)\n",
    "feat_importance= pd.DataFrame(zip(data_list[4][0].columns, np.transpose(lr_list[4].coef_),np.exp(coeff)), \n",
    "             columns=['features', 'coef','exp_Beta'])\n",
    "\n",
    "feat_importance[\"effect_in_percentage\"]= abs(feat_importance.exp_Beta - 1)*100\n",
    "feat_importance"
   ]
  },
  {
   "cell_type": "code",
   "execution_count": 47,
   "id": "5f09bd4c",
   "metadata": {},
   "outputs": [
    {
     "data": {
      "text/html": [
       "<div>\n",
       "<style scoped>\n",
       "    .dataframe tbody tr th:only-of-type {\n",
       "        vertical-align: middle;\n",
       "    }\n",
       "\n",
       "    .dataframe tbody tr th {\n",
       "        vertical-align: top;\n",
       "    }\n",
       "\n",
       "    .dataframe thead th {\n",
       "        text-align: right;\n",
       "    }\n",
       "</style>\n",
       "<table border=\"1\" class=\"dataframe\">\n",
       "  <thead>\n",
       "    <tr style=\"text-align: right;\">\n",
       "      <th></th>\n",
       "      <th>features</th>\n",
       "      <th>coef</th>\n",
       "      <th>exp_Beta</th>\n",
       "      <th>effect_in_percentage</th>\n",
       "    </tr>\n",
       "  </thead>\n",
       "  <tbody>\n",
       "    <tr>\n",
       "      <th>11</th>\n",
       "      <td>channel_sales_ewpakwlliwisiwduibdlfmalxowmwpci</td>\n",
       "      <td>[-2.0482688980494426]</td>\n",
       "      <td>[0.12895794983270423]</td>\n",
       "      <td>[87.10420501672958]</td>\n",
       "    </tr>\n",
       "    <tr>\n",
       "      <th>12</th>\n",
       "      <td>channel_sales_foosdfpfkusacimwkcsosbicdxkicaua</td>\n",
       "      <td>[-0.9938959813234358]</td>\n",
       "      <td>[0.3701318515349896]</td>\n",
       "      <td>[62.98681484650104]</td>\n",
       "    </tr>\n",
       "    <tr>\n",
       "      <th>13</th>\n",
       "      <td>channel_sales_lmkebamcaaclubfxadlmueccxoimlema</td>\n",
       "      <td>[-1.711070042212141]</td>\n",
       "      <td>[0.18067236209215917]</td>\n",
       "      <td>[81.93276379078408]</td>\n",
       "    </tr>\n",
       "    <tr>\n",
       "      <th>14</th>\n",
       "      <td>channel_sales_usilxuppasemubllopkaafesmlibmsdf</td>\n",
       "      <td>[-1.5675021675853675]</td>\n",
       "      <td>[0.20856549391222826]</td>\n",
       "      <td>[79.14345060877717]</td>\n",
       "    </tr>\n",
       "    <tr>\n",
       "      <th>15</th>\n",
       "      <td>origin_up_kamkkxfxxuwbdslkwifmmcsiusiuosws</td>\n",
       "      <td>[-3.8118750287703227]</td>\n",
       "      <td>[0.022106689393500783]</td>\n",
       "      <td>[97.78933106064991]</td>\n",
       "    </tr>\n",
       "    <tr>\n",
       "      <th>16</th>\n",
       "      <td>origin_up_ldkssxwpmemidmecebumciepifcamkci</td>\n",
       "      <td>[-3.661978272849377]</td>\n",
       "      <td>[0.02568165711481048]</td>\n",
       "      <td>[97.43183428851894]</td>\n",
       "    </tr>\n",
       "    <tr>\n",
       "      <th>17</th>\n",
       "      <td>origin_up_lxidpiddsbxsbosboudacockeimpuepw</td>\n",
       "      <td>[-2.8734798460686863]</td>\n",
       "      <td>[0.05650196593820161]</td>\n",
       "      <td>[94.34980340617984]</td>\n",
       "    </tr>\n",
       "  </tbody>\n",
       "</table>\n",
       "</div>"
      ],
      "text/plain": [
       "                                          features                   coef  \\\n",
       "11  channel_sales_ewpakwlliwisiwduibdlfmalxowmwpci  [-2.0482688980494426]   \n",
       "12  channel_sales_foosdfpfkusacimwkcsosbicdxkicaua  [-0.9938959813234358]   \n",
       "13  channel_sales_lmkebamcaaclubfxadlmueccxoimlema   [-1.711070042212141]   \n",
       "14  channel_sales_usilxuppasemubllopkaafesmlibmsdf  [-1.5675021675853675]   \n",
       "15      origin_up_kamkkxfxxuwbdslkwifmmcsiusiuosws  [-3.8118750287703227]   \n",
       "16      origin_up_ldkssxwpmemidmecebumciepifcamkci   [-3.661978272849377]   \n",
       "17      origin_up_lxidpiddsbxsbosboudacockeimpuepw  [-2.8734798460686863]   \n",
       "\n",
       "                  exp_Beta effect_in_percentage  \n",
       "11   [0.12895794983270423]  [87.10420501672958]  \n",
       "12    [0.3701318515349896]  [62.98681484650104]  \n",
       "13   [0.18067236209215917]  [81.93276379078408]  \n",
       "14   [0.20856549391222826]  [79.14345060877717]  \n",
       "15  [0.022106689393500783]  [97.78933106064991]  \n",
       "16   [0.02568165711481048]  [97.43183428851894]  \n",
       "17   [0.05650196593820161]  [94.34980340617984]  "
      ]
     },
     "execution_count": 47,
     "metadata": {},
     "output_type": "execute_result"
    }
   ],
   "source": [
    "feat_importance[11:18]"
   ]
  },
  {
   "cell_type": "code",
   "execution_count": 54,
   "id": "11e69ffa",
   "metadata": {},
   "outputs": [
    {
     "data": {
      "text/html": [
       "<div>\n",
       "<style scoped>\n",
       "    .dataframe tbody tr th:only-of-type {\n",
       "        vertical-align: middle;\n",
       "    }\n",
       "\n",
       "    .dataframe tbody tr th {\n",
       "        vertical-align: top;\n",
       "    }\n",
       "\n",
       "    .dataframe thead th {\n",
       "        text-align: right;\n",
       "    }\n",
       "</style>\n",
       "<table border=\"1\" class=\"dataframe\">\n",
       "  <thead>\n",
       "    <tr style=\"text-align: right;\">\n",
       "      <th></th>\n",
       "      <th>features</th>\n",
       "      <th>coef</th>\n",
       "      <th>exp_Beta</th>\n",
       "      <th>effect_in_percentage</th>\n",
       "    </tr>\n",
       "  </thead>\n",
       "  <tbody>\n",
       "    <tr>\n",
       "      <th>22</th>\n",
       "      <td>mean_year_price_p2</td>\n",
       "      <td>[1.3784929034666558]</td>\n",
       "      <td>[3.9689155789411075]</td>\n",
       "      <td>[296.89155789411075]</td>\n",
       "    </tr>\n",
       "    <tr>\n",
       "      <th>5</th>\n",
       "      <td>margin_gross_pow_ele</td>\n",
       "      <td>[1.3391205901940164]</td>\n",
       "      <td>[3.8156864773762553]</td>\n",
       "      <td>[281.56864773762555]</td>\n",
       "    </tr>\n",
       "    <tr>\n",
       "      <th>25</th>\n",
       "      <td>cons_ele_per_margin</td>\n",
       "      <td>[1.127273181660626]</td>\n",
       "      <td>[3.0872267056901377]</td>\n",
       "      <td>[208.72267056901376]</td>\n",
       "    </tr>\n",
       "    <tr>\n",
       "      <th>21</th>\n",
       "      <td>mean_year_price_p1</td>\n",
       "      <td>[0.5273815089746867]</td>\n",
       "      <td>[1.6944894888961175]</td>\n",
       "      <td>[69.44894888961176]</td>\n",
       "    </tr>\n",
       "    <tr>\n",
       "      <th>6</th>\n",
       "      <td>net_margin</td>\n",
       "      <td>[0.4104236349421441]</td>\n",
       "      <td>[1.5074562610088724]</td>\n",
       "      <td>[50.74562610088724]</td>\n",
       "    </tr>\n",
       "    <tr>\n",
       "      <th>2</th>\n",
       "      <td>forecast_meter_rent_12m</td>\n",
       "      <td>[0.19160406534696692]</td>\n",
       "      <td>[1.211190869579952]</td>\n",
       "      <td>[21.119086957995204]</td>\n",
       "    </tr>\n",
       "    <tr>\n",
       "      <th>26</th>\n",
       "      <td>cons_per_margin</td>\n",
       "      <td>[0.1625485899657314]</td>\n",
       "      <td>[1.1765054834209794]</td>\n",
       "      <td>[17.650548342097938]</td>\n",
       "    </tr>\n",
       "  </tbody>\n",
       "</table>\n",
       "</div>"
      ],
      "text/plain": [
       "                   features                   coef              exp_Beta  \\\n",
       "22       mean_year_price_p2   [1.3784929034666558]  [3.9689155789411075]   \n",
       "5      margin_gross_pow_ele   [1.3391205901940164]  [3.8156864773762553]   \n",
       "25      cons_ele_per_margin    [1.127273181660626]  [3.0872267056901377]   \n",
       "21       mean_year_price_p1   [0.5273815089746867]  [1.6944894888961175]   \n",
       "6                net_margin   [0.4104236349421441]  [1.5074562610088724]   \n",
       "2   forecast_meter_rent_12m  [0.19160406534696692]   [1.211190869579952]   \n",
       "26          cons_per_margin   [0.1625485899657314]  [1.1765054834209794]   \n",
       "\n",
       "    effect_in_percentage  \n",
       "22  [296.89155789411075]  \n",
       "5   [281.56864773762555]  \n",
       "25  [208.72267056901376]  \n",
       "21   [69.44894888961176]  \n",
       "6    [50.74562610088724]  \n",
       "2   [21.119086957995204]  \n",
       "26  [17.650548342097938]  "
      ]
     },
     "execution_count": 54,
     "metadata": {},
     "output_type": "execute_result"
    }
   ],
   "source": [
    "feat_importance[feat_importance.coef> 0].sort_values(\"effect_in_percentage\",ascending=False)"
   ]
  },
  {
   "cell_type": "code",
   "execution_count": 62,
   "id": "23b334aa",
   "metadata": {},
   "outputs": [
    {
     "name": "stderr",
     "output_type": "stream",
     "text": [
      "/tmp/ipykernel_8852/3273459528.py:1: UserWarning: Boolean Series key will be reindexed to match DataFrame index.\n",
      "  feat_importance.drop(index=[11,12,13,14,15,16,17])[feat_importance.coef< 0].sort_values(\"effect_in_percentage\",ascending=False)\n"
     ]
    },
    {
     "data": {
      "text/html": [
       "<div>\n",
       "<style scoped>\n",
       "    .dataframe tbody tr th:only-of-type {\n",
       "        vertical-align: middle;\n",
       "    }\n",
       "\n",
       "    .dataframe tbody tr th {\n",
       "        vertical-align: top;\n",
       "    }\n",
       "\n",
       "    .dataframe thead th {\n",
       "        text-align: right;\n",
       "    }\n",
       "</style>\n",
       "<table border=\"1\" class=\"dataframe\">\n",
       "  <thead>\n",
       "    <tr style=\"text-align: right;\">\n",
       "      <th></th>\n",
       "      <th>features</th>\n",
       "      <th>coef</th>\n",
       "      <th>exp_Beta</th>\n",
       "      <th>effect_in_percentage</th>\n",
       "    </tr>\n",
       "  </thead>\n",
       "  <tbody>\n",
       "    <tr>\n",
       "      <th>23</th>\n",
       "      <td>mean_year_price_p3</td>\n",
       "      <td>[-1.5774680623995792]</td>\n",
       "      <td>[0.20649727508145246]</td>\n",
       "      <td>[79.35027249185475]</td>\n",
       "    </tr>\n",
       "    <tr>\n",
       "      <th>9</th>\n",
       "      <td>date_end_offpeak</td>\n",
       "      <td>[-0.9113947299449984]</td>\n",
       "      <td>[0.4019632027723104]</td>\n",
       "      <td>[59.80367972276896]</td>\n",
       "    </tr>\n",
       "    <tr>\n",
       "      <th>0</th>\n",
       "      <td>cons_12m</td>\n",
       "      <td>[-0.7005481505206428]</td>\n",
       "      <td>[0.4963131748892063]</td>\n",
       "      <td>[50.36868251107938]</td>\n",
       "    </tr>\n",
       "    <tr>\n",
       "      <th>10</th>\n",
       "      <td>date_end_peak</td>\n",
       "      <td>[-0.45570797494332754]</td>\n",
       "      <td>[0.6339989536482674]</td>\n",
       "      <td>[36.60010463517326]</td>\n",
       "    </tr>\n",
       "    <tr>\n",
       "      <th>8</th>\n",
       "      <td>pow_max</td>\n",
       "      <td>[-0.39498668730372205]</td>\n",
       "      <td>[0.6736890078063164]</td>\n",
       "      <td>[32.631099219368366]</td>\n",
       "    </tr>\n",
       "    <tr>\n",
       "      <th>3</th>\n",
       "      <td>forecast_price_energy_off_peak</td>\n",
       "      <td>[-0.3866657239205641]</td>\n",
       "      <td>[0.679318136780645]</td>\n",
       "      <td>[32.0681863219355]</td>\n",
       "    </tr>\n",
       "    <tr>\n",
       "      <th>7</th>\n",
       "      <td>num_years_antig</td>\n",
       "      <td>[-0.32644726992476364]</td>\n",
       "      <td>[0.7214824178677793]</td>\n",
       "      <td>[27.851758213222066]</td>\n",
       "    </tr>\n",
       "    <tr>\n",
       "      <th>20</th>\n",
       "      <td>months_renewal</td>\n",
       "      <td>[-0.2707064900335455]</td>\n",
       "      <td>[0.7628403647995382]</td>\n",
       "      <td>[23.71596352004618]</td>\n",
       "    </tr>\n",
       "    <tr>\n",
       "      <th>1</th>\n",
       "      <td>cons_gas_12m</td>\n",
       "      <td>[-0.2220117987799681]</td>\n",
       "      <td>[0.8009059145662503]</td>\n",
       "      <td>[19.909408543374973]</td>\n",
       "    </tr>\n",
       "    <tr>\n",
       "      <th>18</th>\n",
       "      <td>months_to_end</td>\n",
       "      <td>[-0.12530617788578746]</td>\n",
       "      <td>[0.8822267429093177]</td>\n",
       "      <td>[11.777325709068231]</td>\n",
       "    </tr>\n",
       "    <tr>\n",
       "      <th>24</th>\n",
       "      <td>cons_per_price</td>\n",
       "      <td>[-0.10209182039757347]</td>\n",
       "      <td>[0.90294663894302]</td>\n",
       "      <td>[9.705336105698004]</td>\n",
       "    </tr>\n",
       "    <tr>\n",
       "      <th>4</th>\n",
       "      <td>imp_cons</td>\n",
       "      <td>[-0.057104796834701065]</td>\n",
       "      <td>[0.944495084084739]</td>\n",
       "      <td>[5.550491591526097]</td>\n",
       "    </tr>\n",
       "    <tr>\n",
       "      <th>19</th>\n",
       "      <td>months_modif_prod</td>\n",
       "      <td>[-0.03982673747796285]</td>\n",
       "      <td>[0.9609559223759325]</td>\n",
       "      <td>[3.9044077624067475]</td>\n",
       "    </tr>\n",
       "  </tbody>\n",
       "</table>\n",
       "</div>"
      ],
      "text/plain": [
       "                          features                     coef  \\\n",
       "23              mean_year_price_p3    [-1.5774680623995792]   \n",
       "9                 date_end_offpeak    [-0.9113947299449984]   \n",
       "0                         cons_12m    [-0.7005481505206428]   \n",
       "10                   date_end_peak   [-0.45570797494332754]   \n",
       "8                          pow_max   [-0.39498668730372205]   \n",
       "3   forecast_price_energy_off_peak    [-0.3866657239205641]   \n",
       "7                  num_years_antig   [-0.32644726992476364]   \n",
       "20                  months_renewal    [-0.2707064900335455]   \n",
       "1                     cons_gas_12m    [-0.2220117987799681]   \n",
       "18                   months_to_end   [-0.12530617788578746]   \n",
       "24                  cons_per_price   [-0.10209182039757347]   \n",
       "4                         imp_cons  [-0.057104796834701065]   \n",
       "19               months_modif_prod   [-0.03982673747796285]   \n",
       "\n",
       "                 exp_Beta  effect_in_percentage  \n",
       "23  [0.20649727508145246]   [79.35027249185475]  \n",
       "9    [0.4019632027723104]   [59.80367972276896]  \n",
       "0    [0.4963131748892063]   [50.36868251107938]  \n",
       "10   [0.6339989536482674]   [36.60010463517326]  \n",
       "8    [0.6736890078063164]  [32.631099219368366]  \n",
       "3     [0.679318136780645]    [32.0681863219355]  \n",
       "7    [0.7214824178677793]  [27.851758213222066]  \n",
       "20   [0.7628403647995382]   [23.71596352004618]  \n",
       "1    [0.8009059145662503]  [19.909408543374973]  \n",
       "18   [0.8822267429093177]  [11.777325709068231]  \n",
       "24     [0.90294663894302]   [9.705336105698004]  \n",
       "4     [0.944495084084739]   [5.550491591526097]  \n",
       "19   [0.9609559223759325]  [3.9044077624067475]  "
      ]
     },
     "execution_count": 62,
     "metadata": {},
     "output_type": "execute_result"
    }
   ],
   "source": [
    "feat_importance.drop(index=[11,12,13,14,15,16,17])[feat_importance.coef< 0].sort_values(\"effect_in_percentage\",ascending=False)"
   ]
  },
  {
   "cell_type": "code",
   "execution_count": 61,
   "id": "d4327f0c",
   "metadata": {},
   "outputs": [
    {
     "data": {
      "text/html": [
       "<div>\n",
       "<style scoped>\n",
       "    .dataframe tbody tr th:only-of-type {\n",
       "        vertical-align: middle;\n",
       "    }\n",
       "\n",
       "    .dataframe tbody tr th {\n",
       "        vertical-align: top;\n",
       "    }\n",
       "\n",
       "    .dataframe thead th {\n",
       "        text-align: right;\n",
       "    }\n",
       "</style>\n",
       "<table border=\"1\" class=\"dataframe\">\n",
       "  <thead>\n",
       "    <tr style=\"text-align: right;\">\n",
       "      <th></th>\n",
       "      <th>features</th>\n",
       "      <th>coef</th>\n",
       "      <th>exp_Beta</th>\n",
       "      <th>effect_in_percentage</th>\n",
       "    </tr>\n",
       "  </thead>\n",
       "  <tbody>\n",
       "    <tr>\n",
       "      <th>0</th>\n",
       "      <td>cons_12m</td>\n",
       "      <td>[-0.7005481505206428]</td>\n",
       "      <td>[0.4963131748892063]</td>\n",
       "      <td>[50.36868251107938]</td>\n",
       "    </tr>\n",
       "    <tr>\n",
       "      <th>1</th>\n",
       "      <td>cons_gas_12m</td>\n",
       "      <td>[-0.2220117987799681]</td>\n",
       "      <td>[0.8009059145662503]</td>\n",
       "      <td>[19.909408543374973]</td>\n",
       "    </tr>\n",
       "    <tr>\n",
       "      <th>2</th>\n",
       "      <td>forecast_meter_rent_12m</td>\n",
       "      <td>[0.19160406534696692]</td>\n",
       "      <td>[1.211190869579952]</td>\n",
       "      <td>[21.119086957995204]</td>\n",
       "    </tr>\n",
       "    <tr>\n",
       "      <th>3</th>\n",
       "      <td>forecast_price_energy_off_peak</td>\n",
       "      <td>[-0.3866657239205641]</td>\n",
       "      <td>[0.679318136780645]</td>\n",
       "      <td>[32.0681863219355]</td>\n",
       "    </tr>\n",
       "    <tr>\n",
       "      <th>4</th>\n",
       "      <td>imp_cons</td>\n",
       "      <td>[-0.057104796834701065]</td>\n",
       "      <td>[0.944495084084739]</td>\n",
       "      <td>[5.550491591526097]</td>\n",
       "    </tr>\n",
       "    <tr>\n",
       "      <th>5</th>\n",
       "      <td>margin_gross_pow_ele</td>\n",
       "      <td>[1.3391205901940164]</td>\n",
       "      <td>[3.8156864773762553]</td>\n",
       "      <td>[281.56864773762555]</td>\n",
       "    </tr>\n",
       "    <tr>\n",
       "      <th>6</th>\n",
       "      <td>net_margin</td>\n",
       "      <td>[0.4104236349421441]</td>\n",
       "      <td>[1.5074562610088724]</td>\n",
       "      <td>[50.74562610088724]</td>\n",
       "    </tr>\n",
       "    <tr>\n",
       "      <th>7</th>\n",
       "      <td>num_years_antig</td>\n",
       "      <td>[-0.32644726992476364]</td>\n",
       "      <td>[0.7214824178677793]</td>\n",
       "      <td>[27.851758213222066]</td>\n",
       "    </tr>\n",
       "    <tr>\n",
       "      <th>8</th>\n",
       "      <td>pow_max</td>\n",
       "      <td>[-0.39498668730372205]</td>\n",
       "      <td>[0.6736890078063164]</td>\n",
       "      <td>[32.631099219368366]</td>\n",
       "    </tr>\n",
       "    <tr>\n",
       "      <th>9</th>\n",
       "      <td>date_end_offpeak</td>\n",
       "      <td>[-0.9113947299449984]</td>\n",
       "      <td>[0.4019632027723104]</td>\n",
       "      <td>[59.80367972276896]</td>\n",
       "    </tr>\n",
       "    <tr>\n",
       "      <th>10</th>\n",
       "      <td>date_end_peak</td>\n",
       "      <td>[-0.45570797494332754]</td>\n",
       "      <td>[0.6339989536482674]</td>\n",
       "      <td>[36.60010463517326]</td>\n",
       "    </tr>\n",
       "    <tr>\n",
       "      <th>17</th>\n",
       "      <td>origin_up_lxidpiddsbxsbosboudacockeimpuepw</td>\n",
       "      <td>[-2.8734798460686863]</td>\n",
       "      <td>[0.05650196593820161]</td>\n",
       "      <td>[94.34980340617984]</td>\n",
       "    </tr>\n",
       "    <tr>\n",
       "      <th>18</th>\n",
       "      <td>months_to_end</td>\n",
       "      <td>[-0.12530617788578746]</td>\n",
       "      <td>[0.8822267429093177]</td>\n",
       "      <td>[11.777325709068231]</td>\n",
       "    </tr>\n",
       "    <tr>\n",
       "      <th>19</th>\n",
       "      <td>months_modif_prod</td>\n",
       "      <td>[-0.03982673747796285]</td>\n",
       "      <td>[0.9609559223759325]</td>\n",
       "      <td>[3.9044077624067475]</td>\n",
       "    </tr>\n",
       "    <tr>\n",
       "      <th>20</th>\n",
       "      <td>months_renewal</td>\n",
       "      <td>[-0.2707064900335455]</td>\n",
       "      <td>[0.7628403647995382]</td>\n",
       "      <td>[23.71596352004618]</td>\n",
       "    </tr>\n",
       "    <tr>\n",
       "      <th>21</th>\n",
       "      <td>mean_year_price_p1</td>\n",
       "      <td>[0.5273815089746867]</td>\n",
       "      <td>[1.6944894888961175]</td>\n",
       "      <td>[69.44894888961176]</td>\n",
       "    </tr>\n",
       "    <tr>\n",
       "      <th>22</th>\n",
       "      <td>mean_year_price_p2</td>\n",
       "      <td>[1.3784929034666558]</td>\n",
       "      <td>[3.9689155789411075]</td>\n",
       "      <td>[296.89155789411075]</td>\n",
       "    </tr>\n",
       "    <tr>\n",
       "      <th>23</th>\n",
       "      <td>mean_year_price_p3</td>\n",
       "      <td>[-1.5774680623995792]</td>\n",
       "      <td>[0.20649727508145246]</td>\n",
       "      <td>[79.35027249185475]</td>\n",
       "    </tr>\n",
       "    <tr>\n",
       "      <th>24</th>\n",
       "      <td>cons_per_price</td>\n",
       "      <td>[-0.10209182039757347]</td>\n",
       "      <td>[0.90294663894302]</td>\n",
       "      <td>[9.705336105698004]</td>\n",
       "    </tr>\n",
       "    <tr>\n",
       "      <th>25</th>\n",
       "      <td>cons_ele_per_margin</td>\n",
       "      <td>[1.127273181660626]</td>\n",
       "      <td>[3.0872267056901377]</td>\n",
       "      <td>[208.72267056901376]</td>\n",
       "    </tr>\n",
       "    <tr>\n",
       "      <th>26</th>\n",
       "      <td>cons_per_margin</td>\n",
       "      <td>[0.1625485899657314]</td>\n",
       "      <td>[1.1765054834209794]</td>\n",
       "      <td>[17.650548342097938]</td>\n",
       "    </tr>\n",
       "  </tbody>\n",
       "</table>\n",
       "</div>"
      ],
      "text/plain": [
       "                                      features                     coef  \\\n",
       "0                                     cons_12m    [-0.7005481505206428]   \n",
       "1                                 cons_gas_12m    [-0.2220117987799681]   \n",
       "2                      forecast_meter_rent_12m    [0.19160406534696692]   \n",
       "3               forecast_price_energy_off_peak    [-0.3866657239205641]   \n",
       "4                                     imp_cons  [-0.057104796834701065]   \n",
       "5                         margin_gross_pow_ele     [1.3391205901940164]   \n",
       "6                                   net_margin     [0.4104236349421441]   \n",
       "7                              num_years_antig   [-0.32644726992476364]   \n",
       "8                                      pow_max   [-0.39498668730372205]   \n",
       "9                             date_end_offpeak    [-0.9113947299449984]   \n",
       "10                               date_end_peak   [-0.45570797494332754]   \n",
       "17  origin_up_lxidpiddsbxsbosboudacockeimpuepw    [-2.8734798460686863]   \n",
       "18                               months_to_end   [-0.12530617788578746]   \n",
       "19                           months_modif_prod   [-0.03982673747796285]   \n",
       "20                              months_renewal    [-0.2707064900335455]   \n",
       "21                          mean_year_price_p1     [0.5273815089746867]   \n",
       "22                          mean_year_price_p2     [1.3784929034666558]   \n",
       "23                          mean_year_price_p3    [-1.5774680623995792]   \n",
       "24                              cons_per_price   [-0.10209182039757347]   \n",
       "25                         cons_ele_per_margin      [1.127273181660626]   \n",
       "26                             cons_per_margin     [0.1625485899657314]   \n",
       "\n",
       "                 exp_Beta  effect_in_percentage  \n",
       "0    [0.4963131748892063]   [50.36868251107938]  \n",
       "1    [0.8009059145662503]  [19.909408543374973]  \n",
       "2     [1.211190869579952]  [21.119086957995204]  \n",
       "3     [0.679318136780645]    [32.0681863219355]  \n",
       "4     [0.944495084084739]   [5.550491591526097]  \n",
       "5    [3.8156864773762553]  [281.56864773762555]  \n",
       "6    [1.5074562610088724]   [50.74562610088724]  \n",
       "7    [0.7214824178677793]  [27.851758213222066]  \n",
       "8    [0.6736890078063164]  [32.631099219368366]  \n",
       "9    [0.4019632027723104]   [59.80367972276896]  \n",
       "10   [0.6339989536482674]   [36.60010463517326]  \n",
       "17  [0.05650196593820161]   [94.34980340617984]  \n",
       "18   [0.8822267429093177]  [11.777325709068231]  \n",
       "19   [0.9609559223759325]  [3.9044077624067475]  \n",
       "20   [0.7628403647995382]   [23.71596352004618]  \n",
       "21   [1.6944894888961175]   [69.44894888961176]  \n",
       "22   [3.9689155789411075]  [296.89155789411075]  \n",
       "23  [0.20649727508145246]   [79.35027249185475]  \n",
       "24     [0.90294663894302]   [9.705336105698004]  \n",
       "25   [3.0872267056901377]  [208.72267056901376]  \n",
       "26   [1.1765054834209794]  [17.650548342097938]  "
      ]
     },
     "execution_count": 61,
     "metadata": {},
     "output_type": "execute_result"
    }
   ],
   "source": [
    "feat_importance.drop()"
   ]
  },
  {
   "cell_type": "markdown",
   "id": "003a9b82",
   "metadata": {},
   "source": [
    "coefficients cannot be very helpful this is due to the fact that there like lots of techincal info that are fully numerical represented in the first 10 columns. and other non-technical columns rpresented in the last 7 columns \n",
    "However we can drew the following conclusions\n",
    "#### For Categorical and ordinal data  \n",
    "1. The whole three origin up distributions that e have does reduce the rate of churn ability with a ratio of >90 whih is a little oddd thing. This observation makes me feel\n",
    "       - it did overfit on this column or there was not a difference between those those channels\n",
    "       - rather the challenge did exist if there is origin up dsitribution or not. This implies that we can shorten these three columns into only 1 column \"has orgin_up\" or not\n",
    "\n",
    "2. The varience in importance in the channel sales was significant where different channel sales, reduced the churn rate with different ratio with haveing the \"ewpakwlliwisiwduibdlfmalxowmwpci\" is the best as it reduced the chur with 84%\n",
    "\n",
    "3. num_years_antig: Every year does the client spend with us ddoes reduce his churn rate with 27% <B>from the year before</B> \n",
    "\n",
    "#### For Numerical Data \n",
    "\n"
   ]
  },
  {
   "cell_type": "raw",
   "id": "6722ddbb",
   "metadata": {},
   "source": [
    "The smoking group has a 1.46 times the odds of the non-smoking group of having heart disease.The smoking group has a 1.46 times the odds of the non-smoking group of having heart disease.\n",
    "\n",
    "If β = – 0.38, then eβ = 0.68 and the interpretation becomes: smoking is associated with a 32% (1 – 0.68 = 0.32) reduction in the relative risk of heart disease."
   ]
  }
 ],
 "metadata": {
  "kernelspec": {
   "display_name": "Python 3 (ipykernel)",
   "language": "python",
   "name": "python3"
  },
  "language_info": {
   "codemirror_mode": {
    "name": "ipython",
    "version": 3
   },
   "file_extension": ".py",
   "mimetype": "text/x-python",
   "name": "python",
   "nbconvert_exporter": "python",
   "pygments_lexer": "ipython3",
   "version": "3.9.12"
  }
 },
 "nbformat": 4,
 "nbformat_minor": 5
}
