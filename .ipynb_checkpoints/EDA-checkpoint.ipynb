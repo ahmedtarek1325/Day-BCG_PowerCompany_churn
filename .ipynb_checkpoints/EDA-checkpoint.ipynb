{
 "cells": [
  {
   "cell_type": "code",
   "execution_count": 1,
   "id": "46576562",
   "metadata": {},
   "outputs": [],
   "source": [
    "import pandas as pd\n",
    "import numpy as np \n",
    "import matplotlib.pyplot as plt \n",
    "import seaborn as sb \n",
    "\n",
    "from rfpimp import feature_corr_matrix\n",
    "from rfpimp import plot_corr_heatmap\n",
    "\n",
    "%matplotlib inline "
   ]
  },
  {
   "cell_type": "code",
   "execution_count": 2,
   "id": "e356b122",
   "metadata": {},
   "outputs": [],
   "source": [
    "from utilities.eda_utility import *\n",
    "from utilities.FE_utilities import *"
   ]
  },
  {
   "cell_type": "code",
   "execution_count": 3,
   "id": "192cfa8b",
   "metadata": {},
   "outputs": [],
   "source": [
    "client_data= pd.read_csv(\"client_data.csv\",index_col=False)"
   ]
  },
  {
   "cell_type": "markdown",
   "id": "518beb98",
   "metadata": {},
   "source": [
    "## Task\n",
    "#### Sub-Task 1:\n",
    "\n",
    "Perform some exploratory data analysis. Look into the data types, data statistics, specific parameters, and variable distributions. This first subtask is for you to gain a holistic understanding of the dataset. You should spend around 1 hour on this.\n",
    "\n",
    "#### Sub-Task 2:\n",
    "\n",
    "Verify the hypothesis of price sensitivity being to some extent correlated with churn. It is up to you to define price sensitivity and calculate it. You should spend around 30 minutes on this.\n",
    "\n",
    "\n",
    "#### Sub-Task 3:\n",
    "\n",
    "Prepare a half-page summary or slide of key findings and add some suggestions for data augmentation – which other sources of data should the client provide you with and which open source datasets might be useful? You should spend 10-15 minutes on this.\n",
    "\n",
    "For your final deliverable, please submit your analysis (in the form of a jupyter notebook, code script or PDF) as well as your half-page summary document.\n",
    "\n",
    "#### Note: Use the 2 datasets within the additional resources for this task and if you’re unsure on where to start with visualizing data, use the accompanying links. Be sure to also use the data description document to understand what the columns represent. The task description document outlines the higher-level motivation of the project. Finally, use the eda_starter.ipynb file to get started with some helper functions and methods.\n",
    "\n",
    "If you are stuck: Think about ways you can define price sensitivity. Make sure to think of all possible ways and investigate them."
   ]
  },
  {
   "cell_type": "markdown",
   "id": "164d8521",
   "metadata": {},
   "source": [
    "## TOC \n",
    "1. Overall data insights\n",
    "2. [studying the categorical distributions](#ch1) \n",
    "    - [Investige the univariate distributions](#sec1.1)\n",
    "    - [Investingating the Bi-variate distributions](#sec1.2) \n",
    "3. [Studying Numerical Distributions](#ch2)\n",
    "4. [Studying Dates](#ch3)\n",
    "5. [Trying to measure Feature Importance](#ch4)\n"
   ]
  },
  {
   "cell_type": "code",
   "execution_count": 4,
   "id": "12ca80c7",
   "metadata": {},
   "outputs": [
    {
     "data": {
      "text/html": [
       "<div>\n",
       "<style scoped>\n",
       "    .dataframe tbody tr th:only-of-type {\n",
       "        vertical-align: middle;\n",
       "    }\n",
       "\n",
       "    .dataframe tbody tr th {\n",
       "        vertical-align: top;\n",
       "    }\n",
       "\n",
       "    .dataframe thead th {\n",
       "        text-align: right;\n",
       "    }\n",
       "</style>\n",
       "<table border=\"1\" class=\"dataframe\">\n",
       "  <thead>\n",
       "    <tr style=\"text-align: right;\">\n",
       "      <th></th>\n",
       "      <th>id</th>\n",
       "      <th>channel_sales</th>\n",
       "      <th>cons_12m</th>\n",
       "      <th>cons_gas_12m</th>\n",
       "      <th>cons_last_month</th>\n",
       "      <th>date_activ</th>\n",
       "      <th>date_end</th>\n",
       "      <th>date_modif_prod</th>\n",
       "      <th>date_renewal</th>\n",
       "      <th>forecast_cons_12m</th>\n",
       "      <th>...</th>\n",
       "      <th>has_gas</th>\n",
       "      <th>imp_cons</th>\n",
       "      <th>margin_gross_pow_ele</th>\n",
       "      <th>margin_net_pow_ele</th>\n",
       "      <th>nb_prod_act</th>\n",
       "      <th>net_margin</th>\n",
       "      <th>num_years_antig</th>\n",
       "      <th>origin_up</th>\n",
       "      <th>pow_max</th>\n",
       "      <th>churn</th>\n",
       "    </tr>\n",
       "  </thead>\n",
       "  <tbody>\n",
       "    <tr>\n",
       "      <th>0</th>\n",
       "      <td>24011ae4ebbe3035111d65fa7c15bc57</td>\n",
       "      <td>foosdfpfkusacimwkcsosbicdxkicaua</td>\n",
       "      <td>0</td>\n",
       "      <td>54946</td>\n",
       "      <td>0</td>\n",
       "      <td>2013-06-15</td>\n",
       "      <td>2016-06-15</td>\n",
       "      <td>2015-11-01</td>\n",
       "      <td>2015-06-23</td>\n",
       "      <td>0.00</td>\n",
       "      <td>...</td>\n",
       "      <td>t</td>\n",
       "      <td>0.00</td>\n",
       "      <td>25.44</td>\n",
       "      <td>25.44</td>\n",
       "      <td>2</td>\n",
       "      <td>678.99</td>\n",
       "      <td>3</td>\n",
       "      <td>lxidpiddsbxsbosboudacockeimpuepw</td>\n",
       "      <td>43.648</td>\n",
       "      <td>1</td>\n",
       "    </tr>\n",
       "    <tr>\n",
       "      <th>1</th>\n",
       "      <td>d29c2c54acc38ff3c0614d0a653813dd</td>\n",
       "      <td>MISSING</td>\n",
       "      <td>4660</td>\n",
       "      <td>0</td>\n",
       "      <td>0</td>\n",
       "      <td>2009-08-21</td>\n",
       "      <td>2016-08-30</td>\n",
       "      <td>2009-08-21</td>\n",
       "      <td>2015-08-31</td>\n",
       "      <td>189.95</td>\n",
       "      <td>...</td>\n",
       "      <td>f</td>\n",
       "      <td>0.00</td>\n",
       "      <td>16.38</td>\n",
       "      <td>16.38</td>\n",
       "      <td>1</td>\n",
       "      <td>18.89</td>\n",
       "      <td>6</td>\n",
       "      <td>kamkkxfxxuwbdslkwifmmcsiusiuosws</td>\n",
       "      <td>13.800</td>\n",
       "      <td>0</td>\n",
       "    </tr>\n",
       "    <tr>\n",
       "      <th>2</th>\n",
       "      <td>764c75f661154dac3a6c254cd082ea7d</td>\n",
       "      <td>foosdfpfkusacimwkcsosbicdxkicaua</td>\n",
       "      <td>544</td>\n",
       "      <td>0</td>\n",
       "      <td>0</td>\n",
       "      <td>2010-04-16</td>\n",
       "      <td>2016-04-16</td>\n",
       "      <td>2010-04-16</td>\n",
       "      <td>2015-04-17</td>\n",
       "      <td>47.96</td>\n",
       "      <td>...</td>\n",
       "      <td>f</td>\n",
       "      <td>0.00</td>\n",
       "      <td>28.60</td>\n",
       "      <td>28.60</td>\n",
       "      <td>1</td>\n",
       "      <td>6.60</td>\n",
       "      <td>6</td>\n",
       "      <td>kamkkxfxxuwbdslkwifmmcsiusiuosws</td>\n",
       "      <td>13.856</td>\n",
       "      <td>0</td>\n",
       "    </tr>\n",
       "    <tr>\n",
       "      <th>3</th>\n",
       "      <td>bba03439a292a1e166f80264c16191cb</td>\n",
       "      <td>lmkebamcaaclubfxadlmueccxoimlema</td>\n",
       "      <td>1584</td>\n",
       "      <td>0</td>\n",
       "      <td>0</td>\n",
       "      <td>2010-03-30</td>\n",
       "      <td>2016-03-30</td>\n",
       "      <td>2010-03-30</td>\n",
       "      <td>2015-03-31</td>\n",
       "      <td>240.04</td>\n",
       "      <td>...</td>\n",
       "      <td>f</td>\n",
       "      <td>0.00</td>\n",
       "      <td>30.22</td>\n",
       "      <td>30.22</td>\n",
       "      <td>1</td>\n",
       "      <td>25.46</td>\n",
       "      <td>6</td>\n",
       "      <td>kamkkxfxxuwbdslkwifmmcsiusiuosws</td>\n",
       "      <td>13.200</td>\n",
       "      <td>0</td>\n",
       "    </tr>\n",
       "    <tr>\n",
       "      <th>4</th>\n",
       "      <td>149d57cf92fc41cf94415803a877cb4b</td>\n",
       "      <td>MISSING</td>\n",
       "      <td>4425</td>\n",
       "      <td>0</td>\n",
       "      <td>526</td>\n",
       "      <td>2010-01-13</td>\n",
       "      <td>2016-03-07</td>\n",
       "      <td>2010-01-13</td>\n",
       "      <td>2015-03-09</td>\n",
       "      <td>445.75</td>\n",
       "      <td>...</td>\n",
       "      <td>f</td>\n",
       "      <td>52.32</td>\n",
       "      <td>44.91</td>\n",
       "      <td>44.91</td>\n",
       "      <td>1</td>\n",
       "      <td>47.98</td>\n",
       "      <td>6</td>\n",
       "      <td>kamkkxfxxuwbdslkwifmmcsiusiuosws</td>\n",
       "      <td>19.800</td>\n",
       "      <td>0</td>\n",
       "    </tr>\n",
       "  </tbody>\n",
       "</table>\n",
       "<p>5 rows × 26 columns</p>\n",
       "</div>"
      ],
      "text/plain": [
       "                                 id                     channel_sales  \\\n",
       "0  24011ae4ebbe3035111d65fa7c15bc57  foosdfpfkusacimwkcsosbicdxkicaua   \n",
       "1  d29c2c54acc38ff3c0614d0a653813dd                           MISSING   \n",
       "2  764c75f661154dac3a6c254cd082ea7d  foosdfpfkusacimwkcsosbicdxkicaua   \n",
       "3  bba03439a292a1e166f80264c16191cb  lmkebamcaaclubfxadlmueccxoimlema   \n",
       "4  149d57cf92fc41cf94415803a877cb4b                           MISSING   \n",
       "\n",
       "   cons_12m  cons_gas_12m  cons_last_month  date_activ    date_end  \\\n",
       "0         0         54946                0  2013-06-15  2016-06-15   \n",
       "1      4660             0                0  2009-08-21  2016-08-30   \n",
       "2       544             0                0  2010-04-16  2016-04-16   \n",
       "3      1584             0                0  2010-03-30  2016-03-30   \n",
       "4      4425             0              526  2010-01-13  2016-03-07   \n",
       "\n",
       "  date_modif_prod date_renewal  forecast_cons_12m  ...  has_gas  imp_cons  \\\n",
       "0      2015-11-01   2015-06-23               0.00  ...        t      0.00   \n",
       "1      2009-08-21   2015-08-31             189.95  ...        f      0.00   \n",
       "2      2010-04-16   2015-04-17              47.96  ...        f      0.00   \n",
       "3      2010-03-30   2015-03-31             240.04  ...        f      0.00   \n",
       "4      2010-01-13   2015-03-09             445.75  ...        f     52.32   \n",
       "\n",
       "   margin_gross_pow_ele  margin_net_pow_ele  nb_prod_act  net_margin  \\\n",
       "0                 25.44               25.44            2      678.99   \n",
       "1                 16.38               16.38            1       18.89   \n",
       "2                 28.60               28.60            1        6.60   \n",
       "3                 30.22               30.22            1       25.46   \n",
       "4                 44.91               44.91            1       47.98   \n",
       "\n",
       "  num_years_antig                         origin_up  pow_max  churn  \n",
       "0               3  lxidpiddsbxsbosboudacockeimpuepw   43.648      1  \n",
       "1               6  kamkkxfxxuwbdslkwifmmcsiusiuosws   13.800      0  \n",
       "2               6  kamkkxfxxuwbdslkwifmmcsiusiuosws   13.856      0  \n",
       "3               6  kamkkxfxxuwbdslkwifmmcsiusiuosws   13.200      0  \n",
       "4               6  kamkkxfxxuwbdslkwifmmcsiusiuosws   19.800      0  \n",
       "\n",
       "[5 rows x 26 columns]"
      ]
     },
     "execution_count": 4,
     "metadata": {},
     "output_type": "execute_result"
    }
   ],
   "source": [
    "client_data.head()"
   ]
  },
  {
   "cell_type": "code",
   "execution_count": 5,
   "id": "2dcfa400",
   "metadata": {},
   "outputs": [
    {
     "name": "stdout",
     "output_type": "stream",
     "text": [
      "Data shape is: (14606, 26)\n",
      "The number of duplicates: 0\n",
      "The number of missing values: 0\n",
      "\n",
      "\n",
      "\n",
      "<class 'pandas.core.frame.DataFrame'>\n",
      "RangeIndex: 14606 entries, 0 to 14605\n",
      "Data columns (total 26 columns):\n",
      " #   Column                          Non-Null Count  Dtype  \n",
      "---  ------                          --------------  -----  \n",
      " 0   id                              14606 non-null  object \n",
      " 1   channel_sales                   14606 non-null  object \n",
      " 2   cons_12m                        14606 non-null  int64  \n",
      " 3   cons_gas_12m                    14606 non-null  int64  \n",
      " 4   cons_last_month                 14606 non-null  int64  \n",
      " 5   date_activ                      14606 non-null  object \n",
      " 6   date_end                        14606 non-null  object \n",
      " 7   date_modif_prod                 14606 non-null  object \n",
      " 8   date_renewal                    14606 non-null  object \n",
      " 9   forecast_cons_12m               14606 non-null  float64\n",
      " 10  forecast_cons_year              14606 non-null  int64  \n",
      " 11  forecast_discount_energy        14606 non-null  float64\n",
      " 12  forecast_meter_rent_12m         14606 non-null  float64\n",
      " 13  forecast_price_energy_off_peak  14606 non-null  float64\n",
      " 14  forecast_price_energy_peak      14606 non-null  float64\n",
      " 15  forecast_price_pow_off_peak     14606 non-null  float64\n",
      " 16  has_gas                         14606 non-null  object \n",
      " 17  imp_cons                        14606 non-null  float64\n",
      " 18  margin_gross_pow_ele            14606 non-null  float64\n",
      " 19  margin_net_pow_ele              14606 non-null  float64\n",
      " 20  nb_prod_act                     14606 non-null  int64  \n",
      " 21  net_margin                      14606 non-null  float64\n",
      " 22  num_years_antig                 14606 non-null  int64  \n",
      " 23  origin_up                       14606 non-null  object \n",
      " 24  pow_max                         14606 non-null  float64\n",
      " 25  churn                           14606 non-null  int64  \n",
      "dtypes: float64(11), int64(7), object(8)\n",
      "memory usage: 2.9+ MB\n"
     ]
    },
    {
     "data": {
      "text/plain": [
       "None"
      ]
     },
     "metadata": {},
     "output_type": "display_data"
    },
    {
     "data": {
      "text/html": [
       "<div>\n",
       "<style scoped>\n",
       "    .dataframe tbody tr th:only-of-type {\n",
       "        vertical-align: middle;\n",
       "    }\n",
       "\n",
       "    .dataframe tbody tr th {\n",
       "        vertical-align: top;\n",
       "    }\n",
       "\n",
       "    .dataframe thead th {\n",
       "        text-align: right;\n",
       "    }\n",
       "</style>\n",
       "<table border=\"1\" class=\"dataframe\">\n",
       "  <thead>\n",
       "    <tr style=\"text-align: right;\">\n",
       "      <th></th>\n",
       "      <th>cons_12m</th>\n",
       "      <th>cons_gas_12m</th>\n",
       "      <th>cons_last_month</th>\n",
       "      <th>forecast_cons_12m</th>\n",
       "      <th>forecast_cons_year</th>\n",
       "      <th>forecast_discount_energy</th>\n",
       "      <th>forecast_meter_rent_12m</th>\n",
       "      <th>forecast_price_energy_off_peak</th>\n",
       "      <th>forecast_price_energy_peak</th>\n",
       "      <th>forecast_price_pow_off_peak</th>\n",
       "      <th>imp_cons</th>\n",
       "      <th>margin_gross_pow_ele</th>\n",
       "      <th>margin_net_pow_ele</th>\n",
       "      <th>nb_prod_act</th>\n",
       "      <th>net_margin</th>\n",
       "      <th>num_years_antig</th>\n",
       "      <th>pow_max</th>\n",
       "      <th>churn</th>\n",
       "    </tr>\n",
       "  </thead>\n",
       "  <tbody>\n",
       "    <tr>\n",
       "      <th>count</th>\n",
       "      <td>1.460600e+04</td>\n",
       "      <td>1.460600e+04</td>\n",
       "      <td>14606.000000</td>\n",
       "      <td>14606.000000</td>\n",
       "      <td>14606.000000</td>\n",
       "      <td>14606.000000</td>\n",
       "      <td>14606.000000</td>\n",
       "      <td>14606.000000</td>\n",
       "      <td>14606.000000</td>\n",
       "      <td>14606.000000</td>\n",
       "      <td>14606.000000</td>\n",
       "      <td>14606.000000</td>\n",
       "      <td>14606.000000</td>\n",
       "      <td>14606.000000</td>\n",
       "      <td>14606.000000</td>\n",
       "      <td>14606.000000</td>\n",
       "      <td>14606.000000</td>\n",
       "      <td>14606.000000</td>\n",
       "    </tr>\n",
       "    <tr>\n",
       "      <th>mean</th>\n",
       "      <td>1.592203e+05</td>\n",
       "      <td>2.809238e+04</td>\n",
       "      <td>16090.269752</td>\n",
       "      <td>1868.614880</td>\n",
       "      <td>1399.762906</td>\n",
       "      <td>0.966726</td>\n",
       "      <td>63.086871</td>\n",
       "      <td>0.137283</td>\n",
       "      <td>0.050491</td>\n",
       "      <td>43.130056</td>\n",
       "      <td>152.786896</td>\n",
       "      <td>24.565121</td>\n",
       "      <td>24.562517</td>\n",
       "      <td>1.292346</td>\n",
       "      <td>189.264522</td>\n",
       "      <td>4.997809</td>\n",
       "      <td>18.135136</td>\n",
       "      <td>0.097152</td>\n",
       "    </tr>\n",
       "    <tr>\n",
       "      <th>std</th>\n",
       "      <td>5.734653e+05</td>\n",
       "      <td>1.629731e+05</td>\n",
       "      <td>64364.196422</td>\n",
       "      <td>2387.571531</td>\n",
       "      <td>3247.786255</td>\n",
       "      <td>5.108289</td>\n",
       "      <td>66.165783</td>\n",
       "      <td>0.024623</td>\n",
       "      <td>0.049037</td>\n",
       "      <td>4.485988</td>\n",
       "      <td>341.369366</td>\n",
       "      <td>20.231172</td>\n",
       "      <td>20.230280</td>\n",
       "      <td>0.709774</td>\n",
       "      <td>311.798130</td>\n",
       "      <td>1.611749</td>\n",
       "      <td>13.534743</td>\n",
       "      <td>0.296175</td>\n",
       "    </tr>\n",
       "    <tr>\n",
       "      <th>min</th>\n",
       "      <td>0.000000e+00</td>\n",
       "      <td>0.000000e+00</td>\n",
       "      <td>0.000000</td>\n",
       "      <td>0.000000</td>\n",
       "      <td>0.000000</td>\n",
       "      <td>0.000000</td>\n",
       "      <td>0.000000</td>\n",
       "      <td>0.000000</td>\n",
       "      <td>0.000000</td>\n",
       "      <td>0.000000</td>\n",
       "      <td>0.000000</td>\n",
       "      <td>0.000000</td>\n",
       "      <td>0.000000</td>\n",
       "      <td>1.000000</td>\n",
       "      <td>0.000000</td>\n",
       "      <td>1.000000</td>\n",
       "      <td>3.300000</td>\n",
       "      <td>0.000000</td>\n",
       "    </tr>\n",
       "    <tr>\n",
       "      <th>25%</th>\n",
       "      <td>5.674750e+03</td>\n",
       "      <td>0.000000e+00</td>\n",
       "      <td>0.000000</td>\n",
       "      <td>494.995000</td>\n",
       "      <td>0.000000</td>\n",
       "      <td>0.000000</td>\n",
       "      <td>16.180000</td>\n",
       "      <td>0.116340</td>\n",
       "      <td>0.000000</td>\n",
       "      <td>40.606701</td>\n",
       "      <td>0.000000</td>\n",
       "      <td>14.280000</td>\n",
       "      <td>14.280000</td>\n",
       "      <td>1.000000</td>\n",
       "      <td>50.712500</td>\n",
       "      <td>4.000000</td>\n",
       "      <td>12.500000</td>\n",
       "      <td>0.000000</td>\n",
       "    </tr>\n",
       "    <tr>\n",
       "      <th>50%</th>\n",
       "      <td>1.411550e+04</td>\n",
       "      <td>0.000000e+00</td>\n",
       "      <td>792.500000</td>\n",
       "      <td>1112.875000</td>\n",
       "      <td>314.000000</td>\n",
       "      <td>0.000000</td>\n",
       "      <td>18.795000</td>\n",
       "      <td>0.143166</td>\n",
       "      <td>0.084138</td>\n",
       "      <td>44.311378</td>\n",
       "      <td>37.395000</td>\n",
       "      <td>21.640000</td>\n",
       "      <td>21.640000</td>\n",
       "      <td>1.000000</td>\n",
       "      <td>112.530000</td>\n",
       "      <td>5.000000</td>\n",
       "      <td>13.856000</td>\n",
       "      <td>0.000000</td>\n",
       "    </tr>\n",
       "    <tr>\n",
       "      <th>75%</th>\n",
       "      <td>4.076375e+04</td>\n",
       "      <td>0.000000e+00</td>\n",
       "      <td>3383.000000</td>\n",
       "      <td>2401.790000</td>\n",
       "      <td>1745.750000</td>\n",
       "      <td>0.000000</td>\n",
       "      <td>131.030000</td>\n",
       "      <td>0.146348</td>\n",
       "      <td>0.098837</td>\n",
       "      <td>44.311378</td>\n",
       "      <td>193.980000</td>\n",
       "      <td>29.880000</td>\n",
       "      <td>29.880000</td>\n",
       "      <td>1.000000</td>\n",
       "      <td>243.097500</td>\n",
       "      <td>6.000000</td>\n",
       "      <td>19.172500</td>\n",
       "      <td>0.000000</td>\n",
       "    </tr>\n",
       "    <tr>\n",
       "      <th>max</th>\n",
       "      <td>6.207104e+06</td>\n",
       "      <td>4.154590e+06</td>\n",
       "      <td>771203.000000</td>\n",
       "      <td>82902.830000</td>\n",
       "      <td>175375.000000</td>\n",
       "      <td>30.000000</td>\n",
       "      <td>599.310000</td>\n",
       "      <td>0.273963</td>\n",
       "      <td>0.195975</td>\n",
       "      <td>59.266378</td>\n",
       "      <td>15042.790000</td>\n",
       "      <td>374.640000</td>\n",
       "      <td>374.640000</td>\n",
       "      <td>32.000000</td>\n",
       "      <td>24570.650000</td>\n",
       "      <td>13.000000</td>\n",
       "      <td>320.000000</td>\n",
       "      <td>1.000000</td>\n",
       "    </tr>\n",
       "  </tbody>\n",
       "</table>\n",
       "</div>"
      ],
      "text/plain": [
       "           cons_12m  cons_gas_12m  cons_last_month  forecast_cons_12m  \\\n",
       "count  1.460600e+04  1.460600e+04     14606.000000       14606.000000   \n",
       "mean   1.592203e+05  2.809238e+04     16090.269752        1868.614880   \n",
       "std    5.734653e+05  1.629731e+05     64364.196422        2387.571531   \n",
       "min    0.000000e+00  0.000000e+00         0.000000           0.000000   \n",
       "25%    5.674750e+03  0.000000e+00         0.000000         494.995000   \n",
       "50%    1.411550e+04  0.000000e+00       792.500000        1112.875000   \n",
       "75%    4.076375e+04  0.000000e+00      3383.000000        2401.790000   \n",
       "max    6.207104e+06  4.154590e+06    771203.000000       82902.830000   \n",
       "\n",
       "       forecast_cons_year  forecast_discount_energy  forecast_meter_rent_12m  \\\n",
       "count        14606.000000              14606.000000             14606.000000   \n",
       "mean          1399.762906                  0.966726                63.086871   \n",
       "std           3247.786255                  5.108289                66.165783   \n",
       "min              0.000000                  0.000000                 0.000000   \n",
       "25%              0.000000                  0.000000                16.180000   \n",
       "50%            314.000000                  0.000000                18.795000   \n",
       "75%           1745.750000                  0.000000               131.030000   \n",
       "max         175375.000000                 30.000000               599.310000   \n",
       "\n",
       "       forecast_price_energy_off_peak  forecast_price_energy_peak  \\\n",
       "count                    14606.000000                14606.000000   \n",
       "mean                         0.137283                    0.050491   \n",
       "std                          0.024623                    0.049037   \n",
       "min                          0.000000                    0.000000   \n",
       "25%                          0.116340                    0.000000   \n",
       "50%                          0.143166                    0.084138   \n",
       "75%                          0.146348                    0.098837   \n",
       "max                          0.273963                    0.195975   \n",
       "\n",
       "       forecast_price_pow_off_peak      imp_cons  margin_gross_pow_ele  \\\n",
       "count                 14606.000000  14606.000000          14606.000000   \n",
       "mean                     43.130056    152.786896             24.565121   \n",
       "std                       4.485988    341.369366             20.231172   \n",
       "min                       0.000000      0.000000              0.000000   \n",
       "25%                      40.606701      0.000000             14.280000   \n",
       "50%                      44.311378     37.395000             21.640000   \n",
       "75%                      44.311378    193.980000             29.880000   \n",
       "max                      59.266378  15042.790000            374.640000   \n",
       "\n",
       "       margin_net_pow_ele   nb_prod_act    net_margin  num_years_antig  \\\n",
       "count        14606.000000  14606.000000  14606.000000     14606.000000   \n",
       "mean            24.562517      1.292346    189.264522         4.997809   \n",
       "std             20.230280      0.709774    311.798130         1.611749   \n",
       "min              0.000000      1.000000      0.000000         1.000000   \n",
       "25%             14.280000      1.000000     50.712500         4.000000   \n",
       "50%             21.640000      1.000000    112.530000         5.000000   \n",
       "75%             29.880000      1.000000    243.097500         6.000000   \n",
       "max            374.640000     32.000000  24570.650000        13.000000   \n",
       "\n",
       "            pow_max         churn  \n",
       "count  14606.000000  14606.000000  \n",
       "mean      18.135136      0.097152  \n",
       "std       13.534743      0.296175  \n",
       "min        3.300000      0.000000  \n",
       "25%       12.500000      0.000000  \n",
       "50%       13.856000      0.000000  \n",
       "75%       19.172500      0.000000  \n",
       "max      320.000000      1.000000  "
      ]
     },
     "metadata": {},
     "output_type": "display_data"
    }
   ],
   "source": [
    "data_summary(client_data)"
   ]
  },
  {
   "cell_type": "markdown",
   "id": "77a49bb0",
   "metadata": {},
   "source": [
    "<B>Notes</B>\n",
    "1. Dates are stored as objects\n",
    "date_activ,date_end, date_modif_prod,date_renewal \n",
    "2. No duplicates\n",
    "\n"
   ]
  },
  {
   "cell_type": "markdown",
   "id": "3920a947",
   "metadata": {},
   "source": [
    "### Investigate the Categorical Features <a><a name='ch1'>"
   ]
  },
  {
   "cell_type": "markdown",
   "id": "77bd0c03",
   "metadata": {},
   "source": [
    "#### First categroical data <a><a name='sec1.1'>"
   ]
  },
  {
   "cell_type": "code",
   "execution_count": 6,
   "id": "31e21aff",
   "metadata": {},
   "outputs": [
    {
     "data": {
      "image/png": "[encoded data removed]",
      "text/plain": [
       "<Figure size 720x720 with 4 Axes>"
      ]
     },
     "metadata": {
      "needs_background": "light"
     },
     "output_type": "display_data"
    }
   ],
   "source": [
    "plt.figure(figsize=(10,10))\n",
    "x= [\"has_gas\",\"churn\"] \n",
    "y= [\"channel_sales\",\"origin_up\"] \n",
    "count_plots(client_data,None,x,y)\n"
   ]
  },
  {
   "cell_type": "markdown",
   "id": "b524d074",
   "metadata": {},
   "source": [
    "<B>Notes</B>\n",
    "\n",
    "3. Churn Distribution: is heavily imbalanced \n",
    "4. Most of the SME does not have gas distributions \n",
    "5. \n",
    "   - 3 categories of channel sales does not have any count or have a very few\n",
    "   - 2 Categories of origin up distribution does not have any encounters \n",
    "   "
   ]
  },
  {
   "cell_type": "markdown",
   "id": "bc2416fc",
   "metadata": {},
   "source": [
    "#### second Bi-varaite distributions <a><a name='sec1.2'> "
   ]
  },
  {
   "cell_type": "code",
   "execution_count": 7,
   "id": "c9592206",
   "metadata": {},
   "outputs": [
    {
     "data": {
      "image/png": "[encoded data removed]",
      "text/plain": [
       "<Figure size 720x720 with 3 Axes>"
      ]
     },
     "metadata": {
      "needs_background": "light"
     },
     "output_type": "display_data"
    }
   ],
   "source": [
    "plt.figure(figsize=(10,10))\n",
    "x= [\"has_gas\"] \n",
    "y= [\"channel_sales\",\"origin_up\"] \n",
    "count_plots(client_data,\"churn\",x,y,(3,1))"
   ]
  },
  {
   "cell_type": "markdown",
   "id": "31a2f9d8",
   "metadata": {},
   "source": [
    ".There is no clear distribution whether a certain category implies more churn or something"
   ]
  },
  {
   "cell_type": "code",
   "execution_count": 8,
   "id": "a687d4a8",
   "metadata": {},
   "outputs": [],
   "source": [
    "excluded_cat_sales=client_data.channel_sales.value_counts().index[client_data.channel_sales.value_counts()<15]\n",
    "excluded_cat_origin=client_data.origin_up.value_counts().index[client_data.origin_up.value_counts()<15]\n",
    "excluded_cat_sales=list(excluded_cat_sales)\n",
    "excluded_cat_origin=list(excluded_cat_origin)"
   ]
  },
  {
   "cell_type": "markdown",
   "id": "dcb8bb44",
   "metadata": {},
   "source": [
    "<B>Chapter 1 Summary</B> <a><a name='sec1.3'>"
   ]
  },
  {
   "cell_type": "markdown",
   "id": "15ea35f3",
   "metadata": {},
   "source": [
    "### Second Numerical data\n",
    "1. [cons_12m](#sec2.1) \n",
    "2. [cons_gas_12m](#sec2.2)\n",
    "3. [Electricity net_ele margin and gross](#sec2.3) \n",
    "4. [Netmargin](#sec2.4)\n",
    "5. [Current paid consumption](#sec2.5)\n",
    "6. [num of product services](#sec2.6) \n",
    "7. [Power max](#sec2.7)\n",
    "8. [Net year antique](#sec2.8)_\n"
   ]
  },
  {
   "cell_type": "code",
   "execution_count": 9,
   "id": "dd9cfaa7",
   "metadata": {},
   "outputs": [],
   "source": [
    "# select numerical cols and excludde churn\n",
    "numerical_cols= client_data.select_dtypes(exclude=['object']).columns\n",
    "numerical_cols= list(numerical_cols)\n",
    "numerical_cols.remove(\"churn\")\n"
   ]
  },
  {
   "cell_type": "code",
   "execution_count": 10,
   "id": "17505ee5",
   "metadata": {},
   "outputs": [
    {
     "data": {
      "text/plain": [
       "17"
      ]
     },
     "execution_count": 10,
     "metadata": {},
     "output_type": "execute_result"
    }
   ],
   "source": [
    "len(numerical_cols)"
   ]
  },
  {
   "cell_type": "markdown",
   "id": "09b29bed",
   "metadata": {},
   "source": [
    "We have about 17 Numerical columns so let's see their corrrletion to see if there are two strong varibales or something that we can exclude later. \n"
   ]
  },
  {
   "cell_type": "code",
   "execution_count": 11,
   "id": "81c9b04d",
   "metadata": {},
   "outputs": [
    {
     "data": {
      "text/html": [
       "<div>\n",
       "<style scoped>\n",
       "    .dataframe tbody tr th:only-of-type {\n",
       "        vertical-align: middle;\n",
       "    }\n",
       "\n",
       "    .dataframe tbody tr th {\n",
       "        vertical-align: top;\n",
       "    }\n",
       "\n",
       "    .dataframe thead th {\n",
       "        text-align: right;\n",
       "    }\n",
       "</style>\n",
       "<table border=\"1\" class=\"dataframe\">\n",
       "  <thead>\n",
       "    <tr style=\"text-align: right;\">\n",
       "      <th></th>\n",
       "      <th>cons_12m</th>\n",
       "      <th>cons_gas_12m</th>\n",
       "      <th>cons_last_month</th>\n",
       "      <th>forecast_cons_12m</th>\n",
       "      <th>forecast_cons_year</th>\n",
       "      <th>forecast_discount_energy</th>\n",
       "      <th>forecast_meter_rent_12m</th>\n",
       "      <th>forecast_price_energy_off_peak</th>\n",
       "      <th>forecast_price_energy_peak</th>\n",
       "      <th>forecast_price_pow_off_peak</th>\n",
       "      <th>imp_cons</th>\n",
       "      <th>margin_gross_pow_ele</th>\n",
       "      <th>margin_net_pow_ele</th>\n",
       "      <th>nb_prod_act</th>\n",
       "      <th>net_margin</th>\n",
       "      <th>num_years_antig</th>\n",
       "      <th>pow_max</th>\n",
       "    </tr>\n",
       "  </thead>\n",
       "  <tbody>\n",
       "    <tr>\n",
       "      <th>count</th>\n",
       "      <td>1.460600e+04</td>\n",
       "      <td>1.460600e+04</td>\n",
       "      <td>14606.000000</td>\n",
       "      <td>14606.000000</td>\n",
       "      <td>14606.000000</td>\n",
       "      <td>14606.000000</td>\n",
       "      <td>14606.000000</td>\n",
       "      <td>14606.000000</td>\n",
       "      <td>14606.000000</td>\n",
       "      <td>14606.000000</td>\n",
       "      <td>14606.000000</td>\n",
       "      <td>14606.000000</td>\n",
       "      <td>14606.000000</td>\n",
       "      <td>14606.000000</td>\n",
       "      <td>14606.000000</td>\n",
       "      <td>14606.000000</td>\n",
       "      <td>14606.000000</td>\n",
       "    </tr>\n",
       "    <tr>\n",
       "      <th>mean</th>\n",
       "      <td>1.592203e+05</td>\n",
       "      <td>2.809238e+04</td>\n",
       "      <td>16090.269752</td>\n",
       "      <td>1868.614880</td>\n",
       "      <td>1399.762906</td>\n",
       "      <td>0.966726</td>\n",
       "      <td>63.086871</td>\n",
       "      <td>0.137283</td>\n",
       "      <td>0.050491</td>\n",
       "      <td>43.130056</td>\n",
       "      <td>152.786896</td>\n",
       "      <td>24.565121</td>\n",
       "      <td>24.562517</td>\n",
       "      <td>1.292346</td>\n",
       "      <td>189.264522</td>\n",
       "      <td>4.997809</td>\n",
       "      <td>18.135136</td>\n",
       "    </tr>\n",
       "    <tr>\n",
       "      <th>std</th>\n",
       "      <td>5.734653e+05</td>\n",
       "      <td>1.629731e+05</td>\n",
       "      <td>64364.196422</td>\n",
       "      <td>2387.571531</td>\n",
       "      <td>3247.786255</td>\n",
       "      <td>5.108289</td>\n",
       "      <td>66.165783</td>\n",
       "      <td>0.024623</td>\n",
       "      <td>0.049037</td>\n",
       "      <td>4.485988</td>\n",
       "      <td>341.369366</td>\n",
       "      <td>20.231172</td>\n",
       "      <td>20.230280</td>\n",
       "      <td>0.709774</td>\n",
       "      <td>311.798130</td>\n",
       "      <td>1.611749</td>\n",
       "      <td>13.534743</td>\n",
       "    </tr>\n",
       "    <tr>\n",
       "      <th>min</th>\n",
       "      <td>0.000000e+00</td>\n",
       "      <td>0.000000e+00</td>\n",
       "      <td>0.000000</td>\n",
       "      <td>0.000000</td>\n",
       "      <td>0.000000</td>\n",
       "      <td>0.000000</td>\n",
       "      <td>0.000000</td>\n",
       "      <td>0.000000</td>\n",
       "      <td>0.000000</td>\n",
       "      <td>0.000000</td>\n",
       "      <td>0.000000</td>\n",
       "      <td>0.000000</td>\n",
       "      <td>0.000000</td>\n",
       "      <td>1.000000</td>\n",
       "      <td>0.000000</td>\n",
       "      <td>1.000000</td>\n",
       "      <td>3.300000</td>\n",
       "    </tr>\n",
       "    <tr>\n",
       "      <th>25%</th>\n",
       "      <td>5.674750e+03</td>\n",
       "      <td>0.000000e+00</td>\n",
       "      <td>0.000000</td>\n",
       "      <td>494.995000</td>\n",
       "      <td>0.000000</td>\n",
       "      <td>0.000000</td>\n",
       "      <td>16.180000</td>\n",
       "      <td>0.116340</td>\n",
       "      <td>0.000000</td>\n",
       "      <td>40.606701</td>\n",
       "      <td>0.000000</td>\n",
       "      <td>14.280000</td>\n",
       "      <td>14.280000</td>\n",
       "      <td>1.000000</td>\n",
       "      <td>50.712500</td>\n",
       "      <td>4.000000</td>\n",
       "      <td>12.500000</td>\n",
       "    </tr>\n",
       "    <tr>\n",
       "      <th>50%</th>\n",
       "      <td>1.411550e+04</td>\n",
       "      <td>0.000000e+00</td>\n",
       "      <td>792.500000</td>\n",
       "      <td>1112.875000</td>\n",
       "      <td>314.000000</td>\n",
       "      <td>0.000000</td>\n",
       "      <td>18.795000</td>\n",
       "      <td>0.143166</td>\n",
       "      <td>0.084138</td>\n",
       "      <td>44.311378</td>\n",
       "      <td>37.395000</td>\n",
       "      <td>21.640000</td>\n",
       "      <td>21.640000</td>\n",
       "      <td>1.000000</td>\n",
       "      <td>112.530000</td>\n",
       "      <td>5.000000</td>\n",
       "      <td>13.856000</td>\n",
       "    </tr>\n",
       "    <tr>\n",
       "      <th>75%</th>\n",
       "      <td>4.076375e+04</td>\n",
       "      <td>0.000000e+00</td>\n",
       "      <td>3383.000000</td>\n",
       "      <td>2401.790000</td>\n",
       "      <td>1745.750000</td>\n",
       "      <td>0.000000</td>\n",
       "      <td>131.030000</td>\n",
       "      <td>0.146348</td>\n",
       "      <td>0.098837</td>\n",
       "      <td>44.311378</td>\n",
       "      <td>193.980000</td>\n",
       "      <td>29.880000</td>\n",
       "      <td>29.880000</td>\n",
       "      <td>1.000000</td>\n",
       "      <td>243.097500</td>\n",
       "      <td>6.000000</td>\n",
       "      <td>19.172500</td>\n",
       "    </tr>\n",
       "    <tr>\n",
       "      <th>max</th>\n",
       "      <td>6.207104e+06</td>\n",
       "      <td>4.154590e+06</td>\n",
       "      <td>771203.000000</td>\n",
       "      <td>82902.830000</td>\n",
       "      <td>175375.000000</td>\n",
       "      <td>30.000000</td>\n",
       "      <td>599.310000</td>\n",
       "      <td>0.273963</td>\n",
       "      <td>0.195975</td>\n",
       "      <td>59.266378</td>\n",
       "      <td>15042.790000</td>\n",
       "      <td>374.640000</td>\n",
       "      <td>374.640000</td>\n",
       "      <td>32.000000</td>\n",
       "      <td>24570.650000</td>\n",
       "      <td>13.000000</td>\n",
       "      <td>320.000000</td>\n",
       "    </tr>\n",
       "  </tbody>\n",
       "</table>\n",
       "</div>"
      ],
      "text/plain": [
       "           cons_12m  cons_gas_12m  cons_last_month  forecast_cons_12m  \\\n",
       "count  1.460600e+04  1.460600e+04     14606.000000       14606.000000   \n",
       "mean   1.592203e+05  2.809238e+04     16090.269752        1868.614880   \n",
       "std    5.734653e+05  1.629731e+05     64364.196422        2387.571531   \n",
       "min    0.000000e+00  0.000000e+00         0.000000           0.000000   \n",
       "25%    5.674750e+03  0.000000e+00         0.000000         494.995000   \n",
       "50%    1.411550e+04  0.000000e+00       792.500000        1112.875000   \n",
       "75%    4.076375e+04  0.000000e+00      3383.000000        2401.790000   \n",
       "max    6.207104e+06  4.154590e+06    771203.000000       82902.830000   \n",
       "\n",
       "       forecast_cons_year  forecast_discount_energy  forecast_meter_rent_12m  \\\n",
       "count        14606.000000              14606.000000             14606.000000   \n",
       "mean          1399.762906                  0.966726                63.086871   \n",
       "std           3247.786255                  5.108289                66.165783   \n",
       "min              0.000000                  0.000000                 0.000000   \n",
       "25%              0.000000                  0.000000                16.180000   \n",
       "50%            314.000000                  0.000000                18.795000   \n",
       "75%           1745.750000                  0.000000               131.030000   \n",
       "max         175375.000000                 30.000000               599.310000   \n",
       "\n",
       "       forecast_price_energy_off_peak  forecast_price_energy_peak  \\\n",
       "count                    14606.000000                14606.000000   \n",
       "mean                         0.137283                    0.050491   \n",
       "std                          0.024623                    0.049037   \n",
       "min                          0.000000                    0.000000   \n",
       "25%                          0.116340                    0.000000   \n",
       "50%                          0.143166                    0.084138   \n",
       "75%                          0.146348                    0.098837   \n",
       "max                          0.273963                    0.195975   \n",
       "\n",
       "       forecast_price_pow_off_peak      imp_cons  margin_gross_pow_ele  \\\n",
       "count                 14606.000000  14606.000000          14606.000000   \n",
       "mean                     43.130056    152.786896             24.565121   \n",
       "std                       4.485988    341.369366             20.231172   \n",
       "min                       0.000000      0.000000              0.000000   \n",
       "25%                      40.606701      0.000000             14.280000   \n",
       "50%                      44.311378     37.395000             21.640000   \n",
       "75%                      44.311378    193.980000             29.880000   \n",
       "max                      59.266378  15042.790000            374.640000   \n",
       "\n",
       "       margin_net_pow_ele   nb_prod_act    net_margin  num_years_antig  \\\n",
       "count        14606.000000  14606.000000  14606.000000     14606.000000   \n",
       "mean            24.562517      1.292346    189.264522         4.997809   \n",
       "std             20.230280      0.709774    311.798130         1.611749   \n",
       "min              0.000000      1.000000      0.000000         1.000000   \n",
       "25%             14.280000      1.000000     50.712500         4.000000   \n",
       "50%             21.640000      1.000000    112.530000         5.000000   \n",
       "75%             29.880000      1.000000    243.097500         6.000000   \n",
       "max            374.640000     32.000000  24570.650000        13.000000   \n",
       "\n",
       "            pow_max  \n",
       "count  14606.000000  \n",
       "mean      18.135136  \n",
       "std       13.534743  \n",
       "min        3.300000  \n",
       "25%       12.500000  \n",
       "50%       13.856000  \n",
       "75%       19.172500  \n",
       "max      320.000000  "
      ]
     },
     "execution_count": 11,
     "metadata": {},
     "output_type": "execute_result"
    }
   ],
   "source": [
    "client_data[numerical_cols].describe()"
   ]
  },
  {
   "cell_type": "markdown",
   "id": "ed840a71",
   "metadata": {},
   "source": [
    "#### Electricity consumption <a><a name='sec2.1'>"
   ]
  },
  {
   "cell_type": "code",
   "execution_count": 12,
   "id": "107a7b09",
   "metadata": {},
   "outputs": [
    {
     "data": {
      "image/png": "[encoded data removed]",
      "text/plain": [
       "<Figure size 576x288 with 3 Axes>"
      ]
     },
     "metadata": {
      "needs_background": "light"
     },
     "output_type": "display_data"
    }
   ],
   "source": [
    "plt.figure(figsize=(8,4))\n",
    "x= [\"cons_12m\"]*3\n",
    "bins_1= np.arange(client_data.cons_12m.min(), client_data.cons_12m.quantile(0.75)*1.5+1*1e3,1*1e3)\n",
    "bins_2= np.arange(client_data.cons_12m.quantile(0.75)*1.5, client_data.cons_12m.max()+1e4,1e4);\n",
    "bins= [None,bins_1,bins_2]\n",
    "titles= [\"Original cons_12m Not\",\"The Distribution < Q4\",\"The Distribution > Q4\"] \n",
    "scales= [\"linear\",\"log\",'log'] \n",
    "dsitribution_plots(data=client_data,x=x,bins_list=bins,scales=scales,titles=titles,order=(1,3)) \n"
   ]
  },
  {
   "cell_type": "markdown",
   "id": "c9bc9798",
   "metadata": {},
   "source": [
    "<B>Notes</B>\n",
    "1. should I ?? seperate them as 2 columns where in case of logistic regression it will understand that this is some kind of two columns and would have an equation simialr to \n",
    "    $$ cons12m = (1-x)Distribution1 + x \\times Distribution2 $$ where x is either 0 or 1"
   ]
  },
  {
   "cell_type": "markdown",
   "id": "8943135e",
   "metadata": {},
   "source": [
    "#### Gas consumption <a><a name='sec2.2'>"
   ]
  },
  {
   "cell_type": "code",
   "execution_count": 13,
   "id": "6aed782b",
   "metadata": {},
   "outputs": [
    {
     "data": {
      "image/png": "[encoded data removed]",
      "text/plain": [
       "<Figure size 576x288 with 3 Axes>"
      ]
     },
     "metadata": {
      "needs_background": "light"
     },
     "output_type": "display_data"
    }
   ],
   "source": [
    "plt.figure(figsize=(8,4))\n",
    "bins1= np.arange(976731, client_data.cons_12m.max()+1.6*1e5,1.6*1e5)\n",
    "bins2= np.arange(976731, client_data.cons_12m.max()+2.8*1e4,2.8*1e4)\n",
    "bins3= np.arange(976731, client_data.cons_12m.max()+7.5*1e4,7.5*1e4)\n",
    "\n",
    "bins=[bins1,bins2,bins3]\n",
    "dsitribution_plots(data=client_data,x=[\"cons_gas_12m\"]*3,titles=[\"Bins1\",\"Bins2\",\"Bins3\"],scales=[\"linear\",\"linear\",\"linear\"],bins_list=bins) \n"
   ]
  },
  {
   "cell_type": "code",
   "execution_count": 14,
   "id": "c1bd5a57",
   "metadata": {},
   "outputs": [
    {
     "data": {
      "text/plain": [
       "0          11994\n",
       "976731        27\n",
       "867921        24\n",
       "41532         18\n",
       "1959386       18\n",
       "           ...  \n",
       "39211          1\n",
       "92364          1\n",
       "8905           1\n",
       "8125           1\n",
       "47940          1\n",
       "Name: cons_gas_12m, Length: 2112, dtype: int64"
      ]
     },
     "execution_count": 14,
     "metadata": {},
     "output_type": "execute_result"
    }
   ],
   "source": [
    "client_data.cons_gas_12m.value_counts()"
   ]
  },
  {
   "cell_type": "markdown",
   "id": "8b8b517f",
   "metadata": {},
   "source": [
    "<B>Notes</B>\n",
    "\n",
    "2. There is also some kind of binomial distribution we can see two different distributions broke at almost 1e6\n",
    "3. The best bins is bins1 \n",
    "4. We can use this bins on considering how we are going to compute the normalization stuff \"like choosing a not affeted mean/std with the losts of zeros \""
   ]
  },
  {
   "cell_type": "markdown",
   "id": "ff77b002",
   "metadata": {},
   "source": [
    "#### Net and gross_margin <a><a name='sec2.3'>"
   ]
  },
  {
   "cell_type": "code",
   "execution_count": 15,
   "id": "ae7a28df",
   "metadata": {},
   "outputs": [
    {
     "data": {
      "text/html": [
       "<div>\n",
       "<style scoped>\n",
       "    .dataframe tbody tr th:only-of-type {\n",
       "        vertical-align: middle;\n",
       "    }\n",
       "\n",
       "    .dataframe tbody tr th {\n",
       "        vertical-align: top;\n",
       "    }\n",
       "\n",
       "    .dataframe thead th {\n",
       "        text-align: right;\n",
       "    }\n",
       "</style>\n",
       "<table border=\"1\" class=\"dataframe\">\n",
       "  <thead>\n",
       "    <tr style=\"text-align: right;\">\n",
       "      <th></th>\n",
       "      <th>id</th>\n",
       "      <th>channel_sales</th>\n",
       "      <th>cons_12m</th>\n",
       "      <th>cons_gas_12m</th>\n",
       "      <th>cons_last_month</th>\n",
       "      <th>date_activ</th>\n",
       "      <th>date_end</th>\n",
       "      <th>date_modif_prod</th>\n",
       "      <th>date_renewal</th>\n",
       "      <th>forecast_cons_12m</th>\n",
       "      <th>...</th>\n",
       "      <th>has_gas</th>\n",
       "      <th>imp_cons</th>\n",
       "      <th>margin_gross_pow_ele</th>\n",
       "      <th>margin_net_pow_ele</th>\n",
       "      <th>nb_prod_act</th>\n",
       "      <th>net_margin</th>\n",
       "      <th>num_years_antig</th>\n",
       "      <th>origin_up</th>\n",
       "      <th>pow_max</th>\n",
       "      <th>churn</th>\n",
       "    </tr>\n",
       "  </thead>\n",
       "  <tbody>\n",
       "    <tr>\n",
       "      <th>4876</th>\n",
       "      <td>9590c7a6100ae76ec078aa177ffb8d0d</td>\n",
       "      <td>foosdfpfkusacimwkcsosbicdxkicaua</td>\n",
       "      <td>343504</td>\n",
       "      <td>280766</td>\n",
       "      <td>28287</td>\n",
       "      <td>2012-11-14</td>\n",
       "      <td>2016-11-17</td>\n",
       "      <td>2015-11-18</td>\n",
       "      <td>2015-11-18</td>\n",
       "      <td>7297.56</td>\n",
       "      <td>...</td>\n",
       "      <td>t</td>\n",
       "      <td>0.00</td>\n",
       "      <td>64.28</td>\n",
       "      <td>57.59</td>\n",
       "      <td>2</td>\n",
       "      <td>3215.03</td>\n",
       "      <td>3</td>\n",
       "      <td>ldkssxwpmemidmecebumciepifcamkci</td>\n",
       "      <td>19.41</td>\n",
       "      <td>0</td>\n",
       "    </tr>\n",
       "    <tr>\n",
       "      <th>10756</th>\n",
       "      <td>2df10d02d00fd4c85d367dd6287671bc</td>\n",
       "      <td>lmkebamcaaclubfxadlmueccxoimlema</td>\n",
       "      <td>4970</td>\n",
       "      <td>0</td>\n",
       "      <td>685</td>\n",
       "      <td>2009-04-23</td>\n",
       "      <td>2016-04-27</td>\n",
       "      <td>2015-04-27</td>\n",
       "      <td>2014-12-18</td>\n",
       "      <td>938.70</td>\n",
       "      <td>...</td>\n",
       "      <td>f</td>\n",
       "      <td>137.88</td>\n",
       "      <td>40.88</td>\n",
       "      <td>9.54</td>\n",
       "      <td>1</td>\n",
       "      <td>61.37</td>\n",
       "      <td>7</td>\n",
       "      <td>ldkssxwpmemidmecebumciepifcamkci</td>\n",
       "      <td>13.20</td>\n",
       "      <td>0</td>\n",
       "    </tr>\n",
       "  </tbody>\n",
       "</table>\n",
       "<p>2 rows × 26 columns</p>\n",
       "</div>"
      ],
      "text/plain": [
       "                                     id                     channel_sales  \\\n",
       "4876   9590c7a6100ae76ec078aa177ffb8d0d  foosdfpfkusacimwkcsosbicdxkicaua   \n",
       "10756  2df10d02d00fd4c85d367dd6287671bc  lmkebamcaaclubfxadlmueccxoimlema   \n",
       "\n",
       "       cons_12m  cons_gas_12m  cons_last_month  date_activ    date_end  \\\n",
       "4876     343504        280766            28287  2012-11-14  2016-11-17   \n",
       "10756      4970             0              685  2009-04-23  2016-04-27   \n",
       "\n",
       "      date_modif_prod date_renewal  forecast_cons_12m  ...  has_gas  imp_cons  \\\n",
       "4876       2015-11-18   2015-11-18            7297.56  ...        t      0.00   \n",
       "10756      2015-04-27   2014-12-18             938.70  ...        f    137.88   \n",
       "\n",
       "       margin_gross_pow_ele  margin_net_pow_ele  nb_prod_act  net_margin  \\\n",
       "4876                  64.28               57.59            2     3215.03   \n",
       "10756                 40.88                9.54            1       61.37   \n",
       "\n",
       "      num_years_antig                         origin_up  pow_max  churn  \n",
       "4876                3  ldkssxwpmemidmecebumciepifcamkci    19.41      0  \n",
       "10756               7  ldkssxwpmemidmecebumciepifcamkci    13.20      0  \n",
       "\n",
       "[2 rows x 26 columns]"
      ]
     },
     "execution_count": 15,
     "metadata": {},
     "output_type": "execute_result"
    }
   ],
   "source": [
    "client_data[client_data.margin_net_pow_ele!= client_data.margin_gross_pow_ele]"
   ]
  },
  {
   "cell_type": "code",
   "execution_count": 16,
   "id": "66276bc8",
   "metadata": {},
   "outputs": [
    {
     "data": {
      "image/png": "[encoded data removed]",
      "text/plain": [
       "<Figure size 576x288 with 2 Axes>"
      ]
     },
     "metadata": {
      "needs_background": "light"
     },
     "output_type": "display_data"
    }
   ],
   "source": [
    "plt.figure(figsize=(8,4))\n",
    "bin1= np.arange(client_data.margin_gross_pow_ele.min(),client_data.margin_gross_pow_ele.max()+5,5)\n",
    "bin2= np.arange(client_data.margin_gross_pow_ele.min(),client_data.margin_gross_pow_ele.max()+10,10)\n",
    "\n",
    "bins=[bin1,bin2]\n",
    "dsitribution_plots(data=client_data,x=[\"margin_gross_pow_ele\"]*2,titles=[\"bin = 5\",\"bin=10\"],scales=[\"linear\"]*2,bins_list=bins) \n"
   ]
  },
  {
   "cell_type": "markdown",
   "id": "0549925b",
   "metadata": {},
   "source": [
    "#### Net margin "
   ]
  },
  {
   "cell_type": "code",
   "execution_count": 17,
   "id": "c0322b3c",
   "metadata": {},
   "outputs": [
    {
     "data": {
      "text/html": [
       "<div>\n",
       "<style scoped>\n",
       "    .dataframe tbody tr th:only-of-type {\n",
       "        vertical-align: middle;\n",
       "    }\n",
       "\n",
       "    .dataframe tbody tr th {\n",
       "        vertical-align: top;\n",
       "    }\n",
       "\n",
       "    .dataframe thead th {\n",
       "        text-align: right;\n",
       "    }\n",
       "</style>\n",
       "<table border=\"1\" class=\"dataframe\">\n",
       "  <thead>\n",
       "    <tr style=\"text-align: right;\">\n",
       "      <th></th>\n",
       "      <th>net_margin</th>\n",
       "      <th>margin_net_pow_ele</th>\n",
       "    </tr>\n",
       "  </thead>\n",
       "  <tbody>\n",
       "    <tr>\n",
       "      <th>net_margin</th>\n",
       "      <td>1.000000</td>\n",
       "      <td>0.031639</td>\n",
       "    </tr>\n",
       "    <tr>\n",
       "      <th>margin_net_pow_ele</th>\n",
       "      <td>0.031639</td>\n",
       "      <td>1.000000</td>\n",
       "    </tr>\n",
       "  </tbody>\n",
       "</table>\n",
       "</div>"
      ],
      "text/plain": [
       "                    net_margin  margin_net_pow_ele\n",
       "net_margin            1.000000            0.031639\n",
       "margin_net_pow_ele    0.031639            1.000000"
      ]
     },
     "execution_count": 17,
     "metadata": {},
     "output_type": "execute_result"
    }
   ],
   "source": [
    "client_data[[\"net_margin\",\"margin_net_pow_ele\"]].corr()"
   ]
  },
  {
   "cell_type": "markdown",
   "id": "cafe1113",
   "metadata": {},
   "source": [
    "its kind of weird to see that the electricity net margin and the total net margin are not correlated "
   ]
  },
  {
   "cell_type": "code",
   "execution_count": 18,
   "id": "5539479e",
   "metadata": {},
   "outputs": [
    {
     "data": {
      "image/png": "[encoded data removed]",
      "text/plain": [
       "<Figure size 432x288 with 1 Axes>"
      ]
     },
     "metadata": {
      "needs_background": "light"
     },
     "output_type": "display_data"
    }
   ],
   "source": [
    "plt.scatter(data=client_data,x=\"net_margin\",y=\"margin_net_pow_ele\",alpha=0.3)\n",
    "plt.xscale(\"log\")\n"
   ]
  },
  {
   "cell_type": "code",
   "execution_count": 19,
   "id": "7f73c0fd",
   "metadata": {},
   "outputs": [
    {
     "data": {
      "text/plain": [
       "(0.0, 1000.0)"
      ]
     },
     "execution_count": 19,
     "metadata": {},
     "output_type": "execute_result"
    },
    {
     "data": {
      "image/png": "[encoded data removed]",
      "text/plain": [
       "<Figure size 576x288 with 1 Axes>"
      ]
     },
     "metadata": {
      "needs_background": "light"
     },
     "output_type": "display_data"
    }
   ],
   "source": [
    "plt.figure(figsize=(8,4))\n",
    "bin2= np.arange(client_data.net_margin.min(),client_data.net_margin.max()+100,100)\n",
    "bins=[bin2]\n",
    "dsitribution_plots(data=client_data,x=[\"net_margin\"],titles=[\"Net margin\"],scales=[\"linear\"],bins_list=bins) \n",
    "plt.xlim([0,1e3])"
   ]
  },
  {
   "cell_type": "code",
   "execution_count": 20,
   "id": "fb4f58d8",
   "metadata": {},
   "outputs": [
    {
     "name": "stdout",
     "output_type": "stream",
     "text": [
      "1330 are greater than 486.195\n"
     ]
    }
   ],
   "source": [
    "num = client_data.net_margin.quantile(0.75)*2\n",
    "print(\"{} are greater than {}\".format(sum(num < client_data.net_margin),num))"
   ]
  },
  {
   "cell_type": "markdown",
   "id": "f20f8151",
   "metadata": {},
   "source": [
    "<B>Notes</B>\n",
    "\n",
    "Am not quire sure how to deal with this .... the variance changes badly after the 0.75 quantile "
   ]
  },
  {
   "cell_type": "markdown",
   "id": "391f8470",
   "metadata": {},
   "source": [
    "#### imp_cons <a><a name='sec2.5'>"
   ]
  },
  {
   "cell_type": "code",
   "execution_count": 21,
   "id": "d9d33927",
   "metadata": {},
   "outputs": [
    {
     "data": {
      "image/png": "[encoded data removed]",
      "text/plain": [
       "<Figure size 576x288 with 1 Axes>"
      ]
     },
     "metadata": {
      "needs_background": "light"
     },
     "output_type": "display_data"
    }
   ],
   "source": [
    "plt.figure(figsize=(8,4))\n",
    "bin2= np.arange(client_data.imp_cons.min(),client_data.imp_cons.max()+100,100)\n",
    "bins=[bin2]\n",
    "dsitribution_plots(data=client_data,x=[\"imp_cons\"],titles=[\"imp_cons\"],scales=[\"linear\"],bins_list=bins) \n",
    "plt.xlim([0,2000]);\n"
   ]
  },
  {
   "cell_type": "code",
   "execution_count": 22,
   "id": "19bd3065",
   "metadata": {},
   "outputs": [
    {
     "data": {
      "text/plain": [
       "76"
      ]
     },
     "execution_count": 22,
     "metadata": {},
     "output_type": "execute_result"
    }
   ],
   "source": [
    "sum(client_data.imp_cons > 1600)"
   ]
  },
  {
   "cell_type": "code",
   "execution_count": 23,
   "id": "5db8a076",
   "metadata": {},
   "outputs": [
    {
     "data": {
      "image/png": "[encoded data removed]",
      "text/plain": [
       "<Figure size 576x288 with 1 Axes>"
      ]
     },
     "metadata": {
      "needs_background": "light"
     },
     "output_type": "display_data"
    }
   ],
   "source": [
    "plt.figure(figsize=(8,4))\n",
    "bin2= np.arange(1e3,client_data.imp_cons.max()+100,100)\n",
    "bins=[bin2]\n",
    "dsitribution_plots(data=client_data,x=[\"imp_cons\"],titles=[\"imp_cons\"],scales=[\"linear\"],bins_list=bins) \n",
    "plt.xlim([0,2000]);\n"
   ]
  },
  {
   "cell_type": "markdown",
   "id": "299f4507",
   "metadata": {},
   "source": [
    "#### Number of products <a><a name='2.6'>"
   ]
  },
  {
   "cell_type": "code",
   "execution_count": 24,
   "id": "08909df9",
   "metadata": {},
   "outputs": [
    {
     "name": "stderr",
     "output_type": "stream",
     "text": [
      "/home/ahmed/anaconda3/lib/python3.9/site-packages/seaborn/_decorators.py:36: FutureWarning: Pass the following variable as a keyword arg: x. From version 0.12, the only valid positional argument will be `data`, and passing other arguments without an explicit keyword will result in an error or misinterpretation.\n",
      "  warnings.warn(\n"
     ]
    },
    {
     "data": {
      "image/png": "[encoded data removed]",
      "text/plain": [
       "<Figure size 432x288 with 1 Axes>"
      ]
     },
     "metadata": {
      "needs_background": "light"
     },
     "output_type": "display_data"
    }
   ],
   "source": [
    "plt.title(\"Number of Products \");\n",
    "sb.countplot(client_data.nb_prod_act,color=sb.color_palette()[0]);"
   ]
  },
  {
   "cell_type": "code",
   "execution_count": 25,
   "id": "cd0c4c3a",
   "metadata": {},
   "outputs": [
    {
     "name": "stdout",
     "output_type": "stream",
     "text": [
      "Num of prod == 1 || cusmoters count 11431 || with churn rate equal 0.0998162890385793\n",
      "Num of prod == 2 || cusmoters count 2445 || with churn rate equal 0.0850715746421268\n",
      "Num of prod == 3 || cusmoters count 523 || with churn rate equal 0.0994263862332696\n",
      "Num of prod == 4 || cusmoters count 150 || with churn rate equal 0.1\n",
      "Num of prod == 5 || cusmoters count 31 || with churn rate equal 0.0967741935483871\n",
      "Num of prod > 5 || cusmoters count 26 || with churn rate equal 0.0\n"
     ]
    }
   ],
   "source": [
    "for i in range(1,6,1):\n",
    "    df= client_data[client_data.nb_prod_act == i].churn\n",
    "    print(\"Num of prod == {} || cusmoters count {} || with churn rate equal {}\".format(i,len(df),sum(df)/len(df)))\n",
    "df= client_data[client_data.nb_prod_act > 5].churn\n",
    "print(\"Num of prod > {} || cusmoters count {} || with churn rate equal {}\".format(5,len(df),sum(df)/len(df)))"
   ]
  },
  {
   "cell_type": "markdown",
   "id": "ef6015d1",
   "metadata": {},
   "source": [
    "The above prints implies that the number of products may not imply anthying about whether the customer is going to churn or not if the number of products are less than or equal 5. \n",
    "\n",
    "To test the more thna 5 products customers let's see if they are antique or not "
   ]
  },
  {
   "cell_type": "code",
   "execution_count": 26,
   "id": "aa6df8d0",
   "metadata": {},
   "outputs": [
    {
     "data": {
      "text/plain": [
       "6     19\n",
       "5      3\n",
       "4      2\n",
       "8      1\n",
       "11     1\n",
       "Name: num_years_antig, dtype: int64"
      ]
     },
     "execution_count": 26,
     "metadata": {},
     "output_type": "execute_result"
    }
   ],
   "source": [
    "df= client_data[client_data.nb_prod_act> 5 ].num_years_antig\n",
    "df.value_counts()"
   ]
  },
  {
   "cell_type": "markdown",
   "id": "fa614506",
   "metadata": {},
   "source": [
    "<B>Notes</B>\n",
    "\n",
    "The above implies that if the number of products is more than 5 and the customers are antique then theya re less likely to churn"
   ]
  },
  {
   "cell_type": "markdown",
   "id": "53a93aaf",
   "metadata": {},
   "source": [
    "#### Pow max <a><a name='sec2.7'>"
   ]
  },
  {
   "cell_type": "code",
   "execution_count": 27,
   "id": "98862dc9",
   "metadata": {},
   "outputs": [
    {
     "data": {
      "image/png": "[encoded data removed]",
      "text/plain": [
       "<Figure size 576x288 with 1 Axes>"
      ]
     },
     "metadata": {
      "needs_background": "light"
     },
     "output_type": "display_data"
    }
   ],
   "source": [
    "plt.figure(figsize=(8,4))\n",
    "bin2= np.arange(client_data.pow_max.min(),client_data.pow_max.max()+5,5)\n",
    "bins=[bin2]\n",
    "dsitribution_plots(data=client_data,x=[\"pow_max\"],titles=[\"pow_max\"],scales=[\"linear\"],bins_list=bins) "
   ]
  },
  {
   "cell_type": "code",
   "execution_count": 28,
   "id": "b0d51145",
   "metadata": {},
   "outputs": [
    {
     "data": {
      "image/png": "[encoded data removed]",
      "text/plain": [
       "<Figure size 576x288 with 1 Axes>"
      ]
     },
     "metadata": {
      "needs_background": "light"
     },
     "output_type": "display_data"
    }
   ],
   "source": [
    "plt.figure(figsize=(8,4))\n",
    "bin2= np.arange(100,client_data.pow_max.max()+5,5)\n",
    "bins=[bin2]\n",
    "dsitribution_plots(data=client_data,x=[\"pow_max\"],titles=[\"pow_max \\n bins starting from 100\"],scales=[\"linear\"],bins_list=bins) "
   ]
  },
  {
   "cell_type": "markdown",
   "id": "4c62681e",
   "metadata": {},
   "source": [
    "<B>Notes</B> \n",
    "\n",
    "yet it feels that it has some kind of binomial distribution. \n"
   ]
  },
  {
   "cell_type": "markdown",
   "id": "b48dceff",
   "metadata": {},
   "source": [
    "#### Net year antique <a><a nmae='sec2.8'>"
   ]
  },
  {
   "cell_type": "code",
   "execution_count": 29,
   "id": "80fbce9c",
   "metadata": {},
   "outputs": [
    {
     "data": {
      "image/png": "[encoded data removed]",
      "text/plain": [
       "<Figure size 360x360 with 1 Axes>"
      ]
     },
     "metadata": {
      "needs_background": "light"
     },
     "output_type": "display_data"
    }
   ],
   "source": [
    "plt.figure(figsize=(5,5))\n",
    "x= [\"num_years_antig\"] \n",
    "count_plots(client_data,\"churn\",x,[],(1,1))"
   ]
  },
  {
   "cell_type": "markdown",
   "id": "3a30849b",
   "metadata": {},
   "source": [
    "#### Numerical Bi-variate distributions"
   ]
  },
  {
   "cell_type": "markdown",
   "id": "966e2ab5",
   "metadata": {},
   "source": [
    "## Dates Investigation <a><a name='ch3'>"
   ]
  },
  {
   "cell_type": "code",
   "execution_count": 30,
   "id": "d619aca8",
   "metadata": {},
   "outputs": [
    {
     "data": {
      "text/html": [
       "<div>\n",
       "<style scoped>\n",
       "    .dataframe tbody tr th:only-of-type {\n",
       "        vertical-align: middle;\n",
       "    }\n",
       "\n",
       "    .dataframe tbody tr th {\n",
       "        vertical-align: top;\n",
       "    }\n",
       "\n",
       "    .dataframe thead th {\n",
       "        text-align: right;\n",
       "    }\n",
       "</style>\n",
       "<table border=\"1\" class=\"dataframe\">\n",
       "  <thead>\n",
       "    <tr style=\"text-align: right;\">\n",
       "      <th></th>\n",
       "      <th>date_activ</th>\n",
       "      <th>date_end</th>\n",
       "      <th>date_modif_prod</th>\n",
       "      <th>date_renewal</th>\n",
       "    </tr>\n",
       "  </thead>\n",
       "  <tbody>\n",
       "    <tr>\n",
       "      <th>0</th>\n",
       "      <td>2013-06-15</td>\n",
       "      <td>2016-06-15</td>\n",
       "      <td>2015-11-01</td>\n",
       "      <td>2015-06-23</td>\n",
       "    </tr>\n",
       "    <tr>\n",
       "      <th>1</th>\n",
       "      <td>2009-08-21</td>\n",
       "      <td>2016-08-30</td>\n",
       "      <td>2009-08-21</td>\n",
       "      <td>2015-08-31</td>\n",
       "    </tr>\n",
       "    <tr>\n",
       "      <th>2</th>\n",
       "      <td>2010-04-16</td>\n",
       "      <td>2016-04-16</td>\n",
       "      <td>2010-04-16</td>\n",
       "      <td>2015-04-17</td>\n",
       "    </tr>\n",
       "    <tr>\n",
       "      <th>3</th>\n",
       "      <td>2010-03-30</td>\n",
       "      <td>2016-03-30</td>\n",
       "      <td>2010-03-30</td>\n",
       "      <td>2015-03-31</td>\n",
       "    </tr>\n",
       "    <tr>\n",
       "      <th>4</th>\n",
       "      <td>2010-01-13</td>\n",
       "      <td>2016-03-07</td>\n",
       "      <td>2010-01-13</td>\n",
       "      <td>2015-03-09</td>\n",
       "    </tr>\n",
       "  </tbody>\n",
       "</table>\n",
       "</div>"
      ],
      "text/plain": [
       "   date_activ    date_end date_modif_prod date_renewal\n",
       "0  2013-06-15  2016-06-15      2015-11-01   2015-06-23\n",
       "1  2009-08-21  2016-08-30      2009-08-21   2015-08-31\n",
       "2  2010-04-16  2016-04-16      2010-04-16   2015-04-17\n",
       "3  2010-03-30  2016-03-30      2010-03-30   2015-03-31\n",
       "4  2010-01-13  2016-03-07      2010-01-13   2015-03-09"
      ]
     },
     "execution_count": 30,
     "metadata": {},
     "output_type": "execute_result"
    }
   ],
   "source": [
    "dates= [\"date_activ\",\"date_end\",\"date_modif_prod\",\"date_renewal\"] \n",
    "client_data[dates].head(5)"
   ]
  },
  {
   "cell_type": "code",
   "execution_count": 31,
   "id": "4d46ec83",
   "metadata": {},
   "outputs": [],
   "source": [
    "dates.remove(\"date_activ\")\n",
    "dates.remove(\"date_modif_prod\")\n",
    "\n"
   ]
  },
  {
   "cell_type": "code",
   "execution_count": 32,
   "id": "97544f38",
   "metadata": {},
   "outputs": [],
   "source": [
    "client_data.date_end= pd.to_datetime(client_data.date_end)\n",
    "client_data.date_renewal= pd.to_datetime(client_data.date_renewal)\n",
    "\n"
   ]
  },
  {
   "cell_type": "code",
   "execution_count": 33,
   "id": "32741d85",
   "metadata": {},
   "outputs": [],
   "source": [
    "client_data[\"date_end_month\"]= client_data.date_end.dt.month\n",
    "client_data[\"date_end_year\"]= client_data.date_end.dt.year\n",
    "\n",
    "client_data[\"date_renewal_month\"]= client_data.date_renewal.dt.month\n",
    "client_data[\"date_renewal_year\"]= client_data.date_renewal.dt.year"
   ]
  },
  {
   "cell_type": "code",
   "execution_count": 34,
   "id": "16887986",
   "metadata": {},
   "outputs": [
    {
     "data": {
      "image/png": "[encoded data removed]",
      "text/plain": [
       "<Figure size 720x720 with 4 Axes>"
      ]
     },
     "metadata": {
      "needs_background": "light"
     },
     "output_type": "display_data"
    }
   ],
   "source": [
    "plt.figure(figsize=(10,10))\n",
    "x= [\"date_end_month\",\"date_end_year\",\"date_renewal_month\",\"date_renewal_year\"] \n",
    "count_plots(client_data,\"churn\",x,[],(2,2));"
   ]
  },
  {
   "cell_type": "markdown",
   "id": "1217ba2e",
   "metadata": {},
   "source": [
    "<B>Notes</B>\n",
    "1. In some months some SME are more actually to renew"
   ]
  },
  {
   "cell_type": "code",
   "execution_count": 5,
   "id": "22ba9a2d",
   "metadata": {},
   "outputs": [],
   "source": [
    "drop_columns(client_data)\n",
    "client_data= one_hot_encoding(client_data,catFeatures=[\"channel_sales\",\"origin_up\"])\n"
   ]
  },
  {
   "cell_type": "code",
   "execution_count": 12,
   "id": "7dfaf3f2",
   "metadata": {
    "scrolled": false
   },
   "outputs": [
    {
     "name": "stdout",
     "output_type": "stream",
     "text": [
      "ahmed is the best\n"
     ]
    }
   ],
   "source": [
    "print(\"ahmed is \",end=\"\")\n",
    "print(\"the best\")"
   ]
  },
  {
   "cell_type": "markdown",
   "id": "0c7a693c",
   "metadata": {},
   "source": [
    "## Feature Importance <a><a name='ch4'>"
   ]
  },
  {
   "cell_type": "markdown",
   "id": "3f7a337b",
   "metadata": {},
   "source": [
    "## Refrences "
   ]
  },
  {
   "cell_type": "markdown",
   "id": "0e7d932a",
   "metadata": {},
   "source": [
    "#### Feature Importance \n",
    "1. https://towardsdatascience.com/best-practice-to-calculate-and-interpret-model-feature-importance-14f0e11ee660\n",
    "    - Pearson correlation\n",
    "        * https://www.youtube.com/watch?v=e4ApDqG6MGE\n",
    "    - Spearman corrleation \n",
    "        * https://www.youtube.com/watch?v=JwNwbu-g2m0\n",
    "2. Outliers Detection \n",
    "    - https://www.youtube.com/watch?v=5p8B2Ikcw-k&t=943s\n",
    "    - https://www.youtube.com/watch?v=mG4ZpEhRKHA"
   ]
  },
  {
   "cell_type": "code",
   "execution_count": null,
   "id": "0772e7b2",
   "metadata": {},
   "outputs": [],
   "source": []
  },
  {
   "cell_type": "code",
   "execution_count": null,
   "id": "a73dd647",
   "metadata": {},
   "outputs": [],
   "source": [
    "#sb.heatmap(client_data[numerical_cols].corr()>0.95,cmap='Greys',annot=True)\n",
    "#features= feature_corr_matrix(client_data[numerical_cols])\n",
    "# plot_corr_heatmap(features,figsize=(8,8))"
   ]
  },
  {
   "cell_type": "code",
   "execution_count": null,
   "id": "3069aa6d",
   "metadata": {},
   "outputs": [],
   "source": []
  }
 ],
 "metadata": {
  "kernelspec": {
   "display_name": "Python 3 (ipykernel)",
   "language": "python",
   "name": "python3"
  },
  "language_info": {
   "codemirror_mode": {
    "name": "ipython",
    "version": 3
   },
   "file_extension": ".py",
   "mimetype": "text/x-python",
   "name": "python",
   "nbconvert_exporter": "python",
   "pygments_lexer": "ipython3",
   "version": "3.9.12"
  }
 },
 "nbformat": 4,
 "nbformat_minor": 5
}
