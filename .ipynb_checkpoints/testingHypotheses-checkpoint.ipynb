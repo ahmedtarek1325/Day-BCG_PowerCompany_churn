{
 "cells": [
  {
   "cell_type": "code",
   "execution_count": 1,
   "id": "0e2b91e9",
   "metadata": {},
   "outputs": [],
   "source": [
    "from pipeline import * \n",
    "import pandas as pd \n",
    "from utilities.models import *\n",
    "from utilities.scores import *\n",
    "\n",
    "\n",
    "\n",
    "\n"
   ]
  },
  {
   "cell_type": "code",
   "execution_count": 2,
   "id": "39a88ff4",
   "metadata": {},
   "outputs": [],
   "source": [
    "from sklearn.linear_model import LogisticRegression\n",
    "from sklearn.ensemble import RandomForestClassifier\n",
    "\n",
    "\n"
   ]
  },
  {
   "cell_type": "code",
   "execution_count": 2,
   "id": "1c0dd4df",
   "metadata": {},
   "outputs": [
    {
     "name": "stdout",
     "output_type": "stream",
     "text": [
      "upsampled data \n",
      " 0    11230\n",
      "1    11230\n",
      "Name: churn, dtype: int64\n",
      "up and sampled data \n",
      " 0    8984\n",
      "1    8984\n",
      "Name: churn, dtype: int64\n"
     ]
    }
   ],
   "source": [
    "data= pd.read_csv(\"client_data.csv\",index_col=False)\n",
    "data_list= []\n",
    "for i in range(1,3):\n",
    "    X_train, X_test, y_train, y_test= simple_pipeline(data.copy(),i)\n",
    "    data_list.append((X_train, X_test, y_train, y_test))\n",
    "print(\"upsampled data \\n\",data_list[0][2].value_counts())\n",
    "print(\"up and sampled data \\n\",data_list[1][2].value_counts())\n"
   ]
  },
  {
   "cell_type": "code",
   "execution_count": 3,
   "id": "1fa8ed51",
   "metadata": {},
   "outputs": [],
   "source": [
    "data_loc= [\"data/clean_data.csv\",\"data/cleaned_with_collinearity_dropped.csv\"]\n",
    "for file in data_loc:\n",
    "    data=pd.read_csv(file,index_col=False)\n",
    "    if \"id\" in data.columns: \n",
    "        data.drop(columns=[\"id\"],inplace=True)\n",
    "    if \"Unnamed: 0\" in data.columns: \n",
    "        data.drop(columns=[\"Unnamed: 0\"],inplace=True)\n",
    "    \n",
    "    for i in range(1,3):\n",
    "        X_train, X_test, y_train, y_test= simple_pipeline_cleaned_data(data,i)\n",
    "        data_list.append((X_train, X_test, y_train, y_test))\n",
    "    "
   ]
  },
  {
   "cell_type": "code",
   "execution_count": 4,
   "id": "256cae83",
   "metadata": {},
   "outputs": [
    {
     "data": {
      "text/plain": [
       "6"
      ]
     },
     "execution_count": 4,
     "metadata": {},
     "output_type": "execute_result"
    }
   ],
   "source": [
    "len(data_list)"
   ]
  },
  {
   "cell_type": "code",
   "execution_count": 47,
   "id": "f2940fa8",
   "metadata": {},
   "outputs": [],
   "source": [
    "score_dataframe= pd.DataFrame()"
   ]
  },
  {
   "cell_type": "markdown",
   "id": "729f91f1",
   "metadata": {},
   "source": [
    "## Logistic Regression "
   ]
  },
  {
   "cell_type": "code",
   "execution_count": 48,
   "id": "72fe5490",
   "metadata": {
    "scrolled": true
   },
   "outputs": [
    {
     "name": "stdout",
     "output_type": "stream",
     "text": [
      "{'C': 1.5, 'penalty': 'l2'}\n",
      "Best Acc =  69.96030957385962\n",
      "Accuracy Score: 64.45 || precision accuracy: 13.72  || recall accuracy 44.02 || f1_weighted 71.07 || Area under curve 55.45\n",
      "Confusion matrix \n",
      "[[1309  648]\n",
      " [ 131  103]]\n",
      "----------------------\n"
     ]
    },
    {
     "name": "stderr",
     "output_type": "stream",
     "text": [
      "/tmp/ipykernel_5570/2922259470.py:8: FutureWarning: The frame.append method is deprecated and will be removed from pandas in a future version. Use pandas.concat instead.\n",
      "  score_dataframe= score_dataframe.append(pd.Series([*report_scores(y_test,y_predict)]),ignore_index=True)\n"
     ]
    },
    {
     "name": "stdout",
     "output_type": "stream",
     "text": [
      "{'C': 0.5, 'penalty': 'l1'}\n",
      "Best Acc =  69.34405468107718\n",
      "Accuracy Score: 64.35 || precision accuracy: 13.77  || recall accuracy 44.44 || f1_weighted 71.01 || Area under curve 55.59\n",
      "Confusion matrix \n",
      "[[1306  651]\n",
      " [ 130  104]]\n",
      "----------------------\n"
     ]
    },
    {
     "name": "stderr",
     "output_type": "stream",
     "text": [
      "/tmp/ipykernel_5570/2922259470.py:8: FutureWarning: The frame.append method is deprecated and will be removed from pandas in a future version. Use pandas.concat instead.\n",
      "  score_dataframe= score_dataframe.append(pd.Series([*report_scores(y_test,y_predict)]),ignore_index=True)\n"
     ]
    },
    {
     "name": "stdout",
     "output_type": "stream",
     "text": [
      "{'C': 3.5, 'penalty': 'l2'}\n",
      "Best Acc =  68.84885101950317\n",
      "Accuracy Score: 64.34 || precision accuracy: 13.07  || recall accuracy 48.31 || f1_weighted 71.61 || Area under curve 57.17\n",
      "Confusion matrix \n",
      "[[1293  665]\n",
      " [ 107  100]]\n",
      "----------------------\n"
     ]
    },
    {
     "name": "stderr",
     "output_type": "stream",
     "text": [
      "/tmp/ipykernel_5570/2922259470.py:8: FutureWarning: The frame.append method is deprecated and will be removed from pandas in a future version. Use pandas.concat instead.\n",
      "  score_dataframe= score_dataframe.append(pd.Series([*report_scores(y_test,y_predict)]),ignore_index=True)\n"
     ]
    },
    {
     "name": "stdout",
     "output_type": "stream",
     "text": [
      "{'C': 0.5, 'penalty': 'l2'}\n",
      "Best Acc =  68.37409890527753\n",
      "Accuracy Score: 64.16 || precision accuracy: 13.38  || recall accuracy 50.24 || f1_weighted 71.49 || Area under curve 57.93\n",
      "Confusion matrix \n",
      "[[1285  673]\n",
      " [ 103  104]]\n",
      "----------------------\n"
     ]
    },
    {
     "name": "stderr",
     "output_type": "stream",
     "text": [
      "/tmp/ipykernel_5570/2922259470.py:8: FutureWarning: The frame.append method is deprecated and will be removed from pandas in a future version. Use pandas.concat instead.\n",
      "  score_dataframe= score_dataframe.append(pd.Series([*report_scores(y_test,y_predict)]),ignore_index=True)\n"
     ]
    },
    {
     "name": "stdout",
     "output_type": "stream",
     "text": [
      "{'C': 4.0, 'penalty': 'l2'}\n",
      "Best Acc =  68.17238084671618\n",
      "Accuracy Score: 63.60 || precision accuracy: 12.71  || recall accuracy 47.83 || f1_weighted 71.05 || Area under curve 56.55\n",
      "Confusion matrix \n",
      "[[1278  680]\n",
      " [ 108   99]]\n",
      "----------------------\n"
     ]
    },
    {
     "name": "stderr",
     "output_type": "stream",
     "text": [
      "/tmp/ipykernel_5570/2922259470.py:8: FutureWarning: The frame.append method is deprecated and will be removed from pandas in a future version. Use pandas.concat instead.\n",
      "  score_dataframe= score_dataframe.append(pd.Series([*report_scores(y_test,y_predict)]),ignore_index=True)\n"
     ]
    },
    {
     "name": "stdout",
     "output_type": "stream",
     "text": [
      "{'C': 0.5, 'penalty': 'l2'}\n",
      "Best Acc =  67.67760088236902\n",
      "Accuracy Score: 63.14 || precision accuracy: 12.74  || recall accuracy 48.79 || f1_weighted 70.70 || Area under curve 56.73\n",
      "Confusion matrix \n",
      "[[1266  692]\n",
      " [ 106  101]]\n",
      "----------------------\n"
     ]
    },
    {
     "name": "stderr",
     "output_type": "stream",
     "text": [
      "/tmp/ipykernel_5570/2922259470.py:8: FutureWarning: The frame.append method is deprecated and will be removed from pandas in a future version. Use pandas.concat instead.\n",
      "  score_dataframe= score_dataframe.append(pd.Series([*report_scores(y_test,y_predict)]),ignore_index=True)\n"
     ]
    }
   ],
   "source": [
    "\n",
    "lr_list=[]\n",
    "for i,data in enumerate(data_list):\n",
    "    X_train,X_test, y_train, y_test= data\n",
    "    \n",
    "    lr,gr = logistic_regression(X_train, y_train)\n",
    "    y_predict= lr.predict(X_test)\n",
    "    \n",
    "    score_dataframe= score_dataframe.append(pd.Series([*report_scores(y_test,y_predict)]),ignore_index=True)\n",
    "    lr_list.append(lr)\n",
    "    print(\"----------------------\")"
   ]
  },
  {
   "cell_type": "code",
   "execution_count": 50,
   "id": "225743bb",
   "metadata": {},
   "outputs": [],
   "source": [
    "titles= [\"upsampled data\", \"up and down sampled data\",\n",
    "         \"US with no outliers\",\"UDS with no outliers\",\"US with no outliers and correlation filter\",\n",
    "         \"UDS with no outliers and correlation filter\"] \n",
    "columns= [\"accracy\",\"precision\",\"recall\",\"f1_weigthed\",\"auc\"] "
   ]
  },
  {
   "cell_type": "code",
   "execution_count": 53,
   "id": "d6550abe",
   "metadata": {},
   "outputs": [],
   "source": [
    "score_dataframe.columns = columns\n",
    "score_dataframe.index= titles"
   ]
  },
  {
   "cell_type": "code",
   "execution_count": 54,
   "id": "27b71d95",
   "metadata": {},
   "outputs": [
    {
     "data": {
      "text/html": [
       "<div>\n",
       "<style scoped>\n",
       "    .dataframe tbody tr th:only-of-type {\n",
       "        vertical-align: middle;\n",
       "    }\n",
       "\n",
       "    .dataframe tbody tr th {\n",
       "        vertical-align: top;\n",
       "    }\n",
       "\n",
       "    .dataframe thead th {\n",
       "        text-align: right;\n",
       "    }\n",
       "</style>\n",
       "<table border=\"1\" class=\"dataframe\">\n",
       "  <thead>\n",
       "    <tr style=\"text-align: right;\">\n",
       "      <th></th>\n",
       "      <th>accracy</th>\n",
       "      <th>precision</th>\n",
       "      <th>recall</th>\n",
       "      <th>f1_weigthed</th>\n",
       "      <th>auc</th>\n",
       "    </tr>\n",
       "  </thead>\n",
       "  <tbody>\n",
       "    <tr>\n",
       "      <th>upsampled data</th>\n",
       "      <td>64.445459</td>\n",
       "      <td>13.715047</td>\n",
       "      <td>44.017094</td>\n",
       "      <td>71.070692</td>\n",
       "      <td>55.452594</td>\n",
       "    </tr>\n",
       "    <tr>\n",
       "      <th>up and down sampled data</th>\n",
       "      <td>64.354176</td>\n",
       "      <td>13.774834</td>\n",
       "      <td>44.444444</td>\n",
       "      <td>71.006459</td>\n",
       "      <td>55.589621</td>\n",
       "    </tr>\n",
       "    <tr>\n",
       "      <th>US with no outliers</th>\n",
       "      <td>64.341801</td>\n",
       "      <td>13.071895</td>\n",
       "      <td>48.309179</td>\n",
       "      <td>71.614358</td>\n",
       "      <td>57.172975</td>\n",
       "    </tr>\n",
       "    <tr>\n",
       "      <th>UDS with no outliers</th>\n",
       "      <td>64.157044</td>\n",
       "      <td>13.384813</td>\n",
       "      <td>50.241546</td>\n",
       "      <td>71.485416</td>\n",
       "      <td>57.934869</td>\n",
       "    </tr>\n",
       "    <tr>\n",
       "      <th>US with no outliers and correlation filter</th>\n",
       "      <td>63.602771</td>\n",
       "      <td>12.708601</td>\n",
       "      <td>47.826087</td>\n",
       "      <td>71.047262</td>\n",
       "      <td>56.548386</td>\n",
       "    </tr>\n",
       "    <tr>\n",
       "      <th>UDS with no outliers and correlation filter</th>\n",
       "      <td>63.140878</td>\n",
       "      <td>12.736444</td>\n",
       "      <td>48.792271</td>\n",
       "      <td>70.697440</td>\n",
       "      <td>56.725042</td>\n",
       "    </tr>\n",
       "  </tbody>\n",
       "</table>\n",
       "</div>"
      ],
      "text/plain": [
       "                                               accracy  precision     recall  \\\n",
       "upsampled data                               64.445459  13.715047  44.017094   \n",
       "up and down sampled data                     64.354176  13.774834  44.444444   \n",
       "US with no outliers                          64.341801  13.071895  48.309179   \n",
       "UDS with no outliers                         64.157044  13.384813  50.241546   \n",
       "US with no outliers and correlation filter   63.602771  12.708601  47.826087   \n",
       "UDS with no outliers and correlation filter  63.140878  12.736444  48.792271   \n",
       "\n",
       "                                             f1_weigthed        auc  \n",
       "upsampled data                                 71.070692  55.452594  \n",
       "up and down sampled data                       71.006459  55.589621  \n",
       "US with no outliers                            71.614358  57.172975  \n",
       "UDS with no outliers                           71.485416  57.934869  \n",
       "US with no outliers and correlation filter     71.047262  56.548386  \n",
       "UDS with no outliers and correlation filter    70.697440  56.725042  "
      ]
     },
     "execution_count": 54,
     "metadata": {},
     "output_type": "execute_result"
    }
   ],
   "source": [
    "score_dataframe"
   ]
  },
  {
   "cell_type": "code",
   "execution_count": 56,
   "id": "4833fda0",
   "metadata": {
    "scrolled": false
   },
   "outputs": [
    {
     "data": {
      "text/plain": [
       "array([[-0.02230792,  0.04410101, -0.04191574,  0.22018496, -0.28178055,\n",
       "         0.48875176, -0.08393867,  0.45711301, -0.47401087,  0.25150479,\n",
       "        -0.30777302, -0.19639953, -0.70326747, -0.21239091,  0.04365547,\n",
       "        -0.37226701, -1.90416958, -0.89407683, -1.63918018, -1.32980639,\n",
       "        -3.31658131, -3.11532032, -2.36926283]])"
      ]
     },
     "execution_count": 56,
     "metadata": {},
     "output_type": "execute_result"
    }
   ],
   "source": [
    "lr_list[3].coef_\n"
   ]
  },
  {
   "cell_type": "code",
   "execution_count": 66,
   "id": "041f92d0",
   "metadata": {},
   "outputs": [
    {
     "data": {
      "text/html": [
       "<div>\n",
       "<style scoped>\n",
       "    .dataframe tbody tr th:only-of-type {\n",
       "        vertical-align: middle;\n",
       "    }\n",
       "\n",
       "    .dataframe tbody tr th {\n",
       "        vertical-align: top;\n",
       "    }\n",
       "\n",
       "    .dataframe thead th {\n",
       "        text-align: right;\n",
       "    }\n",
       "</style>\n",
       "<table border=\"1\" class=\"dataframe\">\n",
       "  <thead>\n",
       "    <tr style=\"text-align: right;\">\n",
       "      <th></th>\n",
       "      <th>features</th>\n",
       "      <th>coef</th>\n",
       "    </tr>\n",
       "  </thead>\n",
       "  <tbody>\n",
       "    <tr>\n",
       "      <th>0</th>\n",
       "      <td>cons_12m</td>\n",
       "      <td>[-0.022307919033118927]</td>\n",
       "    </tr>\n",
       "    <tr>\n",
       "      <th>1</th>\n",
       "      <td>cons_gas_12m</td>\n",
       "      <td>[0.04410100564045784]</td>\n",
       "    </tr>\n",
       "    <tr>\n",
       "      <th>2</th>\n",
       "      <td>forecast_cons_12m</td>\n",
       "      <td>[-0.04191574252633324]</td>\n",
       "    </tr>\n",
       "    <tr>\n",
       "      <th>3</th>\n",
       "      <td>forecast_meter_rent_12m</td>\n",
       "      <td>[0.22018495700045543]</td>\n",
       "    </tr>\n",
       "    <tr>\n",
       "      <th>4</th>\n",
       "      <td>forecast_price_energy_off_peak</td>\n",
       "      <td>[-0.281780548196265]</td>\n",
       "    </tr>\n",
       "    <tr>\n",
       "      <th>5</th>\n",
       "      <td>forecast_price_pow_off_peak</td>\n",
       "      <td>[0.4887517616778257]</td>\n",
       "    </tr>\n",
       "    <tr>\n",
       "      <th>6</th>\n",
       "      <td>imp_cons</td>\n",
       "      <td>[-0.08393867329472988]</td>\n",
       "    </tr>\n",
       "    <tr>\n",
       "      <th>7</th>\n",
       "      <td>margin_gross_pow_ele</td>\n",
       "      <td>[0.4571130073122183]</td>\n",
       "    </tr>\n",
       "    <tr>\n",
       "      <th>8</th>\n",
       "      <td>nb_prod_act</td>\n",
       "      <td>[-0.4740108733702763]</td>\n",
       "    </tr>\n",
       "    <tr>\n",
       "      <th>9</th>\n",
       "      <td>net_margin</td>\n",
       "      <td>[0.25150479102534024]</td>\n",
       "    </tr>\n",
       "    <tr>\n",
       "      <th>10</th>\n",
       "      <td>num_years_antig</td>\n",
       "      <td>[-0.30777301812242364]</td>\n",
       "    </tr>\n",
       "    <tr>\n",
       "      <th>11</th>\n",
       "      <td>pow_max</td>\n",
       "      <td>[-0.1963995304933476]</td>\n",
       "    </tr>\n",
       "    <tr>\n",
       "      <th>12</th>\n",
       "      <td>date_end_offpeak</td>\n",
       "      <td>[-0.7032674674749896]</td>\n",
       "    </tr>\n",
       "    <tr>\n",
       "      <th>13</th>\n",
       "      <td>date_end_peak</td>\n",
       "      <td>[-0.21239091271542204]</td>\n",
       "    </tr>\n",
       "    <tr>\n",
       "      <th>14</th>\n",
       "      <td>date_renewal_offpeak</td>\n",
       "      <td>[0.04365546584304424]</td>\n",
       "    </tr>\n",
       "    <tr>\n",
       "      <th>15</th>\n",
       "      <td>date_renewal_peak</td>\n",
       "      <td>[-0.3722670120572327]</td>\n",
       "    </tr>\n",
       "    <tr>\n",
       "      <th>16</th>\n",
       "      <td>channel_sales_ewpakwlliwisiwduibdlfmalxowmwpci</td>\n",
       "      <td>[-1.904169582062738]</td>\n",
       "    </tr>\n",
       "    <tr>\n",
       "      <th>17</th>\n",
       "      <td>channel_sales_foosdfpfkusacimwkcsosbicdxkicaua</td>\n",
       "      <td>[-0.89407682994827]</td>\n",
       "    </tr>\n",
       "    <tr>\n",
       "      <th>18</th>\n",
       "      <td>channel_sales_lmkebamcaaclubfxadlmueccxoimlema</td>\n",
       "      <td>[-1.6391801766460319]</td>\n",
       "    </tr>\n",
       "    <tr>\n",
       "      <th>19</th>\n",
       "      <td>channel_sales_usilxuppasemubllopkaafesmlibmsdf</td>\n",
       "      <td>[-1.3298063944394045]</td>\n",
       "    </tr>\n",
       "    <tr>\n",
       "      <th>20</th>\n",
       "      <td>origin_up_kamkkxfxxuwbdslkwifmmcsiusiuosws</td>\n",
       "      <td>[-3.3165813101737243]</td>\n",
       "    </tr>\n",
       "    <tr>\n",
       "      <th>21</th>\n",
       "      <td>origin_up_ldkssxwpmemidmecebumciepifcamkci</td>\n",
       "      <td>[-3.115320320573654]</td>\n",
       "    </tr>\n",
       "    <tr>\n",
       "      <th>22</th>\n",
       "      <td>origin_up_lxidpiddsbxsbosboudacockeimpuepw</td>\n",
       "      <td>[-2.3692628304080494]</td>\n",
       "    </tr>\n",
       "  </tbody>\n",
       "</table>\n",
       "</div>"
      ],
      "text/plain": [
       "                                          features                     coef\n",
       "0                                         cons_12m  [-0.022307919033118927]\n",
       "1                                     cons_gas_12m    [0.04410100564045784]\n",
       "2                                forecast_cons_12m   [-0.04191574252633324]\n",
       "3                          forecast_meter_rent_12m    [0.22018495700045543]\n",
       "4                   forecast_price_energy_off_peak     [-0.281780548196265]\n",
       "5                      forecast_price_pow_off_peak     [0.4887517616778257]\n",
       "6                                         imp_cons   [-0.08393867329472988]\n",
       "7                             margin_gross_pow_ele     [0.4571130073122183]\n",
       "8                                      nb_prod_act    [-0.4740108733702763]\n",
       "9                                       net_margin    [0.25150479102534024]\n",
       "10                                 num_years_antig   [-0.30777301812242364]\n",
       "11                                         pow_max    [-0.1963995304933476]\n",
       "12                                date_end_offpeak    [-0.7032674674749896]\n",
       "13                                   date_end_peak   [-0.21239091271542204]\n",
       "14                            date_renewal_offpeak    [0.04365546584304424]\n",
       "15                               date_renewal_peak    [-0.3722670120572327]\n",
       "16  channel_sales_ewpakwlliwisiwduibdlfmalxowmwpci     [-1.904169582062738]\n",
       "17  channel_sales_foosdfpfkusacimwkcsosbicdxkicaua      [-0.89407682994827]\n",
       "18  channel_sales_lmkebamcaaclubfxadlmueccxoimlema    [-1.6391801766460319]\n",
       "19  channel_sales_usilxuppasemubllopkaafesmlibmsdf    [-1.3298063944394045]\n",
       "20      origin_up_kamkkxfxxuwbdslkwifmmcsiusiuosws    [-3.3165813101737243]\n",
       "21      origin_up_ldkssxwpmemidmecebumciepifcamkci     [-3.115320320573654]\n",
       "22      origin_up_lxidpiddsbxsbosboudacockeimpuepw    [-2.3692628304080494]"
      ]
     },
     "execution_count": 66,
     "metadata": {},
     "output_type": "execute_result"
    }
   ],
   "source": [
    "pd.DataFrame(zip(data_list[3][0].columns, np.transpose(lr_list[3].coef_)), \n",
    "             columns=['features', 'coef'])"
   ]
  },
  {
   "cell_type": "code",
   "execution_count": 71,
   "id": "df6130e1",
   "metadata": {},
   "outputs": [
    {
     "data": {
      "text/html": [
       "<div>\n",
       "<style scoped>\n",
       "    .dataframe tbody tr th:only-of-type {\n",
       "        vertical-align: middle;\n",
       "    }\n",
       "\n",
       "    .dataframe tbody tr th {\n",
       "        vertical-align: top;\n",
       "    }\n",
       "\n",
       "    .dataframe thead th {\n",
       "        text-align: right;\n",
       "    }\n",
       "</style>\n",
       "<table border=\"1\" class=\"dataframe\">\n",
       "  <thead>\n",
       "    <tr style=\"text-align: right;\">\n",
       "      <th></th>\n",
       "      <th>features</th>\n",
       "      <th>coef</th>\n",
       "      <th>Beta</th>\n",
       "    </tr>\n",
       "  </thead>\n",
       "  <tbody>\n",
       "    <tr>\n",
       "      <th>0</th>\n",
       "      <td>cons_12m</td>\n",
       "      <td>[-0.03491351501838367]</td>\n",
       "      <td>[0.9656889302355405]</td>\n",
       "    </tr>\n",
       "    <tr>\n",
       "      <th>1</th>\n",
       "      <td>cons_gas_12m</td>\n",
       "      <td>[-0.16671556803217716]</td>\n",
       "      <td>[0.8464403317904851]</td>\n",
       "    </tr>\n",
       "    <tr>\n",
       "      <th>2</th>\n",
       "      <td>forecast_meter_rent_12m</td>\n",
       "      <td>[0.21674760776190163]</td>\n",
       "      <td>[1.242030583695812]</td>\n",
       "    </tr>\n",
       "    <tr>\n",
       "      <th>3</th>\n",
       "      <td>forecast_price_energy_off_peak</td>\n",
       "      <td>[-0.03222730606941192]</td>\n",
       "      <td>[0.9682864596733528]</td>\n",
       "    </tr>\n",
       "    <tr>\n",
       "      <th>4</th>\n",
       "      <td>imp_cons</td>\n",
       "      <td>[-0.0805694699256679]</td>\n",
       "      <td>[0.9225908090425348]</td>\n",
       "    </tr>\n",
       "    <tr>\n",
       "      <th>5</th>\n",
       "      <td>margin_gross_pow_ele</td>\n",
       "      <td>[0.3186635489685819]</td>\n",
       "      <td>[1.375288529812109]</td>\n",
       "    </tr>\n",
       "    <tr>\n",
       "      <th>6</th>\n",
       "      <td>net_margin</td>\n",
       "      <td>[0.17044218542095893]</td>\n",
       "      <td>[1.1858290917422052]</td>\n",
       "    </tr>\n",
       "    <tr>\n",
       "      <th>7</th>\n",
       "      <td>num_years_antig</td>\n",
       "      <td>[-0.30619214876672624]</td>\n",
       "      <td>[0.7362451372685872]</td>\n",
       "    </tr>\n",
       "    <tr>\n",
       "      <th>8</th>\n",
       "      <td>pow_max</td>\n",
       "      <td>[-0.1284642941496639]</td>\n",
       "      <td>[0.8794449631880514]</td>\n",
       "    </tr>\n",
       "    <tr>\n",
       "      <th>9</th>\n",
       "      <td>date_end_offpeak</td>\n",
       "      <td>[-0.7330866525275379]</td>\n",
       "      <td>[0.4804237978033315]</td>\n",
       "    </tr>\n",
       "    <tr>\n",
       "      <th>10</th>\n",
       "      <td>date_end_peak</td>\n",
       "      <td>[-0.7223997809564754]</td>\n",
       "      <td>[0.48558555763572064]</td>\n",
       "    </tr>\n",
       "    <tr>\n",
       "      <th>11</th>\n",
       "      <td>channel_sales_ewpakwlliwisiwduibdlfmalxowmwpci</td>\n",
       "      <td>[-1.7978480299434048]</td>\n",
       "      <td>[0.1656549895016491]</td>\n",
       "    </tr>\n",
       "    <tr>\n",
       "      <th>12</th>\n",
       "      <td>channel_sales_foosdfpfkusacimwkcsosbicdxkicaua</td>\n",
       "      <td>[-0.7689313801366029]</td>\n",
       "      <td>[0.463508117735752]</td>\n",
       "    </tr>\n",
       "    <tr>\n",
       "      <th>13</th>\n",
       "      <td>channel_sales_lmkebamcaaclubfxadlmueccxoimlema</td>\n",
       "      <td>[-1.5450450290364375]</td>\n",
       "      <td>[0.2133022662111472]</td>\n",
       "    </tr>\n",
       "    <tr>\n",
       "      <th>14</th>\n",
       "      <td>channel_sales_usilxuppasemubllopkaafesmlibmsdf</td>\n",
       "      <td>[-1.1825949354767609]</td>\n",
       "      <td>[0.3064824037666934]</td>\n",
       "    </tr>\n",
       "    <tr>\n",
       "      <th>15</th>\n",
       "      <td>origin_up_kamkkxfxxuwbdslkwifmmcsiusiuosws</td>\n",
       "      <td>[-3.176346655600032]</td>\n",
       "      <td>[0.041737859700013424]</td>\n",
       "    </tr>\n",
       "    <tr>\n",
       "      <th>16</th>\n",
       "      <td>origin_up_ldkssxwpmemidmecebumciepifcamkci</td>\n",
       "      <td>[-2.9788432087876995]</td>\n",
       "      <td>[0.050851624566488764]</td>\n",
       "    </tr>\n",
       "    <tr>\n",
       "      <th>17</th>\n",
       "      <td>origin_up_lxidpiddsbxsbosboudacockeimpuepw</td>\n",
       "      <td>[-2.333583513840673]</td>\n",
       "      <td>[0.09694771040278556]</td>\n",
       "    </tr>\n",
       "  </tbody>\n",
       "</table>\n",
       "</div>"
      ],
      "text/plain": [
       "                                          features                    coef  \\\n",
       "0                                         cons_12m  [-0.03491351501838367]   \n",
       "1                                     cons_gas_12m  [-0.16671556803217716]   \n",
       "2                          forecast_meter_rent_12m   [0.21674760776190163]   \n",
       "3                   forecast_price_energy_off_peak  [-0.03222730606941192]   \n",
       "4                                         imp_cons   [-0.0805694699256679]   \n",
       "5                             margin_gross_pow_ele    [0.3186635489685819]   \n",
       "6                                       net_margin   [0.17044218542095893]   \n",
       "7                                  num_years_antig  [-0.30619214876672624]   \n",
       "8                                          pow_max   [-0.1284642941496639]   \n",
       "9                                 date_end_offpeak   [-0.7330866525275379]   \n",
       "10                                   date_end_peak   [-0.7223997809564754]   \n",
       "11  channel_sales_ewpakwlliwisiwduibdlfmalxowmwpci   [-1.7978480299434048]   \n",
       "12  channel_sales_foosdfpfkusacimwkcsosbicdxkicaua   [-0.7689313801366029]   \n",
       "13  channel_sales_lmkebamcaaclubfxadlmueccxoimlema   [-1.5450450290364375]   \n",
       "14  channel_sales_usilxuppasemubllopkaafesmlibmsdf   [-1.1825949354767609]   \n",
       "15      origin_up_kamkkxfxxuwbdslkwifmmcsiusiuosws    [-3.176346655600032]   \n",
       "16      origin_up_ldkssxwpmemidmecebumciepifcamkci   [-2.9788432087876995]   \n",
       "17      origin_up_lxidpiddsbxsbosboudacockeimpuepw    [-2.333583513840673]   \n",
       "\n",
       "                      Beta  \n",
       "0     [0.9656889302355405]  \n",
       "1     [0.8464403317904851]  \n",
       "2      [1.242030583695812]  \n",
       "3     [0.9682864596733528]  \n",
       "4     [0.9225908090425348]  \n",
       "5      [1.375288529812109]  \n",
       "6     [1.1858290917422052]  \n",
       "7     [0.7362451372685872]  \n",
       "8     [0.8794449631880514]  \n",
       "9     [0.4804237978033315]  \n",
       "10   [0.48558555763572064]  \n",
       "11    [0.1656549895016491]  \n",
       "12     [0.463508117735752]  \n",
       "13    [0.2133022662111472]  \n",
       "14    [0.3064824037666934]  \n",
       "15  [0.041737859700013424]  \n",
       "16  [0.050851624566488764]  \n",
       "17   [0.09694771040278556]  "
      ]
     },
     "execution_count": 71,
     "metadata": {},
     "output_type": "execute_result"
    }
   ],
   "source": [
    "coeff= np.transpose(lr_list[5].coef_)\n",
    "pd.DataFrame(zip(data_list[5][0].columns, np.transpose(lr_list[5].coef_),np.exp(coeff)), \n",
    "             columns=['features', 'coef','Beta'])"
   ]
  },
  {
   "cell_type": "markdown",
   "id": "32db5eca",
   "metadata": {},
   "source": [
    "coefficients cannot be very helpful this is due to the fact that there like lots of techincal info that are fully numerical represented in the first 10 columns. and other non-technical columns rpresented in the last 7 columns \n",
    "However we can drew the following conclusions\n",
    "#### For Categorical and ordinal data  \n",
    "1. The whole three origin up distributions that e have does reduce the rate of churn ability with a ratio of >90 whih is a little oddd thing. This observation makes me feel\n",
    "       - it did overfit on this column or there was not a difference between those those channels\n",
    "       - rather the challenge did exist if there is origin up dsitribution or not. This implies that we can shorten these three columns into only 1 column \"has orgin_up\" or not\n",
    "\n",
    "2. The varience in importance in the channel sales was significant where different channel sales, reduced the churn rate with different ratio with haveing the \"ewpakwlliwisiwduibdlfmalxowmwpci\" is the best as it reduced the chur with 84%\n",
    "\n",
    "3. num_years_antig: Every year does the client spend with us ddoes reduce his churn rate with 27% <B>from the year before</B> \n",
    "\n",
    "#### For Numerical Data \n",
    "\n"
   ]
  },
  {
   "cell_type": "raw",
   "id": "a2fd351a",
   "metadata": {},
   "source": [
    "The smoking group has a 1.46 times the odds of the non-smoking group of having heart disease.The smoking group has a 1.46 times the odds of the non-smoking group of having heart disease.\n",
    "\n",
    "If β = – 0.38, then eβ = 0.68 and the interpretation becomes: smoking is associated with a 32% (1 – 0.68 = 0.32) reduction in the relative risk of heart disease."
   ]
  },
  {
   "cell_type": "markdown",
   "id": "921153c8",
   "metadata": {},
   "source": [
    "## Random Forest "
   ]
  },
  {
   "cell_type": "code",
   "execution_count": null,
   "id": "422e84ab",
   "metadata": {},
   "outputs": [],
   "source": [
    "X_train,X_test, y_train, y_test= data_list[3]\n",
    "rf_random_search = random_forest_random_search(X_train,y_train)"
   ]
  }
 ],
 "metadata": {
  "kernelspec": {
   "display_name": "Python 3 (ipykernel)",
   "language": "python",
   "name": "python3"
  },
  "language_info": {
   "codemirror_mode": {
    "name": "ipython",
    "version": 3
   },
   "file_extension": ".py",
   "mimetype": "text/x-python",
   "name": "python",
   "nbconvert_exporter": "python",
   "pygments_lexer": "ipython3",
   "version": "3.9.12"
  }
 },
 "nbformat": 4,
 "nbformat_minor": 5
}
