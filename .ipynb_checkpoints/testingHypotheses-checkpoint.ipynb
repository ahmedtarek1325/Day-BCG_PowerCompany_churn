{
 "cells": [
  {
   "cell_type": "code",
   "execution_count": 1,
   "id": "0e2b91e9",
   "metadata": {},
   "outputs": [],
   "source": [
    "from pipeline import * \n",
    "import pandas as pd \n",
    "from utilities.models import *\n",
    "from utilities.scores import *\n",
    "\n",
    "\n",
    "\n",
    "\n"
   ]
  },
  {
   "cell_type": "code",
   "execution_count": 2,
   "id": "39a88ff4",
   "metadata": {},
   "outputs": [],
   "source": [
    "from sklearn.linear_model import LogisticRegression\n",
    "from sklearn.ensemble import RandomForestClassifier\n",
    "\n",
    "\n"
   ]
  },
  {
   "cell_type": "code",
   "execution_count": 3,
   "id": "1c0dd4df",
   "metadata": {},
   "outputs": [
    {
     "name": "stdout",
     "output_type": "stream",
     "text": [
      "upsampled data \n",
      " 0    11230\n",
      "1     8422\n",
      "Name: churn, dtype: int64\n",
      "up and sampled data \n",
      " 0    8422\n",
      "1    8422\n",
      "Name: churn, dtype: int64\n"
     ]
    }
   ],
   "source": [
    "data= pd.read_csv(\"client_data.csv\",index_col=False)\n",
    "data_list= []\n",
    "for i in range(1,3):\n",
    "    X_train, X_test, y_train, y_test= simple_pipeline(data.copy(),i)\n",
    "    data_list.append((X_train, X_test, y_train, y_test))\n",
    "print(\"upsampled data \\n\",data_list[0][2].value_counts())\n",
    "print(\"up and sampled data \\n\",data_list[1][2].value_counts())\n"
   ]
  },
  {
   "cell_type": "code",
   "execution_count": 4,
   "id": "1fa8ed51",
   "metadata": {},
   "outputs": [],
   "source": [
    "data_loc= [\"FE.csv\",\"higher_order_data.csv\"]\n",
    "for file in data_loc:\n",
    "    data=pd.read_csv(file,index_col=False)\n",
    "    if \"id\" in data.columns: \n",
    "        data.drop(columns=[\"id\"],inplace=True)\n",
    "    if \"Unnamed: 0\" in data.columns: \n",
    "        data.drop(columns=[\"Unnamed: 0\"],inplace=True)\n",
    "    \n",
    "    for i in range(1,3):\n",
    "        X_train, X_test, y_train, y_test= simple_pipeline_cleaned_data(data,i)\n",
    "        data_list.append((X_train, X_test, y_train, y_test))\n",
    "    "
   ]
  },
  {
   "cell_type": "code",
   "execution_count": 5,
   "id": "256cae83",
   "metadata": {},
   "outputs": [
    {
     "data": {
      "text/plain": [
       "6"
      ]
     },
     "execution_count": 5,
     "metadata": {},
     "output_type": "execute_result"
    }
   ],
   "source": [
    "len(data_list)"
   ]
  },
  {
   "cell_type": "code",
   "execution_count": 6,
   "id": "f2940fa8",
   "metadata": {},
   "outputs": [],
   "source": [
    "score_dataframe= pd.DataFrame()"
   ]
  },
  {
   "cell_type": "code",
   "execution_count": null,
   "id": "868aab0f",
   "metadata": {},
   "outputs": [],
   "source": []
  },
  {
   "cell_type": "markdown",
   "id": "729f91f1",
   "metadata": {},
   "source": [
    "## Logistic Regression "
   ]
  },
  {
   "cell_type": "code",
   "execution_count": 7,
   "id": "72fe5490",
   "metadata": {
    "scrolled": true
   },
   "outputs": [
    {
     "name": "stdout",
     "output_type": "stream",
     "text": [
      "{'C': 2.5, 'penalty': 'l2'}\n",
      "Best Acc =  63.98774155652131\n",
      "Accuracy Score: 73.71 || precision_weighted accuracy: 82.30  || recall_weighted accuracy 73.71 || f1_weighted 77.37 || Area under curve 54.43\n",
      "Confusion matrix \n",
      "[[1545  412]\n",
      " [ 164   70]]\n"
     ]
    },
    {
     "name": "stderr",
     "output_type": "stream",
     "text": [
      "/tmp/ipykernel_31365/2922259470.py:8: FutureWarning: The frame.append method is deprecated and will be removed from pandas in a future version. Use pandas.concat instead.\n",
      "  score_dataframe= score_dataframe.append(pd.Series([*report_scores(y_test,y_predict)]),ignore_index=True)\n"
     ]
    },
    {
     "name": "stdout",
     "output_type": "stream",
     "text": [
      "----------------------\n",
      "{'C': 0.5, 'penalty': 'l1'}\n",
      "Best Acc =  70.30076287004057\n",
      "Accuracy Score: 66.04 || precision_weighted accuracy: 82.50  || recall_weighted accuracy 66.04 || f1_weighted 72.23 || Area under curve 55.03\n",
      "Confusion matrix \n",
      "[[1351  606]\n",
      " [ 138   96]]\n",
      "----------------------\n"
     ]
    },
    {
     "name": "stderr",
     "output_type": "stream",
     "text": [
      "/tmp/ipykernel_31365/2922259470.py:8: FutureWarning: The frame.append method is deprecated and will be removed from pandas in a future version. Use pandas.concat instead.\n",
      "  score_dataframe= score_dataframe.append(pd.Series([*report_scores(y_test,y_predict)]),ignore_index=True)\n"
     ]
    },
    {
     "name": "stdout",
     "output_type": "stream",
     "text": [
      "{'C': 4.0, 'penalty': 'l2'}\n",
      "Best Acc =  62.00335932127319\n",
      "Accuracy Score: 75.61 || precision_weighted accuracy: 85.03  || recall_weighted accuracy 75.61 || f1_weighted 79.51 || Area under curve 58.44\n",
      "Confusion matrix \n",
      "[[1560  398]\n",
      " [ 130   77]]\n",
      "----------------------\n"
     ]
    },
    {
     "name": "stderr",
     "output_type": "stream",
     "text": [
      "/tmp/ipykernel_31365/2922259470.py:8: FutureWarning: The frame.append method is deprecated and will be removed from pandas in a future version. Use pandas.concat instead.\n",
      "  score_dataframe= score_dataframe.append(pd.Series([*report_scores(y_test,y_predict)]),ignore_index=True)\n"
     ]
    },
    {
     "name": "stdout",
     "output_type": "stream",
     "text": [
      "{'C': 0.5, 'penalty': 'l1'}\n",
      "Best Acc =  69.02486369923182\n",
      "Accuracy Score: 66.74 || precision_weighted accuracy: 85.18  || recall_weighted accuracy 66.74 || f1_weighted 73.43 || Area under curve 58.72\n",
      "Confusion matrix \n",
      "[[1344  614]\n",
      " [ 106  101]]\n",
      "----------------------\n"
     ]
    },
    {
     "name": "stderr",
     "output_type": "stream",
     "text": [
      "/tmp/ipykernel_31365/2922259470.py:8: FutureWarning: The frame.append method is deprecated and will be removed from pandas in a future version. Use pandas.concat instead.\n",
      "  score_dataframe= score_dataframe.append(pd.Series([*report_scores(y_test,y_predict)]),ignore_index=True)\n"
     ]
    },
    {
     "name": "stdout",
     "output_type": "stream",
     "text": [
      "{'C': 1.0, 'penalty': 'l2'}\n",
      "Best Acc =  63.26800525176791\n",
      "Accuracy Score: 76.81 || precision_weighted accuracy: 85.29  || recall_weighted accuracy 76.81 || f1_weighted 80.34 || Area under curve 59.32\n",
      "Confusion matrix \n",
      "[[1585  373]\n",
      " [ 129   78]]\n",
      "----------------------\n"
     ]
    },
    {
     "name": "stderr",
     "output_type": "stream",
     "text": [
      "/tmp/ipykernel_31365/2922259470.py:8: FutureWarning: The frame.append method is deprecated and will be removed from pandas in a future version. Use pandas.concat instead.\n",
      "  score_dataframe= score_dataframe.append(pd.Series([*report_scores(y_test,y_predict)]),ignore_index=True)\n"
     ]
    },
    {
     "name": "stdout",
     "output_type": "stream",
     "text": [
      "{'C': 0.5, 'penalty': 'l1'}\n",
      "Best Acc =  69.84311752826659\n",
      "Accuracy Score: 67.99 || precision_weighted accuracy: 85.41  || recall_weighted accuracy 67.99 || f1_weighted 74.36 || Area under curve 59.62\n",
      "Confusion matrix \n",
      "[[1370  588]\n",
      " [ 105  102]]\n",
      "----------------------\n"
     ]
    },
    {
     "name": "stderr",
     "output_type": "stream",
     "text": [
      "/tmp/ipykernel_31365/2922259470.py:8: FutureWarning: The frame.append method is deprecated and will be removed from pandas in a future version. Use pandas.concat instead.\n",
      "  score_dataframe= score_dataframe.append(pd.Series([*report_scores(y_test,y_predict)]),ignore_index=True)\n"
     ]
    }
   ],
   "source": [
    "\n",
    "lr_list=[]\n",
    "for i,data in enumerate(data_list):\n",
    "    X_train,X_test, y_train, y_test= data\n",
    "    \n",
    "    lr,gr = logistic_regression(X_train, y_train)\n",
    "    y_predict= lr.predict(X_test)\n",
    "    \n",
    "    score_dataframe= score_dataframe.append(pd.Series([*report_scores(y_test,y_predict)]),ignore_index=True)\n",
    "    lr_list.append(lr)\n",
    "    print(\"----------------------\")"
   ]
  },
  {
   "cell_type": "code",
   "execution_count": 8,
   "id": "225743bb",
   "metadata": {},
   "outputs": [],
   "source": [
    "titles= [\"upsampled data\", \"up and down sampled data\",\n",
    "         \"US_merged_noOutliers_data\",\"UDS_merged_noOutliers\",\"US_clean_merged_Higher_order_variable\",\n",
    "         \"US_clean_merged_Higher_order_variable\"] \n",
    "columns= [\"accracy\",\"precision_weighted\",\"recall_weighted\",\"f1_weigthed\",\"auc\"] "
   ]
  },
  {
   "cell_type": "code",
   "execution_count": 9,
   "id": "5519c289",
   "metadata": {},
   "outputs": [],
   "source": [
    "score_dataframe.columns = columns\n",
    "score_dataframe.index= titles"
   ]
  },
  {
   "cell_type": "code",
   "execution_count": 10,
   "id": "4731a0b9",
   "metadata": {},
   "outputs": [
    {
     "data": {
      "text/html": [
       "<div>\n",
       "<style scoped>\n",
       "    .dataframe tbody tr th:only-of-type {\n",
       "        vertical-align: middle;\n",
       "    }\n",
       "\n",
       "    .dataframe tbody tr th {\n",
       "        vertical-align: top;\n",
       "    }\n",
       "\n",
       "    .dataframe thead th {\n",
       "        text-align: right;\n",
       "    }\n",
       "</style>\n",
       "<table border=\"1\" class=\"dataframe\">\n",
       "  <thead>\n",
       "    <tr style=\"text-align: right;\">\n",
       "      <th></th>\n",
       "      <th>accracy</th>\n",
       "      <th>precision_weighted</th>\n",
       "      <th>recall_weighted</th>\n",
       "      <th>f1_weigthed</th>\n",
       "      <th>auc</th>\n",
       "    </tr>\n",
       "  </thead>\n",
       "  <tbody>\n",
       "    <tr>\n",
       "      <th>upsampled data</th>\n",
       "      <td>73.710634</td>\n",
       "      <td>82.299621</td>\n",
       "      <td>73.710634</td>\n",
       "      <td>77.374321</td>\n",
       "      <td>54.430949</td>\n",
       "    </tr>\n",
       "    <tr>\n",
       "      <th>up and down sampled data</th>\n",
       "      <td>66.042903</td>\n",
       "      <td>82.502324</td>\n",
       "      <td>66.042903</td>\n",
       "      <td>72.226327</td>\n",
       "      <td>55.029939</td>\n",
       "    </tr>\n",
       "    <tr>\n",
       "      <th>US_merged_noOutliers_data</th>\n",
       "      <td>75.612009</td>\n",
       "      <td>85.031889</td>\n",
       "      <td>75.612009</td>\n",
       "      <td>79.507954</td>\n",
       "      <td>58.435602</td>\n",
       "    </tr>\n",
       "    <tr>\n",
       "      <th>UDS_merged_noOutliers</th>\n",
       "      <td>66.743649</td>\n",
       "      <td>85.178014</td>\n",
       "      <td>66.743649</td>\n",
       "      <td>73.426764</td>\n",
       "      <td>58.716871</td>\n",
       "    </tr>\n",
       "    <tr>\n",
       "      <th>US_clean_merged_Higher_order_variable</th>\n",
       "      <td>76.812933</td>\n",
       "      <td>85.285745</td>\n",
       "      <td>76.812933</td>\n",
       "      <td>80.341678</td>\n",
       "      <td>59.315554</td>\n",
       "    </tr>\n",
       "    <tr>\n",
       "      <th>US_clean_merged_Higher_order_variable</th>\n",
       "      <td>67.990762</td>\n",
       "      <td>85.414178</td>\n",
       "      <td>67.990762</td>\n",
       "      <td>74.356892</td>\n",
       "      <td>59.622359</td>\n",
       "    </tr>\n",
       "  </tbody>\n",
       "</table>\n",
       "</div>"
      ],
      "text/plain": [
       "                                         accracy  precision_weighted  \\\n",
       "upsampled data                         73.710634           82.299621   \n",
       "up and down sampled data               66.042903           82.502324   \n",
       "US_merged_noOutliers_data              75.612009           85.031889   \n",
       "UDS_merged_noOutliers                  66.743649           85.178014   \n",
       "US_clean_merged_Higher_order_variable  76.812933           85.285745   \n",
       "US_clean_merged_Higher_order_variable  67.990762           85.414178   \n",
       "\n",
       "                                       recall_weighted  f1_weigthed        auc  \n",
       "upsampled data                               73.710634    77.374321  54.430949  \n",
       "up and down sampled data                     66.042903    72.226327  55.029939  \n",
       "US_merged_noOutliers_data                    75.612009    79.507954  58.435602  \n",
       "UDS_merged_noOutliers                        66.743649    73.426764  58.716871  \n",
       "US_clean_merged_Higher_order_variable        76.812933    80.341678  59.315554  \n",
       "US_clean_merged_Higher_order_variable        67.990762    74.356892  59.622359  "
      ]
     },
     "execution_count": 10,
     "metadata": {},
     "output_type": "execute_result"
    }
   ],
   "source": [
    "score_dataframe"
   ]
  },
  {
   "cell_type": "code",
   "execution_count": 10,
   "id": "819c3ae8",
   "metadata": {},
   "outputs": [],
   "source": [
    "X_train,X_test, y_train, y_test= data_list[4]\n",
    "model_scores= pd.DataFrame()\n",
    "rows= [] "
   ]
  },
  {
   "cell_type": "markdown",
   "id": "7c60a716",
   "metadata": {},
   "source": [
    "## Random Forest "
   ]
  },
  {
   "cell_type": "code",
   "execution_count": null,
   "id": "310c7ab1",
   "metadata": {},
   "outputs": [],
   "source": [
    "rf_random_search = random_forest_random_search(X_train,y_train)"
   ]
  },
  {
   "cell_type": "code",
   "execution_count": 13,
   "id": "896fa2a1",
   "metadata": {},
   "outputs": [
    {
     "name": "stdout",
     "output_type": "stream",
     "text": [
      "{'criterion': 'gini', 'max_depth': 15, 'min_samples_leaf': 12, 'min_samples_split': 24}\n",
      "Best Acc =  86.23639606974403\n"
     ]
    }
   ],
   "source": [
    "'''\n",
    "hp= {\"criterion\":['gini'],\n",
    "     'max_depth':[15],\n",
    "     'min_samples_split':np.arange(23,27,1),\n",
    "     'min_samples_leaf':np.arange(12,17,1)}\n",
    "rf_model,grid= random_forest(X_train,y_train,hp)\n",
    "'''"
   ]
  },
  {
   "cell_type": "code",
   "execution_count": null,
   "id": "e5a317ef",
   "metadata": {},
   "outputs": [],
   "source": [
    "rf_model,_= random_forest(X_train,y_train,{'criterion': 'gini', 'max_depth': 15, 'min_samples_leaf': 12, 'min_samples_split': 24})"
   ]
  },
  {
   "cell_type": "code",
   "execution_count": 14,
   "id": "57fdaedb",
   "metadata": {},
   "outputs": [
    {
     "name": "stdout",
     "output_type": "stream",
     "text": [
      "Accuracy Score: 88.73 || precision_weighted accuracy: 85.94  || recall_weighted accuracy 88.73 || f1_weighted 87.03 || Area under curve 56.40\n",
      "Confusion matrix \n",
      "[[1887   71]\n",
      " [ 173   34]]\n"
     ]
    },
    {
     "name": "stderr",
     "output_type": "stream",
     "text": [
      "/tmp/ipykernel_31826/2854253395.py:2: FutureWarning: The frame.append method is deprecated and will be removed from pandas in a future version. Use pandas.concat instead.\n",
      "  model_scores= model_scores.append(pd.Series([*report_scores(y_test,y_predict)]),ignore_index=True)\n"
     ]
    }
   ],
   "source": [
    "y_predict= rf_model.predict(X_test)\n",
    "model_scores= model_scores.append(pd.Series([*report_scores(y_test,y_predict)]),ignore_index=True)\n",
    "rows+=[\"Random Forest\"]"
   ]
  },
  {
   "cell_type": "markdown",
   "id": "6ff940ce",
   "metadata": {},
   "source": [
    "## SVC "
   ]
  },
  {
   "cell_type": "code",
   "execution_count": null,
   "id": "eefd44a8",
   "metadata": {},
   "outputs": [],
   "source": [
    "svc_random_search= SVC_random_search(X_train,y_train)"
   ]
  },
  {
   "cell_type": "code",
   "execution_count": null,
   "id": "a6605869",
   "metadata": {},
   "outputs": [],
   "source": [
    "hp= {\"kernel\":['rbf'],\n",
    "     'gamma':[15],\n",
    "     'C':np.arange(23,27,1)}\n",
    "svc_model,grid= SVC_grid(X_train,y_train,hp)"
   ]
  },
  {
   "cell_type": "code",
   "execution_count": null,
   "id": "3a77ae46",
   "metadata": {},
   "outputs": [],
   "source": [
    "y_predict= svc_model.predict(X_test)\n",
    "model_scores= model_scores.append(pd.Series([*report_scores(y_test,y_predict)]),ignore_index=True)\n",
    "rows+=[\"SVC\"]"
   ]
  },
  {
   "cell_type": "markdown",
   "id": "0d1ab3fe",
   "metadata": {},
   "source": [
    "## XGBoost"
   ]
  },
  {
   "cell_type": "code",
   "execution_count": null,
   "id": "a445b9d6",
   "metadata": {},
   "outputs": [],
   "source": [
    "#xgb, rand_Search = XGB_random_Search(X_train,y_train)\n",
    "xgb = XGB.XGBClassifier(**{'max_depth': 8, 'learning_rate': 0.2, 'gamma': 0.0})\n",
    "xgb.fit(X_train,y_train)"
   ]
  },
  {
   "cell_type": "code",
   "execution_count": null,
   "id": "861ba7a8",
   "metadata": {},
   "outputs": [],
   "source": [
    "y_predict= xgb.predict(X_test)\n",
    "model_scores= model_scores.append(pd.Series([*report_scores(y_test,y_predict)]),ignore_index=True)\n",
    "rows+=[\"XGBoost\"]"
   ]
  },
  {
   "cell_type": "markdown",
   "id": "603ec04e",
   "metadata": {},
   "source": [
    "## Score Summary "
   ]
  },
  {
   "cell_type": "code",
   "execution_count": null,
   "id": "72998222",
   "metadata": {},
   "outputs": [],
   "source": []
  },
  {
   "cell_type": "markdown",
   "id": "333f376b",
   "metadata": {},
   "source": [
    "## Feature Importance "
   ]
  },
  {
   "cell_type": "code",
   "execution_count": 56,
   "id": "50045afc",
   "metadata": {
    "scrolled": false
   },
   "outputs": [
    {
     "data": {
      "text/plain": [
       "array([[-0.02230792,  0.04410101, -0.04191574,  0.22018496, -0.28178055,\n",
       "         0.48875176, -0.08393867,  0.45711301, -0.47401087,  0.25150479,\n",
       "        -0.30777302, -0.19639953, -0.70326747, -0.21239091,  0.04365547,\n",
       "        -0.37226701, -1.90416958, -0.89407683, -1.63918018, -1.32980639,\n",
       "        -3.31658131, -3.11532032, -2.36926283]])"
      ]
     },
     "execution_count": 56,
     "metadata": {},
     "output_type": "execute_result"
    }
   ],
   "source": [
    "lr_list[3].coef_\n"
   ]
  },
  {
   "cell_type": "code",
   "execution_count": 66,
   "id": "1ca2b78a",
   "metadata": {},
   "outputs": [
    {
     "data": {
      "text/html": [
       "<div>\n",
       "<style scoped>\n",
       "    .dataframe tbody tr th:only-of-type {\n",
       "        vertical-align: middle;\n",
       "    }\n",
       "\n",
       "    .dataframe tbody tr th {\n",
       "        vertical-align: top;\n",
       "    }\n",
       "\n",
       "    .dataframe thead th {\n",
       "        text-align: right;\n",
       "    }\n",
       "</style>\n",
       "<table border=\"1\" class=\"dataframe\">\n",
       "  <thead>\n",
       "    <tr style=\"text-align: right;\">\n",
       "      <th></th>\n",
       "      <th>features</th>\n",
       "      <th>coef</th>\n",
       "    </tr>\n",
       "  </thead>\n",
       "  <tbody>\n",
       "    <tr>\n",
       "      <th>0</th>\n",
       "      <td>cons_12m</td>\n",
       "      <td>[-0.022307919033118927]</td>\n",
       "    </tr>\n",
       "    <tr>\n",
       "      <th>1</th>\n",
       "      <td>cons_gas_12m</td>\n",
       "      <td>[0.04410100564045784]</td>\n",
       "    </tr>\n",
       "    <tr>\n",
       "      <th>2</th>\n",
       "      <td>forecast_cons_12m</td>\n",
       "      <td>[-0.04191574252633324]</td>\n",
       "    </tr>\n",
       "    <tr>\n",
       "      <th>3</th>\n",
       "      <td>forecast_meter_rent_12m</td>\n",
       "      <td>[0.22018495700045543]</td>\n",
       "    </tr>\n",
       "    <tr>\n",
       "      <th>4</th>\n",
       "      <td>forecast_price_energy_off_peak</td>\n",
       "      <td>[-0.281780548196265]</td>\n",
       "    </tr>\n",
       "    <tr>\n",
       "      <th>5</th>\n",
       "      <td>forecast_price_pow_off_peak</td>\n",
       "      <td>[0.4887517616778257]</td>\n",
       "    </tr>\n",
       "    <tr>\n",
       "      <th>6</th>\n",
       "      <td>imp_cons</td>\n",
       "      <td>[-0.08393867329472988]</td>\n",
       "    </tr>\n",
       "    <tr>\n",
       "      <th>7</th>\n",
       "      <td>margin_gross_pow_ele</td>\n",
       "      <td>[0.4571130073122183]</td>\n",
       "    </tr>\n",
       "    <tr>\n",
       "      <th>8</th>\n",
       "      <td>nb_prod_act</td>\n",
       "      <td>[-0.4740108733702763]</td>\n",
       "    </tr>\n",
       "    <tr>\n",
       "      <th>9</th>\n",
       "      <td>net_margin</td>\n",
       "      <td>[0.25150479102534024]</td>\n",
       "    </tr>\n",
       "    <tr>\n",
       "      <th>10</th>\n",
       "      <td>num_years_antig</td>\n",
       "      <td>[-0.30777301812242364]</td>\n",
       "    </tr>\n",
       "    <tr>\n",
       "      <th>11</th>\n",
       "      <td>pow_max</td>\n",
       "      <td>[-0.1963995304933476]</td>\n",
       "    </tr>\n",
       "    <tr>\n",
       "      <th>12</th>\n",
       "      <td>date_end_offpeak</td>\n",
       "      <td>[-0.7032674674749896]</td>\n",
       "    </tr>\n",
       "    <tr>\n",
       "      <th>13</th>\n",
       "      <td>date_end_peak</td>\n",
       "      <td>[-0.21239091271542204]</td>\n",
       "    </tr>\n",
       "    <tr>\n",
       "      <th>14</th>\n",
       "      <td>date_renewal_offpeak</td>\n",
       "      <td>[0.04365546584304424]</td>\n",
       "    </tr>\n",
       "    <tr>\n",
       "      <th>15</th>\n",
       "      <td>date_renewal_peak</td>\n",
       "      <td>[-0.3722670120572327]</td>\n",
       "    </tr>\n",
       "    <tr>\n",
       "      <th>16</th>\n",
       "      <td>channel_sales_ewpakwlliwisiwduibdlfmalxowmwpci</td>\n",
       "      <td>[-1.904169582062738]</td>\n",
       "    </tr>\n",
       "    <tr>\n",
       "      <th>17</th>\n",
       "      <td>channel_sales_foosdfpfkusacimwkcsosbicdxkicaua</td>\n",
       "      <td>[-0.89407682994827]</td>\n",
       "    </tr>\n",
       "    <tr>\n",
       "      <th>18</th>\n",
       "      <td>channel_sales_lmkebamcaaclubfxadlmueccxoimlema</td>\n",
       "      <td>[-1.6391801766460319]</td>\n",
       "    </tr>\n",
       "    <tr>\n",
       "      <th>19</th>\n",
       "      <td>channel_sales_usilxuppasemubllopkaafesmlibmsdf</td>\n",
       "      <td>[-1.3298063944394045]</td>\n",
       "    </tr>\n",
       "    <tr>\n",
       "      <th>20</th>\n",
       "      <td>origin_up_kamkkxfxxuwbdslkwifmmcsiusiuosws</td>\n",
       "      <td>[-3.3165813101737243]</td>\n",
       "    </tr>\n",
       "    <tr>\n",
       "      <th>21</th>\n",
       "      <td>origin_up_ldkssxwpmemidmecebumciepifcamkci</td>\n",
       "      <td>[-3.115320320573654]</td>\n",
       "    </tr>\n",
       "    <tr>\n",
       "      <th>22</th>\n",
       "      <td>origin_up_lxidpiddsbxsbosboudacockeimpuepw</td>\n",
       "      <td>[-2.3692628304080494]</td>\n",
       "    </tr>\n",
       "  </tbody>\n",
       "</table>\n",
       "</div>"
      ],
      "text/plain": [
       "                                          features                     coef\n",
       "0                                         cons_12m  [-0.022307919033118927]\n",
       "1                                     cons_gas_12m    [0.04410100564045784]\n",
       "2                                forecast_cons_12m   [-0.04191574252633324]\n",
       "3                          forecast_meter_rent_12m    [0.22018495700045543]\n",
       "4                   forecast_price_energy_off_peak     [-0.281780548196265]\n",
       "5                      forecast_price_pow_off_peak     [0.4887517616778257]\n",
       "6                                         imp_cons   [-0.08393867329472988]\n",
       "7                             margin_gross_pow_ele     [0.4571130073122183]\n",
       "8                                      nb_prod_act    [-0.4740108733702763]\n",
       "9                                       net_margin    [0.25150479102534024]\n",
       "10                                 num_years_antig   [-0.30777301812242364]\n",
       "11                                         pow_max    [-0.1963995304933476]\n",
       "12                                date_end_offpeak    [-0.7032674674749896]\n",
       "13                                   date_end_peak   [-0.21239091271542204]\n",
       "14                            date_renewal_offpeak    [0.04365546584304424]\n",
       "15                               date_renewal_peak    [-0.3722670120572327]\n",
       "16  channel_sales_ewpakwlliwisiwduibdlfmalxowmwpci     [-1.904169582062738]\n",
       "17  channel_sales_foosdfpfkusacimwkcsosbicdxkicaua      [-0.89407682994827]\n",
       "18  channel_sales_lmkebamcaaclubfxadlmueccxoimlema    [-1.6391801766460319]\n",
       "19  channel_sales_usilxuppasemubllopkaafesmlibmsdf    [-1.3298063944394045]\n",
       "20      origin_up_kamkkxfxxuwbdslkwifmmcsiusiuosws    [-3.3165813101737243]\n",
       "21      origin_up_ldkssxwpmemidmecebumciepifcamkci     [-3.115320320573654]\n",
       "22      origin_up_lxidpiddsbxsbosboudacockeimpuepw    [-2.3692628304080494]"
      ]
     },
     "execution_count": 66,
     "metadata": {},
     "output_type": "execute_result"
    }
   ],
   "source": [
    "pd.DataFrame(zip(data_list[3][0].columns, np.transpose(lr_list[3].coef_)), \n",
    "             columns=['features', 'coef'])"
   ]
  },
  {
   "cell_type": "code",
   "execution_count": 71,
   "id": "181d8b28",
   "metadata": {},
   "outputs": [
    {
     "data": {
      "text/html": [
       "<div>\n",
       "<style scoped>\n",
       "    .dataframe tbody tr th:only-of-type {\n",
       "        vertical-align: middle;\n",
       "    }\n",
       "\n",
       "    .dataframe tbody tr th {\n",
       "        vertical-align: top;\n",
       "    }\n",
       "\n",
       "    .dataframe thead th {\n",
       "        text-align: right;\n",
       "    }\n",
       "</style>\n",
       "<table border=\"1\" class=\"dataframe\">\n",
       "  <thead>\n",
       "    <tr style=\"text-align: right;\">\n",
       "      <th></th>\n",
       "      <th>features</th>\n",
       "      <th>coef</th>\n",
       "      <th>Beta</th>\n",
       "    </tr>\n",
       "  </thead>\n",
       "  <tbody>\n",
       "    <tr>\n",
       "      <th>0</th>\n",
       "      <td>cons_12m</td>\n",
       "      <td>[-0.03491351501838367]</td>\n",
       "      <td>[0.9656889302355405]</td>\n",
       "    </tr>\n",
       "    <tr>\n",
       "      <th>1</th>\n",
       "      <td>cons_gas_12m</td>\n",
       "      <td>[-0.16671556803217716]</td>\n",
       "      <td>[0.8464403317904851]</td>\n",
       "    </tr>\n",
       "    <tr>\n",
       "      <th>2</th>\n",
       "      <td>forecast_meter_rent_12m</td>\n",
       "      <td>[0.21674760776190163]</td>\n",
       "      <td>[1.242030583695812]</td>\n",
       "    </tr>\n",
       "    <tr>\n",
       "      <th>3</th>\n",
       "      <td>forecast_price_energy_off_peak</td>\n",
       "      <td>[-0.03222730606941192]</td>\n",
       "      <td>[0.9682864596733528]</td>\n",
       "    </tr>\n",
       "    <tr>\n",
       "      <th>4</th>\n",
       "      <td>imp_cons</td>\n",
       "      <td>[-0.0805694699256679]</td>\n",
       "      <td>[0.9225908090425348]</td>\n",
       "    </tr>\n",
       "    <tr>\n",
       "      <th>5</th>\n",
       "      <td>margin_gross_pow_ele</td>\n",
       "      <td>[0.3186635489685819]</td>\n",
       "      <td>[1.375288529812109]</td>\n",
       "    </tr>\n",
       "    <tr>\n",
       "      <th>6</th>\n",
       "      <td>net_margin</td>\n",
       "      <td>[0.17044218542095893]</td>\n",
       "      <td>[1.1858290917422052]</td>\n",
       "    </tr>\n",
       "    <tr>\n",
       "      <th>7</th>\n",
       "      <td>num_years_antig</td>\n",
       "      <td>[-0.30619214876672624]</td>\n",
       "      <td>[0.7362451372685872]</td>\n",
       "    </tr>\n",
       "    <tr>\n",
       "      <th>8</th>\n",
       "      <td>pow_max</td>\n",
       "      <td>[-0.1284642941496639]</td>\n",
       "      <td>[0.8794449631880514]</td>\n",
       "    </tr>\n",
       "    <tr>\n",
       "      <th>9</th>\n",
       "      <td>date_end_offpeak</td>\n",
       "      <td>[-0.7330866525275379]</td>\n",
       "      <td>[0.4804237978033315]</td>\n",
       "    </tr>\n",
       "    <tr>\n",
       "      <th>10</th>\n",
       "      <td>date_end_peak</td>\n",
       "      <td>[-0.7223997809564754]</td>\n",
       "      <td>[0.48558555763572064]</td>\n",
       "    </tr>\n",
       "    <tr>\n",
       "      <th>11</th>\n",
       "      <td>channel_sales_ewpakwlliwisiwduibdlfmalxowmwpci</td>\n",
       "      <td>[-1.7978480299434048]</td>\n",
       "      <td>[0.1656549895016491]</td>\n",
       "    </tr>\n",
       "    <tr>\n",
       "      <th>12</th>\n",
       "      <td>channel_sales_foosdfpfkusacimwkcsosbicdxkicaua</td>\n",
       "      <td>[-0.7689313801366029]</td>\n",
       "      <td>[0.463508117735752]</td>\n",
       "    </tr>\n",
       "    <tr>\n",
       "      <th>13</th>\n",
       "      <td>channel_sales_lmkebamcaaclubfxadlmueccxoimlema</td>\n",
       "      <td>[-1.5450450290364375]</td>\n",
       "      <td>[0.2133022662111472]</td>\n",
       "    </tr>\n",
       "    <tr>\n",
       "      <th>14</th>\n",
       "      <td>channel_sales_usilxuppasemubllopkaafesmlibmsdf</td>\n",
       "      <td>[-1.1825949354767609]</td>\n",
       "      <td>[0.3064824037666934]</td>\n",
       "    </tr>\n",
       "    <tr>\n",
       "      <th>15</th>\n",
       "      <td>origin_up_kamkkxfxxuwbdslkwifmmcsiusiuosws</td>\n",
       "      <td>[-3.176346655600032]</td>\n",
       "      <td>[0.041737859700013424]</td>\n",
       "    </tr>\n",
       "    <tr>\n",
       "      <th>16</th>\n",
       "      <td>origin_up_ldkssxwpmemidmecebumciepifcamkci</td>\n",
       "      <td>[-2.9788432087876995]</td>\n",
       "      <td>[0.050851624566488764]</td>\n",
       "    </tr>\n",
       "    <tr>\n",
       "      <th>17</th>\n",
       "      <td>origin_up_lxidpiddsbxsbosboudacockeimpuepw</td>\n",
       "      <td>[-2.333583513840673]</td>\n",
       "      <td>[0.09694771040278556]</td>\n",
       "    </tr>\n",
       "  </tbody>\n",
       "</table>\n",
       "</div>"
      ],
      "text/plain": [
       "                                          features                    coef  \\\n",
       "0                                         cons_12m  [-0.03491351501838367]   \n",
       "1                                     cons_gas_12m  [-0.16671556803217716]   \n",
       "2                          forecast_meter_rent_12m   [0.21674760776190163]   \n",
       "3                   forecast_price_energy_off_peak  [-0.03222730606941192]   \n",
       "4                                         imp_cons   [-0.0805694699256679]   \n",
       "5                             margin_gross_pow_ele    [0.3186635489685819]   \n",
       "6                                       net_margin   [0.17044218542095893]   \n",
       "7                                  num_years_antig  [-0.30619214876672624]   \n",
       "8                                          pow_max   [-0.1284642941496639]   \n",
       "9                                 date_end_offpeak   [-0.7330866525275379]   \n",
       "10                                   date_end_peak   [-0.7223997809564754]   \n",
       "11  channel_sales_ewpakwlliwisiwduibdlfmalxowmwpci   [-1.7978480299434048]   \n",
       "12  channel_sales_foosdfpfkusacimwkcsosbicdxkicaua   [-0.7689313801366029]   \n",
       "13  channel_sales_lmkebamcaaclubfxadlmueccxoimlema   [-1.5450450290364375]   \n",
       "14  channel_sales_usilxuppasemubllopkaafesmlibmsdf   [-1.1825949354767609]   \n",
       "15      origin_up_kamkkxfxxuwbdslkwifmmcsiusiuosws    [-3.176346655600032]   \n",
       "16      origin_up_ldkssxwpmemidmecebumciepifcamkci   [-2.9788432087876995]   \n",
       "17      origin_up_lxidpiddsbxsbosboudacockeimpuepw    [-2.333583513840673]   \n",
       "\n",
       "                      Beta  \n",
       "0     [0.9656889302355405]  \n",
       "1     [0.8464403317904851]  \n",
       "2      [1.242030583695812]  \n",
       "3     [0.9682864596733528]  \n",
       "4     [0.9225908090425348]  \n",
       "5      [1.375288529812109]  \n",
       "6     [1.1858290917422052]  \n",
       "7     [0.7362451372685872]  \n",
       "8     [0.8794449631880514]  \n",
       "9     [0.4804237978033315]  \n",
       "10   [0.48558555763572064]  \n",
       "11    [0.1656549895016491]  \n",
       "12     [0.463508117735752]  \n",
       "13    [0.2133022662111472]  \n",
       "14    [0.3064824037666934]  \n",
       "15  [0.041737859700013424]  \n",
       "16  [0.050851624566488764]  \n",
       "17   [0.09694771040278556]  "
      ]
     },
     "execution_count": 71,
     "metadata": {},
     "output_type": "execute_result"
    }
   ],
   "source": [
    "coeff= np.transpose(lr_list[5].coef_)\n",
    "pd.DataFrame(zip(data_list[5][0].columns, np.transpose(lr_list[5].coef_),np.exp(coeff)), \n",
    "             columns=['features', 'coef','Beta'])"
   ]
  },
  {
   "cell_type": "markdown",
   "id": "003a9b82",
   "metadata": {},
   "source": [
    "coefficients cannot be very helpful this is due to the fact that there like lots of techincal info that are fully numerical represented in the first 10 columns. and other non-technical columns rpresented in the last 7 columns \n",
    "However we can drew the following conclusions\n",
    "#### For Categorical and ordinal data  \n",
    "1. The whole three origin up distributions that e have does reduce the rate of churn ability with a ratio of >90 whih is a little oddd thing. This observation makes me feel\n",
    "       - it did overfit on this column or there was not a difference between those those channels\n",
    "       - rather the challenge did exist if there is origin up dsitribution or not. This implies that we can shorten these three columns into only 1 column \"has orgin_up\" or not\n",
    "\n",
    "2. The varience in importance in the channel sales was significant where different channel sales, reduced the churn rate with different ratio with haveing the \"ewpakwlliwisiwduibdlfmalxowmwpci\" is the best as it reduced the chur with 84%\n",
    "\n",
    "3. num_years_antig: Every year does the client spend with us ddoes reduce his churn rate with 27% <B>from the year before</B> \n",
    "\n",
    "#### For Numerical Data \n",
    "\n"
   ]
  },
  {
   "cell_type": "raw",
   "id": "6722ddbb",
   "metadata": {},
   "source": [
    "The smoking group has a 1.46 times the odds of the non-smoking group of having heart disease.The smoking group has a 1.46 times the odds of the non-smoking group of having heart disease.\n",
    "\n",
    "If β = – 0.38, then eβ = 0.68 and the interpretation becomes: smoking is associated with a 32% (1 – 0.68 = 0.32) reduction in the relative risk of heart disease."
   ]
  },
  {
   "cell_type": "code",
   "execution_count": 15,
   "id": "d32f61f6",
   "metadata": {},
   "outputs": [
    {
     "data": {
      "image/png": "[encoded data removed]",
      "text/plain": [
       "<Figure size 504x504 with 1 Axes>"
      ]
     },
     "metadata": {
      "needs_background": "light"
     },
     "output_type": "display_data"
    }
   ],
   "source": [
    "plt.figure(figsize=(7,7))\n",
    "feat_importances = pd.Series(rf_model.feature_importances_, index = X_train.columns).sort_values(ascending = True)\n",
    "feat_importances.plot(kind = 'barh');\n"
   ]
  },
  {
   "cell_type": "code",
   "execution_count": 24,
   "id": "63cb0de8",
   "metadata": {},
   "outputs": [
    {
     "data": {
      "image/png": "[encoded data removed]",
      "text/plain": [
       "<Figure size 1080x360 with 2 Axes>"
      ]
     },
     "metadata": {
      "needs_background": "light"
     },
     "output_type": "display_data"
    }
   ],
   "source": [
    "from sklearn.inspection import permutation_importance\n",
    "#calculate permutation importance for test data \n",
    "result_test = permutation_importance(\n",
    "    rf_model, X_test, y_test, n_repeats=20, random_state=42, n_jobs=2\n",
    ")\n",
    "\n",
    "sorted_importances_idx_test = result_test.importances_mean.argsort()\n",
    "importances_test = pd.DataFrame(\n",
    "    result_test.importances[sorted_importances_idx_test].T,\n",
    "    columns=X_train.columns[sorted_importances_idx_test],\n",
    ")\n",
    "\n",
    "#calculate permutation importance for training data \n",
    "result_train = permutation_importance(\n",
    "    rf_model, X_train, y_train, n_repeats=20, random_state=42, n_jobs=2\n",
    ")\n",
    "\n",
    "sorted_importances_idx_train = result_train.importances_mean.argsort()\n",
    "importances_train = pd.DataFrame(\n",
    "    result_train.importances[sorted_importances_idx_train].T,\n",
    "    columns=X_train.columns[sorted_importances_idx_train],\n",
    ")\n",
    "\n",
    "f, axs = plt.subplots(1,2,figsize=(15,5))\n",
    "\n",
    "importances_test.plot.box(vert=False, whis=10, ax = axs[0])\n",
    "axs[0].set_title(\"Permutation Importances (test set)\")\n",
    "axs[0].axvline(x=0, color=\"k\", linestyle=\"--\")\n",
    "axs[0].set_xlabel(\"Decrease in accuracy score\")\n",
    "axs[0].figure.tight_layout()\n",
    "\n",
    "importances_train.plot.box(vert=False, whis=10, ax = axs[1])\n",
    "axs[1].set_title(\"Permutation Importances (train set)\")\n",
    "axs[1].axvline(x=0, color=\"k\", linestyle=\"--\")\n",
    "axs[1].set_xlabel(\"Decrease in accuracy score\")\n",
    "axs[1].figure.tight_layout()"
   ]
  },
  {
   "cell_type": "code",
   "execution_count": 31,
   "id": "f3821e42",
   "metadata": {},
   "outputs": [],
   "source": [
    "\n",
    "def random_forest_random_search(X_train,y_train):\n",
    "    random_grid = {\"criterion\":['gini'],\n",
    "                   'max_depth':np.arange(10,100,10),\n",
    "                   'min_samples_split':np.arange(5,50,5),\n",
    "                   'min_samples_leaf':np.arange(5,50,5) }\n",
    "\n",
    "\n",
    "    RF = RandomForestClassifier()\n",
    "    rand = RandomizedSearchCV(RF, random_grid, cv=5, scoring='roc_auc',n_jobs=-1)\n",
    "    random_search=rand.fit(X_train, y_train)\n",
    "\n",
    "    print(random_search.best_params_)\n",
    "    print('Best Acc = ', random_search.best_score_*100)\n",
    "    RF = RandomForestClassifier(**random_search.best_params_)\n",
    "    RF.fit(X_train,y_train)\n",
    "    return RF, random_search"
   ]
  },
  {
   "cell_type": "code",
   "execution_count": 32,
   "id": "8b9bc002",
   "metadata": {},
   "outputs": [
    {
     "name": "stdout",
     "output_type": "stream",
     "text": [
      "{'min_samples_split': 35, 'min_samples_leaf': 10, 'max_depth': 40, 'criterion': 'gini'}\n",
      "Best Acc =  94.44556425579182\n"
     ]
    }
   ],
   "source": [
    "rf,_= random_forest_random_search(X_train,y_train)"
   ]
  },
  {
   "cell_type": "code",
   "execution_count": 33,
   "id": "6b4bb16a",
   "metadata": {},
   "outputs": [
    {
     "name": "stdout",
     "output_type": "stream",
     "text": [
      "Accuracy Score: 83.56 || precision accuracy: 18.57  || recall accuracy 21.26 || f1_weighted 84.05 || Area under curve 55.70\n",
      "Confusion matrix \n",
      "[[1765  193]\n",
      " [ 163   44]]\n"
     ]
    }
   ],
   "source": [
    "y_predict= rf.predict(X_test)\n",
    "scores = report_scores(y_test,y_predict)"
   ]
  },
  {
   "cell_type": "code",
   "execution_count": 34,
   "id": "87964c72",
   "metadata": {},
   "outputs": [
    {
     "data": {
      "image/png": "[encoded data removed]",
      "text/plain": [
       "<Figure size 504x504 with 1 Axes>"
      ]
     },
     "metadata": {
      "needs_background": "light"
     },
     "output_type": "display_data"
    }
   ],
   "source": [
    "plt.figure(figsize=(7,7))\n",
    "feat_importances = pd.Series(rf_model.feature_importances_, index = X_train.columns).sort_values(ascending = True)\n",
    "feat_importances.plot(kind = 'barh');"
   ]
  },
  {
   "cell_type": "code",
   "execution_count": 35,
   "id": "be3c2b37",
   "metadata": {},
   "outputs": [
    {
     "data": {
      "text/plain": [
       "RandomForestClassifier(max_depth=10, min_samples_leaf=10, min_samples_split=35)"
      ]
     },
     "execution_count": 35,
     "metadata": {},
     "output_type": "execute_result"
    }
   ],
   "source": [
    "RF = RandomForestClassifier(**{'min_samples_split': 35, 'min_samples_leaf': 10, 'max_depth': 10, 'criterion': 'gini'})\n",
    "RF.fit(X_train,y_train)\n"
   ]
  },
  {
   "cell_type": "code",
   "execution_count": 38,
   "id": "3d485017",
   "metadata": {},
   "outputs": [
    {
     "name": "stdout",
     "output_type": "stream",
     "text": [
      "{'min_samples_split': 5, 'min_samples_leaf': 10, 'max_depth': 80, 'criterion': 'gini'}\n",
      "Best Acc =  94.85926245703331\n"
     ]
    }
   ],
   "source": [
    "X_train,X_test, y_train, y_test= data_list[5]\n",
    "rf, rf_random_search = random_forest_random_search(X_train,y_train)"
   ]
  },
  {
   "cell_type": "code",
   "execution_count": 40,
   "id": "26ddaf97",
   "metadata": {},
   "outputs": [
    {
     "name": "stdout",
     "output_type": "stream",
     "text": [
      "Accuracy Score: 84.71 || precision accuracy: 22.07  || recall accuracy 23.67 || f1_weighted 84.95 || Area under curve 57.42\n",
      "Confusion matrix \n",
      "[[1785  173]\n",
      " [ 158   49]]\n"
     ]
    },
    {
     "data": {
      "image/png": "[encoded data removed]",
      "text/plain": [
       "<Figure size 504x504 with 1 Axes>"
      ]
     },
     "metadata": {
      "needs_background": "light"
     },
     "output_type": "display_data"
    }
   ],
   "source": [
    "y_predict= rf.predict(X_test)\n",
    "scores = report_scores(y_test,y_predict)\n",
    "plt.figure(figsize=(7,7))\n",
    "feat_importances = pd.Series(rf.feature_importances_, index = X_train.columns).sort_values(ascending = True)\n",
    "feat_importances.plot(kind = 'barh');"
   ]
  },
  {
   "cell_type": "code",
   "execution_count": 26,
   "id": "91988200",
   "metadata": {},
   "outputs": [],
   "source": [
    "data= pd.read_csv(\"FE.csv\",index_col=False)\n",
    "data.head()\n",
    "data.drop(columns=[\"mean_year_price_p1\",\"mean_year_price_p2\",\"mean_year_price_p3\"],inplace=True)\n",
    "#[\"price_off_peak_var\",\"price_peak_var\",\"price_mid_peak_var\" ,\"price_off_peak_fix\" ,\"price_peak_fix\" ,\"price_mid_peak_fix\" ]"
   ]
  },
  {
   "cell_type": "code",
   "execution_count": null,
   "id": "e8a3718f",
   "metadata": {},
   "outputs": [],
   "source": [
    "data_list= []\n",
    "for i in range(1,3):\n",
    "    X_train, X_test, y_train, y_test= simple_pipeline(data.copy(),i)\n",
    "    data_list.append((X_train, X_test, y_train, y_test))\n",
    "print(\"upsampled data \\n\",data_list[0][2].value_counts())\n",
    "print(\"up and sampled data \\n\",data_list[1][2].value_counts())"
   ]
  },
  {
   "cell_type": "code",
   "execution_count": 22,
   "id": "a6f546ce",
   "metadata": {},
   "outputs": [
    {
     "name": "stdout",
     "output_type": "stream",
     "text": [
      "{'C': 3.0, 'penalty': 'l2'}\n",
      "Best Acc =  71.23876245283437\n",
      "Accuracy Score: 66.59 || precision accuracy: 13.60  || recall accuracy 39.74 || f1_weighted 72.61 || Area under curve 54.77\n",
      "Confusion matrix \n",
      "[[1366  591]\n",
      " [ 141   93]]\n",
      "----------------------\n"
     ]
    },
    {
     "name": "stderr",
     "output_type": "stream",
     "text": [
      "/tmp/ipykernel_5996/705029417.py:8: FutureWarning: The frame.append method is deprecated and will be removed from pandas in a future version. Use pandas.concat instead.\n",
      "  score_dataframe= score_dataframe.append(pd.Series([*report_scores(y_test,y_predict)]),ignore_index=True)\n"
     ]
    },
    {
     "name": "stdout",
     "output_type": "stream",
     "text": [
      "{'C': 4.5, 'penalty': 'l2'}\n",
      "Best Acc =  70.38869306012717\n",
      "Accuracy Score: 66.27 || precision accuracy: 13.35  || recall accuracy 39.32 || f1_weighted 72.37 || Area under curve 54.41\n",
      "Confusion matrix \n",
      "[[1360  597]\n",
      " [ 142   92]]\n",
      "----------------------\n"
     ]
    },
    {
     "name": "stderr",
     "output_type": "stream",
     "text": [
      "/tmp/ipykernel_5996/705029417.py:8: FutureWarning: The frame.append method is deprecated and will be removed from pandas in a future version. Use pandas.concat instead.\n",
      "  score_dataframe= score_dataframe.append(pd.Series([*report_scores(y_test,y_predict)]),ignore_index=True)\n"
     ]
    }
   ],
   "source": [
    "lr_list=[]\n",
    "for i,data in enumerate(data_list):\n",
    "    X_train,X_test, y_train, y_test= data\n",
    "    \n",
    "    lr,gr = logistic_regression(X_train, y_train)\n",
    "    y_predict= lr.predict(X_test)\n",
    "    \n",
    "    score_dataframe= score_dataframe.append(pd.Series([*report_scores(y_test,y_predict)]),ignore_index=True)\n",
    "    lr_list.append(lr)\n",
    "    print(\"----------------------\")"
   ]
  },
  {
   "cell_type": "code",
   "execution_count": 23,
   "id": "c6171310",
   "metadata": {},
   "outputs": [
    {
     "data": {
      "text/html": [
       "<div>\n",
       "<style scoped>\n",
       "    .dataframe tbody tr th:only-of-type {\n",
       "        vertical-align: middle;\n",
       "    }\n",
       "\n",
       "    .dataframe tbody tr th {\n",
       "        vertical-align: top;\n",
       "    }\n",
       "\n",
       "    .dataframe thead th {\n",
       "        text-align: right;\n",
       "    }\n",
       "</style>\n",
       "<table border=\"1\" class=\"dataframe\">\n",
       "  <thead>\n",
       "    <tr style=\"text-align: right;\">\n",
       "      <th></th>\n",
       "      <th>0</th>\n",
       "      <th>1</th>\n",
       "      <th>2</th>\n",
       "      <th>3</th>\n",
       "      <th>4</th>\n",
       "    </tr>\n",
       "  </thead>\n",
       "  <tbody>\n",
       "    <tr>\n",
       "      <th>0</th>\n",
       "      <td>66.453674</td>\n",
       "      <td>13.537118</td>\n",
       "      <td>39.743590</td>\n",
       "      <td>72.508277</td>\n",
       "      <td>54.695505</td>\n",
       "    </tr>\n",
       "    <tr>\n",
       "      <th>1</th>\n",
       "      <td>66.453674</td>\n",
       "      <td>13.537118</td>\n",
       "      <td>39.743590</td>\n",
       "      <td>72.508277</td>\n",
       "      <td>54.695505</td>\n",
       "    </tr>\n",
       "    <tr>\n",
       "      <th>2</th>\n",
       "      <td>66.408033</td>\n",
       "      <td>13.411079</td>\n",
       "      <td>39.316239</td>\n",
       "      <td>72.467083</td>\n",
       "      <td>54.481829</td>\n",
       "    </tr>\n",
       "    <tr>\n",
       "      <th>3</th>\n",
       "      <td>65.221360</td>\n",
       "      <td>13.636364</td>\n",
       "      <td>42.307692</td>\n",
       "      <td>71.633227</td>\n",
       "      <td>55.134429</td>\n",
       "    </tr>\n",
       "    <tr>\n",
       "      <th>4</th>\n",
       "      <td>65.221360</td>\n",
       "      <td>13.736264</td>\n",
       "      <td>42.735043</td>\n",
       "      <td>71.639220</td>\n",
       "      <td>55.322555</td>\n",
       "    </tr>\n",
       "    <tr>\n",
       "      <th>5</th>\n",
       "      <td>75.125513</td>\n",
       "      <td>16.559140</td>\n",
       "      <td>32.905983</td>\n",
       "      <td>78.455604</td>\n",
       "      <td>56.539859</td>\n",
       "    </tr>\n",
       "    <tr>\n",
       "      <th>6</th>\n",
       "      <td>66.590598</td>\n",
       "      <td>13.596491</td>\n",
       "      <td>39.743590</td>\n",
       "      <td>72.609109</td>\n",
       "      <td>54.772153</td>\n",
       "    </tr>\n",
       "    <tr>\n",
       "      <th>7</th>\n",
       "      <td>66.271109</td>\n",
       "      <td>13.352685</td>\n",
       "      <td>39.316239</td>\n",
       "      <td>72.366204</td>\n",
       "      <td>54.405181</td>\n",
       "    </tr>\n",
       "  </tbody>\n",
       "</table>\n",
       "</div>"
      ],
      "text/plain": [
       "           0          1          2          3          4\n",
       "0  66.453674  13.537118  39.743590  72.508277  54.695505\n",
       "1  66.453674  13.537118  39.743590  72.508277  54.695505\n",
       "2  66.408033  13.411079  39.316239  72.467083  54.481829\n",
       "3  65.221360  13.636364  42.307692  71.633227  55.134429\n",
       "4  65.221360  13.736264  42.735043  71.639220  55.322555\n",
       "5  75.125513  16.559140  32.905983  78.455604  56.539859\n",
       "6  66.590598  13.596491  39.743590  72.609109  54.772153\n",
       "7  66.271109  13.352685  39.316239  72.366204  54.405181"
      ]
     },
     "execution_count": 23,
     "metadata": {},
     "output_type": "execute_result"
    }
   ],
   "source": [
    "score_dataframe"
   ]
  },
  {
   "cell_type": "code",
   "execution_count": 24,
   "id": "f46377c7",
   "metadata": {},
   "outputs": [
    {
     "name": "stdout",
     "output_type": "stream",
     "text": [
      "Accuracy Score: 74.53 || precision accuracy: 14.78  || recall accuracy 29.06 || f1_weighted 77.90 || Area under curve 54.51\n",
      "Confusion matrix \n",
      "[[1565  392]\n",
      " [ 166   68]]\n"
     ]
    },
    {
     "name": "stderr",
     "output_type": "stream",
     "text": [
      "/tmp/ipykernel_5996/3717640442.py:4: FutureWarning: The frame.append method is deprecated and will be removed from pandas in a future version. Use pandas.concat instead.\n",
      "  score_dataframe= score_dataframe.append(pd.Series([*report_scores(y_test,y_predict)]),ignore_index=True)\n"
     ]
    }
   ],
   "source": [
    "rf= RandomForestClassifier(max_depth=10, min_samples_leaf=10, min_samples_split=35)\n",
    "rf.fit(X_train,y_train)\n",
    "y_predict= rf.predict(X_test)\n",
    "score_dataframe= score_dataframe.append(pd.Series([*report_scores(y_test,y_predict)]),ignore_index=True)\n"
   ]
  },
  {
   "cell_type": "code",
   "execution_count": 25,
   "id": "993b5b87",
   "metadata": {},
   "outputs": [
    {
     "data": {
      "text/html": [
       "<div>\n",
       "<style scoped>\n",
       "    .dataframe tbody tr th:only-of-type {\n",
       "        vertical-align: middle;\n",
       "    }\n",
       "\n",
       "    .dataframe tbody tr th {\n",
       "        vertical-align: top;\n",
       "    }\n",
       "\n",
       "    .dataframe thead th {\n",
       "        text-align: right;\n",
       "    }\n",
       "</style>\n",
       "<table border=\"1\" class=\"dataframe\">\n",
       "  <thead>\n",
       "    <tr style=\"text-align: right;\">\n",
       "      <th></th>\n",
       "      <th>0</th>\n",
       "      <th>1</th>\n",
       "      <th>2</th>\n",
       "      <th>3</th>\n",
       "      <th>4</th>\n",
       "    </tr>\n",
       "  </thead>\n",
       "  <tbody>\n",
       "    <tr>\n",
       "      <th>0</th>\n",
       "      <td>66.453674</td>\n",
       "      <td>13.537118</td>\n",
       "      <td>39.743590</td>\n",
       "      <td>72.508277</td>\n",
       "      <td>54.695505</td>\n",
       "    </tr>\n",
       "    <tr>\n",
       "      <th>1</th>\n",
       "      <td>66.453674</td>\n",
       "      <td>13.537118</td>\n",
       "      <td>39.743590</td>\n",
       "      <td>72.508277</td>\n",
       "      <td>54.695505</td>\n",
       "    </tr>\n",
       "    <tr>\n",
       "      <th>2</th>\n",
       "      <td>66.408033</td>\n",
       "      <td>13.411079</td>\n",
       "      <td>39.316239</td>\n",
       "      <td>72.467083</td>\n",
       "      <td>54.481829</td>\n",
       "    </tr>\n",
       "    <tr>\n",
       "      <th>3</th>\n",
       "      <td>65.221360</td>\n",
       "      <td>13.636364</td>\n",
       "      <td>42.307692</td>\n",
       "      <td>71.633227</td>\n",
       "      <td>55.134429</td>\n",
       "    </tr>\n",
       "    <tr>\n",
       "      <th>4</th>\n",
       "      <td>65.221360</td>\n",
       "      <td>13.736264</td>\n",
       "      <td>42.735043</td>\n",
       "      <td>71.639220</td>\n",
       "      <td>55.322555</td>\n",
       "    </tr>\n",
       "    <tr>\n",
       "      <th>5</th>\n",
       "      <td>75.125513</td>\n",
       "      <td>16.559140</td>\n",
       "      <td>32.905983</td>\n",
       "      <td>78.455604</td>\n",
       "      <td>56.539859</td>\n",
       "    </tr>\n",
       "    <tr>\n",
       "      <th>6</th>\n",
       "      <td>66.590598</td>\n",
       "      <td>13.596491</td>\n",
       "      <td>39.743590</td>\n",
       "      <td>72.609109</td>\n",
       "      <td>54.772153</td>\n",
       "    </tr>\n",
       "    <tr>\n",
       "      <th>7</th>\n",
       "      <td>66.271109</td>\n",
       "      <td>13.352685</td>\n",
       "      <td>39.316239</td>\n",
       "      <td>72.366204</td>\n",
       "      <td>54.405181</td>\n",
       "    </tr>\n",
       "    <tr>\n",
       "      <th>8</th>\n",
       "      <td>74.532177</td>\n",
       "      <td>14.782609</td>\n",
       "      <td>29.059829</td>\n",
       "      <td>77.898623</td>\n",
       "      <td>54.514585</td>\n",
       "    </tr>\n",
       "  </tbody>\n",
       "</table>\n",
       "</div>"
      ],
      "text/plain": [
       "           0          1          2          3          4\n",
       "0  66.453674  13.537118  39.743590  72.508277  54.695505\n",
       "1  66.453674  13.537118  39.743590  72.508277  54.695505\n",
       "2  66.408033  13.411079  39.316239  72.467083  54.481829\n",
       "3  65.221360  13.636364  42.307692  71.633227  55.134429\n",
       "4  65.221360  13.736264  42.735043  71.639220  55.322555\n",
       "5  75.125513  16.559140  32.905983  78.455604  56.539859\n",
       "6  66.590598  13.596491  39.743590  72.609109  54.772153\n",
       "7  66.271109  13.352685  39.316239  72.366204  54.405181\n",
       "8  74.532177  14.782609  29.059829  77.898623  54.514585"
      ]
     },
     "execution_count": 25,
     "metadata": {},
     "output_type": "execute_result"
    }
   ],
   "source": [
    "score_dataframe"
   ]
  },
  {
   "cell_type": "code",
   "execution_count": null,
   "id": "df8f2868",
   "metadata": {},
   "outputs": [],
   "source": []
  }
 ],
 "metadata": {
  "kernelspec": {
   "display_name": "Python 3 (ipykernel)",
   "language": "python",
   "name": "python3"
  },
  "language_info": {
   "codemirror_mode": {
    "name": "ipython",
    "version": 3
   },
   "file_extension": ".py",
   "mimetype": "text/x-python",
   "name": "python",
   "nbconvert_exporter": "python",
   "pygments_lexer": "ipython3",
   "version": "3.9.12"
  }
 },
 "nbformat": 4,
 "nbformat_minor": 5
}
